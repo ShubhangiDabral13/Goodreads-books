{
 "cells": [
  {
   "cell_type": "markdown",
   "metadata": {},
   "source": [
    "# Goodreads-books\n"
   ]
  },
  {
   "cell_type": "markdown",
   "metadata": {},
   "source": [
    "<img src=\"Books/book1.jpg\">"
   ]
  },
  {
   "cell_type": "markdown",
   "metadata": {},
   "source": [
    "The basic idea behind analysing the Goodreads dataset is to get a fair idea about the relationships between the multiple attributes a book might have, such as:the aggregrate rating of each book, the trend of the authors over the years and books with numerous languages. With over a hundred thousand ratings, there are books which just tend to become popular as each day seems to pass.\n",
    "\n",
    "We've always conisdered the magical persona books seem to hold, and with this notebook, we step out on a journey to see what kind of books really drives people to read in this era of modern smart devices.\n",
    "\n",
    "With such a vast, overwhelming number of factors, we'll go over such demographics:\n",
    "\n",
    "* Does any relationship lie between ratings and the total ratings given?\n",
    "* Where do majority of the books lie, in terms of ratings - Does reading a book really bring forth bias for the ratings?\n",
    "* Do authors tend to perform same over time, with all their newer books? Or do they just fizzle out.\n",
    "* Do number of pages make an impact on reading styles, ratings and popularity?\n",
    "* Can books be recommended based on ratings? Is that a factor which can work?"
   ]
  },
  {
   "cell_type": "markdown",
   "metadata": {},
   "source": [
    "## 1).Import Module\n",
    "\n",
    "* **Packages Imported** :-\n",
    "\n",
    "    1. sys: access to system parameters\n",
    "    2. numpy : for numerical computation\n",
    "    3. pandas: for data manipulation and analysis\n",
    "    4. matplotlib: plotting library\n",
    "    5. seaborn: plotting library based on matplotlib\n",
    "    6. sklearn: machine learning library"
   ]
  },
  {
   "cell_type": "code",
   "execution_count": 129,
   "metadata": {},
   "outputs": [],
   "source": [
    "# load packages\n",
    "import numpy as np\n",
    "import pandas as pd"
   ]
  },
  {
   "cell_type": "code",
   "execution_count": 130,
   "metadata": {},
   "outputs": [],
   "source": [
    "#import visual modules\n",
    "import seaborn as sns\n",
    "import matplotlib.pyplot as plt\n",
    "sns.set_style(\"whitegrid\")"
   ]
  },
  {
   "cell_type": "code",
   "execution_count": 131,
   "metadata": {},
   "outputs": [
    {
     "name": "stdout",
     "output_type": "stream",
     "text": [
      "Numpy version: 1.15.4\n",
      "Pandas version: 0.23.4\n",
      "Seaborn version: 0.9.0\n"
     ]
    }
   ],
   "source": [
    "## version of packages used\n",
    "print(f'Numpy version: {np.__version__}')\n",
    "print(f'Pandas version: {pd.__version__}')\n",
    "#print(f'Matplotlib version: {plt.__version__}')\n",
    "print(f'Seaborn version: {sns.__version__}')"
   ]
  },
  {
   "cell_type": "markdown",
   "metadata": {},
   "source": [
    "## 2).The Data\n",
    "\n",
    "**The data contain following information :-**\n",
    "\n",
    "* **bookIDA :** unique Identification number for each book.\n",
    "* **title :** The name under which the book was published.\n",
    "* **authors :** Names of the authors of the book. Multiple authors are delimited with/.\n",
    "* **average_rating :** The average rating of the book received in total.\n",
    "* **isbn :** Another unique number to identify the book, the International Standard Book Number.\n",
    "* **isbn13 :** A 13-digit ISBN to identify the book, instead of the standard 11-digit ISBN.\n",
    "* **language_code :** Helps understand what is the primary language of the book. For instance, eng is standard for English.\n",
    "* **num_pages :** Number of pages the book contains.\n",
    "* **ratings_count :** Total number of ratings the book received.\n",
    "* **text_reviews_count :** Total number of written text reviews the book received.\n",
    "* **publication_date :** Date when the book was first published.\n",
    "* **publisher :** The name of the publisher. \n",
    "\n",
    "\n",
    "**Read the data from the books.csv file in Books folder**"
   ]
  },
  {
   "cell_type": "code",
   "execution_count": 132,
   "metadata": {},
   "outputs": [
    {
     "name": "stderr",
     "output_type": "stream",
     "text": [
      "b'Skipping line 3350: expected 12 fields, saw 13\\nSkipping line 4704: expected 12 fields, saw 13\\nSkipping line 5879: expected 12 fields, saw 13\\nSkipping line 8981: expected 12 fields, saw 13\\n'\n"
     ]
    }
   ],
   "source": [
    "#save the data from books.csv in books dataframe\n",
    "books=pd.read_csv(\"Books/books.csv\",error_bad_lines=False)"
   ]
  },
  {
   "cell_type": "markdown",
   "metadata": {},
   "source": [
    "Using head function to display the data in books"
   ]
  },
  {
   "cell_type": "code",
   "execution_count": 133,
   "metadata": {},
   "outputs": [
    {
     "data": {
      "text/html": [
       "<div>\n",
       "<style scoped>\n",
       "    .dataframe tbody tr th:only-of-type {\n",
       "        vertical-align: middle;\n",
       "    }\n",
       "\n",
       "    .dataframe tbody tr th {\n",
       "        vertical-align: top;\n",
       "    }\n",
       "\n",
       "    .dataframe thead th {\n",
       "        text-align: right;\n",
       "    }\n",
       "</style>\n",
       "<table border=\"1\" class=\"dataframe\">\n",
       "  <thead>\n",
       "    <tr style=\"text-align: right;\">\n",
       "      <th></th>\n",
       "      <th>bookID</th>\n",
       "      <th>title</th>\n",
       "      <th>authors</th>\n",
       "      <th>average_rating</th>\n",
       "      <th>isbn</th>\n",
       "      <th>isbn13</th>\n",
       "      <th>language_code</th>\n",
       "      <th>num_pages</th>\n",
       "      <th>ratings_count</th>\n",
       "      <th>text_reviews_count</th>\n",
       "      <th>publication_date</th>\n",
       "      <th>publisher</th>\n",
       "    </tr>\n",
       "  </thead>\n",
       "  <tbody>\n",
       "    <tr>\n",
       "      <th>0</th>\n",
       "      <td>1</td>\n",
       "      <td>Harry Potter and the Half-Blood Prince (Harry ...</td>\n",
       "      <td>J.K. Rowling/Mary GrandPré</td>\n",
       "      <td>4.57</td>\n",
       "      <td>0439785960</td>\n",
       "      <td>9780439785969</td>\n",
       "      <td>eng</td>\n",
       "      <td>652</td>\n",
       "      <td>2095690</td>\n",
       "      <td>27591</td>\n",
       "      <td>9/16/2006</td>\n",
       "      <td>Scholastic Inc.</td>\n",
       "    </tr>\n",
       "    <tr>\n",
       "      <th>1</th>\n",
       "      <td>2</td>\n",
       "      <td>Harry Potter and the Order of the Phoenix (Har...</td>\n",
       "      <td>J.K. Rowling/Mary GrandPré</td>\n",
       "      <td>4.49</td>\n",
       "      <td>0439358078</td>\n",
       "      <td>9780439358071</td>\n",
       "      <td>eng</td>\n",
       "      <td>870</td>\n",
       "      <td>2153167</td>\n",
       "      <td>29221</td>\n",
       "      <td>9/1/2004</td>\n",
       "      <td>Scholastic Inc.</td>\n",
       "    </tr>\n",
       "    <tr>\n",
       "      <th>2</th>\n",
       "      <td>4</td>\n",
       "      <td>Harry Potter and the Chamber of Secrets (Harry...</td>\n",
       "      <td>J.K. Rowling</td>\n",
       "      <td>4.42</td>\n",
       "      <td>0439554896</td>\n",
       "      <td>9780439554893</td>\n",
       "      <td>eng</td>\n",
       "      <td>352</td>\n",
       "      <td>6333</td>\n",
       "      <td>244</td>\n",
       "      <td>11/1/2003</td>\n",
       "      <td>Scholastic</td>\n",
       "    </tr>\n",
       "    <tr>\n",
       "      <th>3</th>\n",
       "      <td>5</td>\n",
       "      <td>Harry Potter and the Prisoner of Azkaban (Harr...</td>\n",
       "      <td>J.K. Rowling/Mary GrandPré</td>\n",
       "      <td>4.56</td>\n",
       "      <td>043965548X</td>\n",
       "      <td>9780439655484</td>\n",
       "      <td>eng</td>\n",
       "      <td>435</td>\n",
       "      <td>2339585</td>\n",
       "      <td>36325</td>\n",
       "      <td>5/1/2004</td>\n",
       "      <td>Scholastic Inc.</td>\n",
       "    </tr>\n",
       "    <tr>\n",
       "      <th>4</th>\n",
       "      <td>8</td>\n",
       "      <td>Harry Potter Boxed Set  Books 1-5 (Harry Potte...</td>\n",
       "      <td>J.K. Rowling/Mary GrandPré</td>\n",
       "      <td>4.78</td>\n",
       "      <td>0439682584</td>\n",
       "      <td>9780439682589</td>\n",
       "      <td>eng</td>\n",
       "      <td>2690</td>\n",
       "      <td>41428</td>\n",
       "      <td>164</td>\n",
       "      <td>9/13/2004</td>\n",
       "      <td>Scholastic</td>\n",
       "    </tr>\n",
       "  </tbody>\n",
       "</table>\n",
       "</div>"
      ],
      "text/plain": [
       "   bookID                                              title  \\\n",
       "0       1  Harry Potter and the Half-Blood Prince (Harry ...   \n",
       "1       2  Harry Potter and the Order of the Phoenix (Har...   \n",
       "2       4  Harry Potter and the Chamber of Secrets (Harry...   \n",
       "3       5  Harry Potter and the Prisoner of Azkaban (Harr...   \n",
       "4       8  Harry Potter Boxed Set  Books 1-5 (Harry Potte...   \n",
       "\n",
       "                      authors  average_rating        isbn         isbn13  \\\n",
       "0  J.K. Rowling/Mary GrandPré            4.57  0439785960  9780439785969   \n",
       "1  J.K. Rowling/Mary GrandPré            4.49  0439358078  9780439358071   \n",
       "2                J.K. Rowling            4.42  0439554896  9780439554893   \n",
       "3  J.K. Rowling/Mary GrandPré            4.56  043965548X  9780439655484   \n",
       "4  J.K. Rowling/Mary GrandPré            4.78  0439682584  9780439682589   \n",
       "\n",
       "  language_code    num_pages  ratings_count  text_reviews_count  \\\n",
       "0           eng          652        2095690               27591   \n",
       "1           eng          870        2153167               29221   \n",
       "2           eng          352           6333                 244   \n",
       "3           eng          435        2339585               36325   \n",
       "4           eng         2690          41428                 164   \n",
       "\n",
       "  publication_date        publisher  \n",
       "0        9/16/2006  Scholastic Inc.  \n",
       "1         9/1/2004  Scholastic Inc.  \n",
       "2        11/1/2003       Scholastic  \n",
       "3         5/1/2004  Scholastic Inc.  \n",
       "4        9/13/2004       Scholastic  "
      ]
     },
     "execution_count": 133,
     "metadata": {},
     "output_type": "execute_result"
    }
   ],
   "source": [
    "#displaying first 5 rows from the books datasset\n",
    "books.head()"
   ]
  },
  {
   "cell_type": "code",
   "execution_count": 134,
   "metadata": {},
   "outputs": [
    {
     "data": {
      "text/plain": [
       "(11123, 12)"
      ]
     },
     "execution_count": 134,
     "metadata": {},
     "output_type": "execute_result"
    }
   ],
   "source": [
    "#using shape funtion to get the number of rows and column of the data.\n",
    "books.shape"
   ]
  },
  {
   "cell_type": "markdown",
   "metadata": {},
   "source": [
    "There are 11123 rows and 12 columns in books dataframe\n"
   ]
  },
  {
   "cell_type": "code",
   "execution_count": 135,
   "metadata": {},
   "outputs": [
    {
     "data": {
      "text/html": [
       "<div>\n",
       "<style scoped>\n",
       "    .dataframe tbody tr th:only-of-type {\n",
       "        vertical-align: middle;\n",
       "    }\n",
       "\n",
       "    .dataframe tbody tr th {\n",
       "        vertical-align: top;\n",
       "    }\n",
       "\n",
       "    .dataframe thead th {\n",
       "        text-align: right;\n",
       "    }\n",
       "</style>\n",
       "<table border=\"1\" class=\"dataframe\">\n",
       "  <thead>\n",
       "    <tr style=\"text-align: right;\">\n",
       "      <th></th>\n",
       "      <th>bookID</th>\n",
       "      <th>average_rating</th>\n",
       "      <th>isbn13</th>\n",
       "      <th>num_pages</th>\n",
       "      <th>ratings_count</th>\n",
       "      <th>text_reviews_count</th>\n",
       "    </tr>\n",
       "  </thead>\n",
       "  <tbody>\n",
       "    <tr>\n",
       "      <th>count</th>\n",
       "      <td>11123.000000</td>\n",
       "      <td>11123.000000</td>\n",
       "      <td>1.112300e+04</td>\n",
       "      <td>11123.000000</td>\n",
       "      <td>1.112300e+04</td>\n",
       "      <td>11123.000000</td>\n",
       "    </tr>\n",
       "    <tr>\n",
       "      <th>mean</th>\n",
       "      <td>21310.856963</td>\n",
       "      <td>3.934075</td>\n",
       "      <td>9.759880e+12</td>\n",
       "      <td>336.405556</td>\n",
       "      <td>1.794285e+04</td>\n",
       "      <td>542.048099</td>\n",
       "    </tr>\n",
       "    <tr>\n",
       "      <th>std</th>\n",
       "      <td>13094.727252</td>\n",
       "      <td>0.350485</td>\n",
       "      <td>4.429758e+11</td>\n",
       "      <td>241.152626</td>\n",
       "      <td>1.124992e+05</td>\n",
       "      <td>2576.619589</td>\n",
       "    </tr>\n",
       "    <tr>\n",
       "      <th>min</th>\n",
       "      <td>1.000000</td>\n",
       "      <td>0.000000</td>\n",
       "      <td>8.987060e+09</td>\n",
       "      <td>0.000000</td>\n",
       "      <td>0.000000e+00</td>\n",
       "      <td>0.000000</td>\n",
       "    </tr>\n",
       "    <tr>\n",
       "      <th>25%</th>\n",
       "      <td>10277.500000</td>\n",
       "      <td>3.770000</td>\n",
       "      <td>9.780345e+12</td>\n",
       "      <td>192.000000</td>\n",
       "      <td>1.040000e+02</td>\n",
       "      <td>9.000000</td>\n",
       "    </tr>\n",
       "    <tr>\n",
       "      <th>50%</th>\n",
       "      <td>20287.000000</td>\n",
       "      <td>3.960000</td>\n",
       "      <td>9.780582e+12</td>\n",
       "      <td>299.000000</td>\n",
       "      <td>7.450000e+02</td>\n",
       "      <td>47.000000</td>\n",
       "    </tr>\n",
       "    <tr>\n",
       "      <th>75%</th>\n",
       "      <td>32104.500000</td>\n",
       "      <td>4.140000</td>\n",
       "      <td>9.780872e+12</td>\n",
       "      <td>416.000000</td>\n",
       "      <td>5.000500e+03</td>\n",
       "      <td>238.000000</td>\n",
       "    </tr>\n",
       "    <tr>\n",
       "      <th>max</th>\n",
       "      <td>45641.000000</td>\n",
       "      <td>5.000000</td>\n",
       "      <td>9.790008e+12</td>\n",
       "      <td>6576.000000</td>\n",
       "      <td>4.597666e+06</td>\n",
       "      <td>94265.000000</td>\n",
       "    </tr>\n",
       "  </tbody>\n",
       "</table>\n",
       "</div>"
      ],
      "text/plain": [
       "             bookID  average_rating        isbn13     num_pages  \\\n",
       "count  11123.000000    11123.000000  1.112300e+04  11123.000000   \n",
       "mean   21310.856963        3.934075  9.759880e+12    336.405556   \n",
       "std    13094.727252        0.350485  4.429758e+11    241.152626   \n",
       "min        1.000000        0.000000  8.987060e+09      0.000000   \n",
       "25%    10277.500000        3.770000  9.780345e+12    192.000000   \n",
       "50%    20287.000000        3.960000  9.780582e+12    299.000000   \n",
       "75%    32104.500000        4.140000  9.780872e+12    416.000000   \n",
       "max    45641.000000        5.000000  9.790008e+12   6576.000000   \n",
       "\n",
       "       ratings_count  text_reviews_count  \n",
       "count   1.112300e+04        11123.000000  \n",
       "mean    1.794285e+04          542.048099  \n",
       "std     1.124992e+05         2576.619589  \n",
       "min     0.000000e+00            0.000000  \n",
       "25%     1.040000e+02            9.000000  \n",
       "50%     7.450000e+02           47.000000  \n",
       "75%     5.000500e+03          238.000000  \n",
       "max     4.597666e+06        94265.000000  "
      ]
     },
     "execution_count": 135,
     "metadata": {},
     "output_type": "execute_result"
    }
   ],
   "source": [
    "#Using describe function to view the statistical details like percentile ,mean,std etc.\n",
    "books.describe()"
   ]
  },
  {
   "cell_type": "markdown",
   "metadata": {},
   "source": [
    "~From the data we got various statistical information like max averge_rating is 5. which means the rating is out of 5."
   ]
  },
  {
   "cell_type": "code",
   "execution_count": 136,
   "metadata": {},
   "outputs": [
    {
     "name": "stdout",
     "output_type": "stream",
     "text": [
      "<class 'pandas.core.frame.DataFrame'>\n",
      "RangeIndex: 11123 entries, 0 to 11122\n",
      "Data columns (total 12 columns):\n",
      "bookID                11123 non-null int64\n",
      "title                 11123 non-null object\n",
      "authors               11123 non-null object\n",
      "average_rating        11123 non-null float64\n",
      "isbn                  11123 non-null object\n",
      "isbn13                11123 non-null int64\n",
      "language_code         11123 non-null object\n",
      "  num_pages           11123 non-null int64\n",
      "ratings_count         11123 non-null int64\n",
      "text_reviews_count    11123 non-null int64\n",
      "publication_date      11123 non-null object\n",
      "publisher             11123 non-null object\n",
      "dtypes: float64(1), int64(5), object(6)\n",
      "memory usage: 1.0+ MB\n"
     ]
    }
   ],
   "source": [
    "#using the info function to get the concise summary of the dataframe\n",
    "books.info()"
   ]
  },
  {
   "cell_type": "markdown",
   "metadata": {},
   "source": [
    " **We get the info that:-**\n",
    "   * bookID ,isbn13 ,num_pages ,ratings_count ,text_reviews_count are of datatype int64\n",
    "   * title ,authors ,isbn ,language_code ,publication_date ,publisher  are of datatype object\n",
    "   * average_rating are of dataype float64\n",
    "   \n",
    "   ~Also the memory required for the books dataframe is about 1.0+ MB\n",
    "   \n",
    "\n",
    "\n",
    "**To make our data small and fast we need to decrease the memory space required by the data**\n",
    "So for that we need to know what exact memory space taken by each column and the exact space of the dataframe."
   ]
  },
  {
   "cell_type": "markdown",
   "metadata": {},
   "source": [
    "## 2).Making dataframe faster and smaller"
   ]
  },
  {
   "cell_type": "code",
   "execution_count": 137,
   "metadata": {},
   "outputs": [
    {
     "name": "stdout",
     "output_type": "stream",
     "text": [
      "<class 'pandas.core.frame.DataFrame'>\n",
      "RangeIndex: 11123 entries, 0 to 11122\n",
      "Data columns (total 12 columns):\n",
      "bookID                11123 non-null int64\n",
      "title                 11123 non-null object\n",
      "authors               11123 non-null object\n",
      "average_rating        11123 non-null float64\n",
      "isbn                  11123 non-null object\n",
      "isbn13                11123 non-null int64\n",
      "language_code         11123 non-null object\n",
      "  num_pages           11123 non-null int64\n",
      "ratings_count         11123 non-null int64\n",
      "text_reviews_count    11123 non-null int64\n",
      "publication_date      11123 non-null object\n",
      "publisher             11123 non-null object\n",
      "dtypes: float64(1), int64(5), object(6)\n",
      "memory usage: 5.2 MB\n"
     ]
    }
   ],
   "source": [
    "#To get exact memory space books dataframe is using\n",
    "books.info(memory_usage = \"deep\")"
   ]
  },
  {
   "cell_type": "markdown",
   "metadata": {},
   "source": [
    "~The total memory usage is 5.2MB"
   ]
  },
  {
   "cell_type": "code",
   "execution_count": 138,
   "metadata": {},
   "outputs": [
    {
     "data": {
      "text/plain": [
       "Index                      80\n",
       "bookID                  88984\n",
       "title                 1044646\n",
       "authors                925543\n",
       "average_rating          88984\n",
       "isbn                   745240\n",
       "isbn13                  88984\n",
       "language_code          670637\n",
       "  num_pages             88984\n",
       "ratings_count           88984\n",
       "text_reviews_count      88984\n",
       "publication_date       731048\n",
       "publisher              806283\n",
       "dtype: int64"
      ]
     },
     "execution_count": 138,
     "metadata": {},
     "output_type": "execute_result"
    }
   ],
   "source": [
    "#to get the memory usage of each individual column\n",
    "books.memory_usage(deep = True)"
   ]
  },
  {
   "cell_type": "markdown",
   "metadata": {},
   "source": [
    "**Making the books dataframe fast and small**\n",
    "* Converting publication_date from object to datetime datatype\n",
    "* Converting language_code from object to category "
   ]
  },
  {
   "cell_type": "code",
   "execution_count": 139,
   "metadata": {},
   "outputs": [],
   "source": [
    "#changing publication_date column from object to dateTime \n",
    "books[\"publication_date\"] = pd.to_datetime(books[\"publication_date\"],  errors='coerce')"
   ]
  },
  {
   "cell_type": "code",
   "execution_count": 140,
   "metadata": {},
   "outputs": [],
   "source": [
    "#changing language_code column from object to category\n",
    "books[\"language_code\"] = books[\"language_code\"].astype(\"category\")"
   ]
  },
  {
   "cell_type": "code",
   "execution_count": 141,
   "metadata": {},
   "outputs": [
    {
     "data": {
      "text/plain": [
       "0    5\n",
       "1    5\n",
       "2    5\n",
       "3    5\n",
       "4    5\n",
       "dtype: int8"
      ]
     },
     "execution_count": 141,
     "metadata": {},
     "output_type": "execute_result"
    }
   ],
   "source": [
    "books[\"language_code\"].cat.codes.head()"
   ]
  },
  {
   "cell_type": "markdown",
   "metadata": {},
   "source": [
    "**why we can remove isbn column from books dataframe?**\n",
    "\n",
    "There are 2 column isbn and isbn13 in books dataframe.isbn consist of 11 digit number assigned to books.But after 2007 13 digit number are assigned to books .Each book has a unique isbn13 and isbn 11. As both are acting as an identity for the books so we can remove one column i.e isbn column because now isbn13 is used."
   ]
  },
  {
   "cell_type": "code",
   "execution_count": 142,
   "metadata": {},
   "outputs": [],
   "source": [
    "#dropping the isbn column.\n",
    "books.drop([\"isbn\"],axis = 1,inplace = True)"
   ]
  },
  {
   "cell_type": "code",
   "execution_count": 15,
   "metadata": {},
   "outputs": [
    {
     "name": "stdout",
     "output_type": "stream",
     "text": [
      "<class 'pandas.core.frame.DataFrame'>\n",
      "RangeIndex: 11123 entries, 0 to 11122\n",
      "Data columns (total 11 columns):\n",
      "bookID                11123 non-null int64\n",
      "title                 11123 non-null object\n",
      "authors               11123 non-null object\n",
      "average_rating        11123 non-null float64\n",
      "isbn13                11123 non-null int64\n",
      "language_code         11123 non-null category\n",
      "  num_pages           11123 non-null int64\n",
      "ratings_count         11123 non-null int64\n",
      "text_reviews_count    11123 non-null int64\n",
      "publication_date      11121 non-null datetime64[ns]\n",
      "publisher             11123 non-null object\n",
      "dtypes: category(1), datetime64[ns](1), float64(1), int64(5), object(3)\n",
      "memory usage: 3.3 MB\n"
     ]
    }
   ],
   "source": [
    "books.info(memory_usage = \"deep\")"
   ]
  },
  {
   "cell_type": "markdown",
   "metadata": {},
   "source": [
    "Now we can see that the memory usage is 3.3 MB from 5.2 MB. \n",
    "this is beneficial cause \n",
    "* will make books dataframe faster.\n",
    "* will become smaller"
   ]
  },
  {
   "cell_type": "code",
   "execution_count": 143,
   "metadata": {},
   "outputs": [
    {
     "name": "stdout",
     "output_type": "stream",
     "text": [
      "The dataframe contains books published from 1900 to 2020 year\n"
     ]
    }
   ],
   "source": [
    "print(\"The dataframe contains books published from {} to {} year\".format(books[\"publication_date\"].min().year,\n",
    "                                                                         books[\"publication_date\"].max().year))\n"
   ]
  },
  {
   "cell_type": "markdown",
   "metadata": {},
   "source": [
    "## 3).Data Analysis and Visualization\n"
   ]
  },
  {
   "cell_type": "markdown",
   "metadata": {},
   "source": [
    "when exploring the data there are many rows which do not have books ,so remove those rows."
   ]
  },
  {
   "cell_type": "code",
   "execution_count": 144,
   "metadata": {},
   "outputs": [
    {
     "data": {
      "text/plain": [
       "1061    Murder by Moonlight & Other Mysteries (New Adv...\n",
       "1064    The Unfortunate Tobacconist & Other Mysteries ...\n",
       "5474    The Goon Show  Volume 4: My Knees Have Fallen ...\n",
       "5475               The Goon Show: Moriarty Where Are You?\n",
       "5476    The Goon Show  Volume 11: He's Fallen in the W...\n",
       "Name: title, dtype: object"
      ]
     },
     "execution_count": 144,
     "metadata": {},
     "output_type": "execute_result"
    }
   ],
   "source": [
    "no_book = books[books[\"authors\"] == \"NOT A BOOK\"]\n",
    "no_book[\"title\"]"
   ]
  },
  {
   "cell_type": "markdown",
   "metadata": {},
   "source": [
    "The above list are not the books but the series so we have to delete those specific rows"
   ]
  },
  {
   "cell_type": "code",
   "execution_count": 145,
   "metadata": {},
   "outputs": [],
   "source": [
    "books.drop(no_book.index,axis = 0,inplace = True)"
   ]
  },
  {
   "cell_type": "markdown",
   "metadata": {},
   "source": [
    "### Lets find out number of books in different languages"
   ]
  },
  {
   "cell_type": "code",
   "execution_count": 146,
   "metadata": {},
   "outputs": [
    {
     "data": {
      "image/png": "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\n",
      "text/plain": [
       "<Figure size 1080x360 with 1 Axes>"
      ]
     },
     "metadata": {},
     "output_type": "display_data"
    }
   ],
   "source": [
    "\n",
    "ax =books.groupby('language_code')['title'].count().reset_index().sort_values('title',ascending=False).head(10).set_index('language_code').plot.bar(figsize=(15,5),rot=0)\n",
    "plt.title('language code',fontsize=20)\n",
    "plt.xticks(fontsize=15)\n",
    "for p in ax.patches:\n",
    "    ax.annotate(str(p.get_height()),(p.get_x()+0.1,p.get_height()+100))\n"
   ]
  },
  {
   "cell_type": "markdown",
   "metadata": {},
   "source": [
    "**Hence the top 10 languages who have most number of books whose books are**\n",
    "* eng    English  \n",
    "* en-US  American English\n",
    "* spa    Spanish \n",
    "* en-GB  British English \n",
    "* fre    French \n",
    "* ger    German  \n",
    "* jpn    Japanese\n",
    "* mul    Multiple languages\n",
    "* zho    Chinese \n",
    "* grc    Greek, Ancient  "
   ]
  },
  {
   "cell_type": "markdown",
   "metadata": {},
   "source": [
    "### Average rating for the books according to the language"
   ]
  },
  {
   "cell_type": "code",
   "execution_count": 147,
   "metadata": {},
   "outputs": [
    {
     "data": {
      "text/plain": [
       "language_code\n",
       "wel      5.00\n",
       "eng      5.00\n",
       "grc      5.00\n",
       "en-US    4.88\n",
       "ger      4.78\n",
       "en-GB    4.72\n",
       "zho      4.60\n",
       "fre      4.59\n",
       "jpn      4.57\n",
       "spa      4.57\n",
       "Name: average_rating, dtype: float64"
      ]
     },
     "execution_count": 147,
     "metadata": {},
     "output_type": "execute_result"
    }
   ],
   "source": [
    "#In this we have found top 10 languages which recevied the maximum rating\n",
    "books.groupby(\"language_code\").average_rating.max().sort_values(ascending = False).head(10)\n"
   ]
  },
  {
   "cell_type": "markdown",
   "metadata": {},
   "source": [
    "**Hence the top 10 languages whose books recived maximum average_rating are**\n",
    "* wel    Welsh\n",
    "* eng    English  \n",
    "* grc    Greek, Ancient  \n",
    "* en-US  American English  \n",
    "* ger    German  \n",
    "* en-GB  British English \n",
    "* zho    Chinese \n",
    "* fre    French \n",
    "* jpn    Japanese \n",
    "* spa    Spanish "
   ]
  },
  {
   "cell_type": "markdown",
   "metadata": {},
   "source": [
    "### Analysing with respect to average rating"
   ]
  },
  {
   "cell_type": "code",
   "execution_count": 148,
   "metadata": {},
   "outputs": [
    {
     "data": {
      "text/html": [
       "<div>\n",
       "<style scoped>\n",
       "    .dataframe tbody tr th:only-of-type {\n",
       "        vertical-align: middle;\n",
       "    }\n",
       "\n",
       "    .dataframe tbody tr th {\n",
       "        vertical-align: top;\n",
       "    }\n",
       "\n",
       "    .dataframe thead th {\n",
       "        text-align: right;\n",
       "    }\n",
       "</style>\n",
       "<table border=\"1\" class=\"dataframe\">\n",
       "  <thead>\n",
       "    <tr style=\"text-align: right;\">\n",
       "      <th></th>\n",
       "      <th>average_rating</th>\n",
       "      <th>title</th>\n",
       "      <th>authors</th>\n",
       "    </tr>\n",
       "  </thead>\n",
       "  <tbody>\n",
       "    <tr>\n",
       "      <th>8544</th>\n",
       "      <td>5.0</td>\n",
       "      <td>Fanning the Flame: Bible  Cross  and Mission</td>\n",
       "      <td>Chris    Green/Chris Wright/Paul Douglas Gardner</td>\n",
       "    </tr>\n",
       "    <tr>\n",
       "      <th>855</th>\n",
       "      <td>5.0</td>\n",
       "      <td>Literature Circle Guide: Bridge to Terabithia:...</td>\n",
       "      <td>Tara MacCarthy</td>\n",
       "    </tr>\n",
       "    <tr>\n",
       "      <th>6184</th>\n",
       "      <td>5.0</td>\n",
       "      <td>Taxation of Mineral Rents</td>\n",
       "      <td>Ross Garnaut</td>\n",
       "    </tr>\n",
       "    <tr>\n",
       "      <th>6775</th>\n",
       "      <td>5.0</td>\n",
       "      <td>Delwau Duon: Peintiadau Nicholas Evans = Symph...</td>\n",
       "      <td>Nicholas    Evans/Rhonda  Evans</td>\n",
       "    </tr>\n",
       "    <tr>\n",
       "      <th>5648</th>\n",
       "      <td>5.0</td>\n",
       "      <td>Colossians and Philemon: A Critical and Exeget...</td>\n",
       "      <td>R. McL. Wilson</td>\n",
       "    </tr>\n",
       "    <tr>\n",
       "      <th>5647</th>\n",
       "      <td>5.0</td>\n",
       "      <td>Winchester Shotguns</td>\n",
       "      <td>Dennis Adler/R.L. Wilson</td>\n",
       "    </tr>\n",
       "    <tr>\n",
       "      <th>5023</th>\n",
       "      <td>5.0</td>\n",
       "      <td>The Complete Theory Fun Factory: Music Theory ...</td>\n",
       "      <td>Ian        Martin/Katie Elliott</td>\n",
       "    </tr>\n",
       "    <tr>\n",
       "      <th>4933</th>\n",
       "      <td>5.0</td>\n",
       "      <td>Bulgakov's the Master and Margarita: The Text ...</td>\n",
       "      <td>Elena N. Mahlow</td>\n",
       "    </tr>\n",
       "    <tr>\n",
       "      <th>4788</th>\n",
       "      <td>5.0</td>\n",
       "      <td>The Diamond Color Meditation: Color Pathway to...</td>\n",
       "      <td>John  Diamond</td>\n",
       "    </tr>\n",
       "    <tr>\n",
       "      <th>4125</th>\n",
       "      <td>5.0</td>\n",
       "      <td>Zone of the Enders: The 2nd Runner Official St...</td>\n",
       "      <td>Tim Bogenn</td>\n",
       "    </tr>\n",
       "  </tbody>\n",
       "</table>\n",
       "</div>"
      ],
      "text/plain": [
       "      average_rating                                              title  \\\n",
       "8544             5.0       Fanning the Flame: Bible  Cross  and Mission   \n",
       "855              5.0  Literature Circle Guide: Bridge to Terabithia:...   \n",
       "6184             5.0                          Taxation of Mineral Rents   \n",
       "6775             5.0  Delwau Duon: Peintiadau Nicholas Evans = Symph...   \n",
       "5648             5.0  Colossians and Philemon: A Critical and Exeget...   \n",
       "5647             5.0                                Winchester Shotguns   \n",
       "5023             5.0  The Complete Theory Fun Factory: Music Theory ...   \n",
       "4933             5.0  Bulgakov's the Master and Margarita: The Text ...   \n",
       "4788             5.0  The Diamond Color Meditation: Color Pathway to...   \n",
       "4125             5.0  Zone of the Enders: The 2nd Runner Official St...   \n",
       "\n",
       "                                               authors  \n",
       "8544  Chris    Green/Chris Wright/Paul Douglas Gardner  \n",
       "855                                     Tara MacCarthy  \n",
       "6184                                      Ross Garnaut  \n",
       "6775                   Nicholas    Evans/Rhonda  Evans  \n",
       "5648                                    R. McL. Wilson  \n",
       "5647                          Dennis Adler/R.L. Wilson  \n",
       "5023                   Ian        Martin/Katie Elliott  \n",
       "4933                                   Elena N. Mahlow  \n",
       "4788                                     John  Diamond  \n",
       "4125                                        Tim Bogenn  "
      ]
     },
     "execution_count": 148,
     "metadata": {},
     "output_type": "execute_result"
    }
   ],
   "source": [
    "#displaying list of 5 best rated books from 1900 to 2020.\n",
    "books.sort_values(\"average_rating\",ascending = False)[[\"average_rating\",\"title\",\"authors\"]].head(10)"
   ]
  },
  {
   "cell_type": "markdown",
   "metadata": {},
   "source": [
    "~Hence the Top average rated book is \n",
    "\n",
    "<img src=\"Books/book3.jpg\">"
   ]
  },
  {
   "cell_type": "markdown",
   "metadata": {},
   "source": [
    "### Now Finding the best top average_rated books for 1900s and 2000s"
   ]
  },
  {
   "cell_type": "code",
   "execution_count": 149,
   "metadata": {},
   "outputs": [
    {
     "data": {
      "text/html": [
       "<div>\n",
       "<style scoped>\n",
       "    .dataframe tbody tr th:only-of-type {\n",
       "        vertical-align: middle;\n",
       "    }\n",
       "\n",
       "    .dataframe tbody tr th {\n",
       "        vertical-align: top;\n",
       "    }\n",
       "\n",
       "    .dataframe thead th {\n",
       "        text-align: right;\n",
       "    }\n",
       "</style>\n",
       "<table border=\"1\" class=\"dataframe\">\n",
       "  <thead>\n",
       "    <tr style=\"text-align: right;\">\n",
       "      <th></th>\n",
       "      <th>average_rating</th>\n",
       "      <th>title</th>\n",
       "      <th>authors</th>\n",
       "    </tr>\n",
       "  </thead>\n",
       "  <tbody>\n",
       "    <tr>\n",
       "      <th>4933</th>\n",
       "      <td>5.00</td>\n",
       "      <td>Bulgakov's the Master and Margarita: The Text ...</td>\n",
       "      <td>Elena N. Mahlow</td>\n",
       "    </tr>\n",
       "    <tr>\n",
       "      <th>624</th>\n",
       "      <td>5.00</td>\n",
       "      <td>Comoediae 1: Acharenses/Equites/Nubes/Vespae/P...</td>\n",
       "      <td>Aristophanes/F.W. Hall/W.M. Geldart</td>\n",
       "    </tr>\n",
       "    <tr>\n",
       "      <th>6775</th>\n",
       "      <td>5.00</td>\n",
       "      <td>Delwau Duon: Peintiadau Nicholas Evans = Symph...</td>\n",
       "      <td>Nicholas    Evans/Rhonda  Evans</td>\n",
       "    </tr>\n",
       "    <tr>\n",
       "      <th>6184</th>\n",
       "      <td>5.00</td>\n",
       "      <td>Taxation of Mineral Rents</td>\n",
       "      <td>Ross Garnaut</td>\n",
       "    </tr>\n",
       "    <tr>\n",
       "      <th>6973</th>\n",
       "      <td>4.78</td>\n",
       "      <td>Wissenschaft der Logik: Die Lehre Vom Begriff ...</td>\n",
       "      <td>Georg Wilhelm Friedrich Hegel</td>\n",
       "    </tr>\n",
       "    <tr>\n",
       "      <th>6589</th>\n",
       "      <td>4.76</td>\n",
       "      <td>It's a Magical World (Calvin and Hobbes  #11)</td>\n",
       "      <td>Bill Watterson</td>\n",
       "    </tr>\n",
       "    <tr>\n",
       "      <th>6590</th>\n",
       "      <td>4.72</td>\n",
       "      <td>Homicidal Psycho Jungle Cat (Calvin and Hobbes...</td>\n",
       "      <td>Bill Watterson</td>\n",
       "    </tr>\n",
       "    <tr>\n",
       "      <th>10937</th>\n",
       "      <td>4.70</td>\n",
       "      <td>The Price of the Ticket: Collected Nonfiction ...</td>\n",
       "      <td>James Baldwin</td>\n",
       "    </tr>\n",
       "    <tr>\n",
       "      <th>6591</th>\n",
       "      <td>4.69</td>\n",
       "      <td>The Days Are Just Packed</td>\n",
       "      <td>Bill Watterson</td>\n",
       "    </tr>\n",
       "    <tr>\n",
       "      <th>2248</th>\n",
       "      <td>4.67</td>\n",
       "      <td>Bill Buzz</td>\n",
       "      <td>Roger Hargreaves/Gray Jolliffe</td>\n",
       "    </tr>\n",
       "  </tbody>\n",
       "</table>\n",
       "</div>"
      ],
      "text/plain": [
       "       average_rating                                              title  \\\n",
       "4933             5.00  Bulgakov's the Master and Margarita: The Text ...   \n",
       "624              5.00  Comoediae 1: Acharenses/Equites/Nubes/Vespae/P...   \n",
       "6775             5.00  Delwau Duon: Peintiadau Nicholas Evans = Symph...   \n",
       "6184             5.00                          Taxation of Mineral Rents   \n",
       "6973             4.78  Wissenschaft der Logik: Die Lehre Vom Begriff ...   \n",
       "6589             4.76      It's a Magical World (Calvin and Hobbes  #11)   \n",
       "6590             4.72  Homicidal Psycho Jungle Cat (Calvin and Hobbes...   \n",
       "10937            4.70  The Price of the Ticket: Collected Nonfiction ...   \n",
       "6591             4.69                           The Days Are Just Packed   \n",
       "2248             4.67                                          Bill Buzz   \n",
       "\n",
       "                                   authors  \n",
       "4933                       Elena N. Mahlow  \n",
       "624    Aristophanes/F.W. Hall/W.M. Geldart  \n",
       "6775       Nicholas    Evans/Rhonda  Evans  \n",
       "6184                          Ross Garnaut  \n",
       "6973         Georg Wilhelm Friedrich Hegel  \n",
       "6589                        Bill Watterson  \n",
       "6590                        Bill Watterson  \n",
       "10937                        James Baldwin  \n",
       "6591                        Bill Watterson  \n",
       "2248        Roger Hargreaves/Gray Jolliffe  "
      ]
     },
     "execution_count": 149,
     "metadata": {},
     "output_type": "execute_result"
    }
   ],
   "source": [
    "#best top 10 average_rated of 1900s \n",
    "ts = pd.to_datetime(\"1/1/2000\")\n",
    "books19s = books.loc[books[\"publication_date\"] < ts, : ]\n",
    "books19s.sort_values(\"average_rating\",ascending = False)[[\"average_rating\",\"title\",\"authors\"]].head(10)"
   ]
  },
  {
   "cell_type": "markdown",
   "metadata": {},
   "source": [
    "~The above list is the best 10 top average_rated books of 1900s"
   ]
  },
  {
   "cell_type": "code",
   "execution_count": 162,
   "metadata": {},
   "outputs": [
    {
     "data": {
      "text/html": [
       "<div>\n",
       "<style scoped>\n",
       "    .dataframe tbody tr th:only-of-type {\n",
       "        vertical-align: middle;\n",
       "    }\n",
       "\n",
       "    .dataframe tbody tr th {\n",
       "        vertical-align: top;\n",
       "    }\n",
       "\n",
       "    .dataframe thead th {\n",
       "        text-align: right;\n",
       "    }\n",
       "</style>\n",
       "<table border=\"1\" class=\"dataframe\">\n",
       "  <thead>\n",
       "    <tr style=\"text-align: right;\">\n",
       "      <th></th>\n",
       "      <th>average_rating</th>\n",
       "      <th>title</th>\n",
       "      <th>authors</th>\n",
       "    </tr>\n",
       "  </thead>\n",
       "  <tbody>\n",
       "    <tr>\n",
       "      <th>5648</th>\n",
       "      <td>5.0</td>\n",
       "      <td>Colossians and Philemon: A Critical and Exeget...</td>\n",
       "      <td>R. McL. Wilson</td>\n",
       "    </tr>\n",
       "    <tr>\n",
       "      <th>9720</th>\n",
       "      <td>5.0</td>\n",
       "      <td>The Irish Anatomist: A Study of Flann O'Brien</td>\n",
       "      <td>Keith Donohue</td>\n",
       "    </tr>\n",
       "    <tr>\n",
       "      <th>9282</th>\n",
       "      <td>5.0</td>\n",
       "      <td>Oliver Wendell Holmes in Paris: Medicine  Theo...</td>\n",
       "      <td>William C. Dowling</td>\n",
       "    </tr>\n",
       "    <tr>\n",
       "      <th>9324</th>\n",
       "      <td>5.0</td>\n",
       "      <td>Tyrannosaurus Wrecks (Stanley  #1)</td>\n",
       "      <td>Laura Driscoll/Alisa Klayman-Grodsky/Eric     ...</td>\n",
       "    </tr>\n",
       "    <tr>\n",
       "      <th>10262</th>\n",
       "      <td>5.0</td>\n",
       "      <td>Bill Gates: Computer Legend (Famous Lives)</td>\n",
       "      <td>Sara Barton-Wood</td>\n",
       "    </tr>\n",
       "    <tr>\n",
       "      <th>1243</th>\n",
       "      <td>5.0</td>\n",
       "      <td>Middlesex Borough (Images of America: New Jersey)</td>\n",
       "      <td>Middlesex Borough Heritage Committee</td>\n",
       "    </tr>\n",
       "    <tr>\n",
       "      <th>855</th>\n",
       "      <td>5.0</td>\n",
       "      <td>Literature Circle Guide: Bridge to Terabithia:...</td>\n",
       "      <td>Tara MacCarthy</td>\n",
       "    </tr>\n",
       "    <tr>\n",
       "      <th>5647</th>\n",
       "      <td>5.0</td>\n",
       "      <td>Winchester Shotguns</td>\n",
       "      <td>Dennis Adler/R.L. Wilson</td>\n",
       "    </tr>\n",
       "    <tr>\n",
       "      <th>786</th>\n",
       "      <td>5.0</td>\n",
       "      <td>Willem de Kooning: Late Paintings</td>\n",
       "      <td>Julie Sylvester/David Sylvester</td>\n",
       "    </tr>\n",
       "    <tr>\n",
       "      <th>6247</th>\n",
       "      <td>5.0</td>\n",
       "      <td>The New Big Book of America</td>\n",
       "      <td>Todd Davis/Marc Frey</td>\n",
       "    </tr>\n",
       "  </tbody>\n",
       "</table>\n",
       "</div>"
      ],
      "text/plain": [
       "       average_rating                                              title  \\\n",
       "5648              5.0  Colossians and Philemon: A Critical and Exeget...   \n",
       "9720              5.0      The Irish Anatomist: A Study of Flann O'Brien   \n",
       "9282              5.0  Oliver Wendell Holmes in Paris: Medicine  Theo...   \n",
       "9324              5.0                 Tyrannosaurus Wrecks (Stanley  #1)   \n",
       "10262             5.0         Bill Gates: Computer Legend (Famous Lives)   \n",
       "1243              5.0  Middlesex Borough (Images of America: New Jersey)   \n",
       "855               5.0  Literature Circle Guide: Bridge to Terabithia:...   \n",
       "5647              5.0                                Winchester Shotguns   \n",
       "786               5.0                  Willem de Kooning: Late Paintings   \n",
       "6247              5.0                        The New Big Book of America   \n",
       "\n",
       "                                                 authors  \n",
       "5648                                      R. McL. Wilson  \n",
       "9720                                       Keith Donohue  \n",
       "9282                                  William C. Dowling  \n",
       "9324   Laura Driscoll/Alisa Klayman-Grodsky/Eric     ...  \n",
       "10262                                   Sara Barton-Wood  \n",
       "1243                Middlesex Borough Heritage Committee  \n",
       "855                                       Tara MacCarthy  \n",
       "5647                            Dennis Adler/R.L. Wilson  \n",
       "786                      Julie Sylvester/David Sylvester  \n",
       "6247                                Todd Davis/Marc Frey  "
      ]
     },
     "execution_count": 162,
     "metadata": {},
     "output_type": "execute_result"
    }
   ],
   "source": [
    "books20s = books.loc[books[\"publication_date\"] >= ts, : ]\n",
    "books20s.sort_values(\"average_rating\",ascending = False)[[\"average_rating\",\"title\",\"authors\"]].head(10)"
   ]
  },
  {
   "cell_type": "markdown",
   "metadata": {},
   "source": [
    "~The above is the best 10 top average_rated books of 2000s "
   ]
  },
  {
   "cell_type": "markdown",
   "metadata": {},
   "source": [
    "### To Find top 10 books which recived the highest rating counts\n",
    "\n",
    "\n",
    "\n",
    "**~ratings_count :- Total number of rating a book recived**"
   ]
  },
  {
   "cell_type": "code",
   "execution_count": 127,
   "metadata": {},
   "outputs": [
    {
     "data": {
      "text/plain": [
       "<matplotlib.axes._subplots.AxesSubplot at 0x16c1d3f8a90>"
      ]
     },
     "execution_count": 127,
     "metadata": {},
     "output_type": "execute_result"
    },
    {
     "data": {
      "image/png": "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\n",
      "text/plain": [
       "<Figure size 1512x576 with 1 Axes>"
      ]
     },
     "metadata": {
      "needs_background": "light"
     },
     "output_type": "display_data"
    }
   ],
   "source": [
    "book = books.sort_values(\"ratings_count\",ascending = False)[[\"ratings_count\",\"title\",\"authors\",]].head(10)\n",
    "book.reset_index(drop = True)\n",
    "plt.figure(figsize=(21,8))\n",
    "plt.xticks(fontsize=15)\n",
    "plt.yticks(fontsize=15)\n",
    "sns.barplot(x=\"ratings_count\",y=\"title\",data=book,palette='rocket')"
   ]
  },
  {
   "cell_type": "markdown",
   "metadata": {},
   "source": [
    "<img src=\"Books/book4.jpg\">"
   ]
  },
  {
   "cell_type": "markdown",
   "metadata": {},
   "source": [
    "### Finding top 10 maximum ratings_count books for 1990's and 2000's "
   ]
  },
  {
   "cell_type": "code",
   "execution_count": 163,
   "metadata": {},
   "outputs": [
    {
     "data": {
      "text/html": [
       "<div>\n",
       "<style scoped>\n",
       "    .dataframe tbody tr th:only-of-type {\n",
       "        vertical-align: middle;\n",
       "    }\n",
       "\n",
       "    .dataframe tbody tr th {\n",
       "        vertical-align: top;\n",
       "    }\n",
       "\n",
       "    .dataframe thead th {\n",
       "        text-align: right;\n",
       "    }\n",
       "</style>\n",
       "<table border=\"1\" class=\"dataframe\">\n",
       "  <thead>\n",
       "    <tr style=\"text-align: right;\">\n",
       "      <th></th>\n",
       "      <th>ratings_count</th>\n",
       "      <th>title</th>\n",
       "      <th>authors</th>\n",
       "    </tr>\n",
       "  </thead>\n",
       "  <tbody>\n",
       "    <tr>\n",
       "      <th>4415</th>\n",
       "      <td>2293963</td>\n",
       "      <td>Harry Potter and the Chamber of Secrets (Harry...</td>\n",
       "      <td>J.K. Rowling/Mary GrandPré</td>\n",
       "    </tr>\n",
       "    <tr>\n",
       "      <th>2116</th>\n",
       "      <td>2036679</td>\n",
       "      <td>Lord of the Flies</td>\n",
       "      <td>William Golding</td>\n",
       "    </tr>\n",
       "    <tr>\n",
       "      <th>284</th>\n",
       "      <td>1631221</td>\n",
       "      <td>The Alchemist</td>\n",
       "      <td>Paulo Coelho/Alan R. Clarke/Özdemir İnce</td>\n",
       "    </tr>\n",
       "    <tr>\n",
       "      <th>1467</th>\n",
       "      <td>1247221</td>\n",
       "      <td>Brave New World</td>\n",
       "      <td>Aldous Huxley</td>\n",
       "    </tr>\n",
       "    <tr>\n",
       "      <th>1430</th>\n",
       "      <td>1001671</td>\n",
       "      <td>Slaughterhouse-Five</td>\n",
       "      <td>Kurt Vonnegut Jr.</td>\n",
       "    </tr>\n",
       "    <tr>\n",
       "      <th>5093</th>\n",
       "      <td>999139</td>\n",
       "      <td>Gone with the Wind</td>\n",
       "      <td>Margaret Mitchell</td>\n",
       "    </tr>\n",
       "    <tr>\n",
       "      <th>3156</th>\n",
       "      <td>978535</td>\n",
       "      <td>The Shining</td>\n",
       "      <td>Stephen King</td>\n",
       "    </tr>\n",
       "    <tr>\n",
       "      <th>566</th>\n",
       "      <td>800349</td>\n",
       "      <td>Into the Wild</td>\n",
       "      <td>Jon Krakauer</td>\n",
       "    </tr>\n",
       "    <tr>\n",
       "      <th>4796</th>\n",
       "      <td>774987</td>\n",
       "      <td>Dracula</td>\n",
       "      <td>Bram Stoker/Nina Auerbach/David J. Skal</td>\n",
       "    </tr>\n",
       "    <tr>\n",
       "      <th>910</th>\n",
       "      <td>764134</td>\n",
       "      <td>The Secret Garden</td>\n",
       "      <td>Frances Hodgson Burnett</td>\n",
       "    </tr>\n",
       "  </tbody>\n",
       "</table>\n",
       "</div>"
      ],
      "text/plain": [
       "      ratings_count                                              title  \\\n",
       "4415        2293963  Harry Potter and the Chamber of Secrets (Harry...   \n",
       "2116        2036679                                  Lord of the Flies   \n",
       "284         1631221                                      The Alchemist   \n",
       "1467        1247221                                    Brave New World   \n",
       "1430        1001671                                Slaughterhouse-Five   \n",
       "5093         999139                                 Gone with the Wind   \n",
       "3156         978535                                        The Shining   \n",
       "566          800349                                      Into the Wild   \n",
       "4796         774987                                            Dracula   \n",
       "910          764134                                  The Secret Garden   \n",
       "\n",
       "                                       authors  \n",
       "4415                J.K. Rowling/Mary GrandPré  \n",
       "2116                           William Golding  \n",
       "284   Paulo Coelho/Alan R. Clarke/Özdemir İnce  \n",
       "1467                             Aldous Huxley  \n",
       "1430                         Kurt Vonnegut Jr.  \n",
       "5093                         Margaret Mitchell  \n",
       "3156                              Stephen King  \n",
       "566                               Jon Krakauer  \n",
       "4796   Bram Stoker/Nina Auerbach/David J. Skal  \n",
       "910                    Frances Hodgson Burnett  "
      ]
     },
     "execution_count": 163,
     "metadata": {},
     "output_type": "execute_result"
    }
   ],
   "source": [
    "#maximum ratings_count books for 1990's\n",
    "books19s.sort_values(\"ratings_count\",ascending = False)[[\"ratings_count\",\"title\",\"authors\"]].head(10)"
   ]
  },
  {
   "cell_type": "markdown",
   "metadata": {},
   "source": [
    "<img src=\"Books/book5.png\">\n",
    "\n",
    "\n",
    "\n",
    "~Harry Potter and the Chamber of Secrets gets the maximum ratings_count for 1990's"
   ]
  },
  {
   "cell_type": "code",
   "execution_count": 168,
   "metadata": {},
   "outputs": [
    {
     "data": {
      "text/html": [
       "<div>\n",
       "<style scoped>\n",
       "    .dataframe tbody tr th:only-of-type {\n",
       "        vertical-align: middle;\n",
       "    }\n",
       "\n",
       "    .dataframe tbody tr th {\n",
       "        vertical-align: top;\n",
       "    }\n",
       "\n",
       "    .dataframe thead th {\n",
       "        text-align: right;\n",
       "    }\n",
       "</style>\n",
       "<table border=\"1\" class=\"dataframe\">\n",
       "  <thead>\n",
       "    <tr style=\"text-align: right;\">\n",
       "      <th></th>\n",
       "      <th>ratings_count</th>\n",
       "      <th>title</th>\n",
       "      <th>authors</th>\n",
       "    </tr>\n",
       "  </thead>\n",
       "  <tbody>\n",
       "    <tr>\n",
       "      <th>10336</th>\n",
       "      <td>4597666</td>\n",
       "      <td>Twilight (Twilight  #1)</td>\n",
       "      <td>Stephenie Meyer</td>\n",
       "    </tr>\n",
       "    <tr>\n",
       "      <th>1697</th>\n",
       "      <td>2530894</td>\n",
       "      <td>The Hobbit  or There and Back Again</td>\n",
       "      <td>J.R.R. Tolkien</td>\n",
       "    </tr>\n",
       "    <tr>\n",
       "      <th>1462</th>\n",
       "      <td>2457092</td>\n",
       "      <td>The Catcher in the Rye</td>\n",
       "      <td>J.D. Salinger</td>\n",
       "    </tr>\n",
       "    <tr>\n",
       "      <th>307</th>\n",
       "      <td>2418736</td>\n",
       "      <td>Angels &amp; Demons (Robert Langdon  #1)</td>\n",
       "      <td>Dan Brown</td>\n",
       "    </tr>\n",
       "    <tr>\n",
       "      <th>3</th>\n",
       "      <td>2339585</td>\n",
       "      <td>Harry Potter and the Prisoner of Azkaban (Harr...</td>\n",
       "      <td>J.K. Rowling/Mary GrandPré</td>\n",
       "    </tr>\n",
       "    <tr>\n",
       "      <th>1</th>\n",
       "      <td>2153167</td>\n",
       "      <td>Harry Potter and the Order of the Phoenix (Har...</td>\n",
       "      <td>J.K. Rowling/Mary GrandPré</td>\n",
       "    </tr>\n",
       "    <tr>\n",
       "      <th>23</th>\n",
       "      <td>2128944</td>\n",
       "      <td>The Fellowship of the Ring (The Lord of the Ri...</td>\n",
       "      <td>J.R.R. Tolkien</td>\n",
       "    </tr>\n",
       "    <tr>\n",
       "      <th>2114</th>\n",
       "      <td>2111750</td>\n",
       "      <td>Animal Farm</td>\n",
       "      <td>George Orwell/Boris Grabnar/Peter Škerl</td>\n",
       "    </tr>\n",
       "    <tr>\n",
       "      <th>0</th>\n",
       "      <td>2095690</td>\n",
       "      <td>Harry Potter and the Half-Blood Prince (Harry ...</td>\n",
       "      <td>J.K. Rowling/Mary GrandPré</td>\n",
       "    </tr>\n",
       "    <tr>\n",
       "      <th>5015</th>\n",
       "      <td>1893917</td>\n",
       "      <td>Romeo and Juliet</td>\n",
       "      <td>William Shakespeare/Paul Werstine/Barbara A. M...</td>\n",
       "    </tr>\n",
       "  </tbody>\n",
       "</table>\n",
       "</div>"
      ],
      "text/plain": [
       "       ratings_count                                              title  \\\n",
       "10336        4597666                            Twilight (Twilight  #1)   \n",
       "1697         2530894                The Hobbit  or There and Back Again   \n",
       "1462         2457092                             The Catcher in the Rye   \n",
       "307          2418736               Angels & Demons (Robert Langdon  #1)   \n",
       "3            2339585  Harry Potter and the Prisoner of Azkaban (Harr...   \n",
       "1            2153167  Harry Potter and the Order of the Phoenix (Har...   \n",
       "23           2128944  The Fellowship of the Ring (The Lord of the Ri...   \n",
       "2114         2111750                                        Animal Farm   \n",
       "0            2095690  Harry Potter and the Half-Blood Prince (Harry ...   \n",
       "5015         1893917                                   Romeo and Juliet   \n",
       "\n",
       "                                                 authors  \n",
       "10336                                    Stephenie Meyer  \n",
       "1697                                      J.R.R. Tolkien  \n",
       "1462                                       J.D. Salinger  \n",
       "307                                            Dan Brown  \n",
       "3                             J.K. Rowling/Mary GrandPré  \n",
       "1                             J.K. Rowling/Mary GrandPré  \n",
       "23                                        J.R.R. Tolkien  \n",
       "2114             George Orwell/Boris Grabnar/Peter Škerl  \n",
       "0                             J.K. Rowling/Mary GrandPré  \n",
       "5015   William Shakespeare/Paul Werstine/Barbara A. M...  "
      ]
     },
     "execution_count": 168,
     "metadata": {},
     "output_type": "execute_result"
    }
   ],
   "source": [
    "#Maximum ratings_count books for 2000's\n",
    "books20s.sort_values(\"ratings_count\",ascending = False)[[\"ratings_count\",\"title\",\"authors\"]].head(10)"
   ]
  },
  {
   "cell_type": "markdown",
   "metadata": {},
   "source": [
    "### To Find top 10 books which received the highest text review counts counts\n",
    "\n",
    "**~text_reviews_count : Total number of written text reviews the book received.**"
   ]
  },
  {
   "cell_type": "code",
   "execution_count": 166,
   "metadata": {},
   "outputs": [
    {
     "data": {
      "text/plain": [
       "<matplotlib.axes._subplots.AxesSubplot at 0x16c1d525c50>"
      ]
     },
     "execution_count": 166,
     "metadata": {},
     "output_type": "execute_result"
    },
    {
     "data": {
      "image/png": "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\n",
      "text/plain": [
       "<Figure size 1512x576 with 1 Axes>"
      ]
     },
     "metadata": {},
     "output_type": "display_data"
    }
   ],
   "source": [
    "book = books.sort_values(\"text_reviews_count\",ascending = False)[[\"text_reviews_count\",\"title\",\"authors\",]].head(10)\n",
    "book.reset_index(drop = True)\n",
    "plt.figure(figsize=(21,8))\n",
    "plt.xticks(fontsize=15)\n",
    "plt.yticks(fontsize=15)\n",
    "sns.barplot(x=\"text_reviews_count\",y=\"title\",data=book,palette='rocket')"
   ]
  },
  {
   "cell_type": "markdown",
   "metadata": {},
   "source": [
    "~Hence twilight gets maximum number of both text review counts and ratings_count "
   ]
  },
  {
   "cell_type": "markdown",
   "metadata": {},
   "source": [
    "### Finding top 10 maximum text_reviews_count books for 1990's and 2000's "
   ]
  },
  {
   "cell_type": "code",
   "execution_count": 167,
   "metadata": {},
   "outputs": [
    {
     "data": {
      "text/html": [
       "<div>\n",
       "<style scoped>\n",
       "    .dataframe tbody tr th:only-of-type {\n",
       "        vertical-align: middle;\n",
       "    }\n",
       "\n",
       "    .dataframe tbody tr th {\n",
       "        vertical-align: top;\n",
       "    }\n",
       "\n",
       "    .dataframe thead th {\n",
       "        text-align: right;\n",
       "    }\n",
       "</style>\n",
       "<table border=\"1\" class=\"dataframe\">\n",
       "  <thead>\n",
       "    <tr style=\"text-align: right;\">\n",
       "      <th></th>\n",
       "      <th>ratings_count</th>\n",
       "      <th>title</th>\n",
       "      <th>authors</th>\n",
       "    </tr>\n",
       "  </thead>\n",
       "  <tbody>\n",
       "    <tr>\n",
       "      <th>284</th>\n",
       "      <td>1631221</td>\n",
       "      <td>The Alchemist</td>\n",
       "      <td>Paulo Coelho/Alan R. Clarke/Özdemir İnce</td>\n",
       "    </tr>\n",
       "    <tr>\n",
       "      <th>4415</th>\n",
       "      <td>2293963</td>\n",
       "      <td>Harry Potter and the Chamber of Secrets (Harry...</td>\n",
       "      <td>J.K. Rowling/Mary GrandPré</td>\n",
       "    </tr>\n",
       "    <tr>\n",
       "      <th>2116</th>\n",
       "      <td>2036679</td>\n",
       "      <td>Lord of the Flies</td>\n",
       "      <td>William Golding</td>\n",
       "    </tr>\n",
       "    <tr>\n",
       "      <th>1467</th>\n",
       "      <td>1247221</td>\n",
       "      <td>Brave New World</td>\n",
       "      <td>Aldous Huxley</td>\n",
       "    </tr>\n",
       "    <tr>\n",
       "      <th>1430</th>\n",
       "      <td>1001671</td>\n",
       "      <td>Slaughterhouse-Five</td>\n",
       "      <td>Kurt Vonnegut Jr.</td>\n",
       "    </tr>\n",
       "    <tr>\n",
       "      <th>566</th>\n",
       "      <td>800349</td>\n",
       "      <td>Into the Wild</td>\n",
       "      <td>Jon Krakauer</td>\n",
       "    </tr>\n",
       "    <tr>\n",
       "      <th>5093</th>\n",
       "      <td>999139</td>\n",
       "      <td>Gone with the Wind</td>\n",
       "      <td>Margaret Mitchell</td>\n",
       "    </tr>\n",
       "    <tr>\n",
       "      <th>3156</th>\n",
       "      <td>978535</td>\n",
       "      <td>The Shining</td>\n",
       "      <td>Stephen King</td>\n",
       "    </tr>\n",
       "    <tr>\n",
       "      <th>4796</th>\n",
       "      <td>774987</td>\n",
       "      <td>Dracula</td>\n",
       "      <td>Bram Stoker/Nina Auerbach/David J. Skal</td>\n",
       "    </tr>\n",
       "    <tr>\n",
       "      <th>235</th>\n",
       "      <td>322483</td>\n",
       "      <td>Atlas Shrugged</td>\n",
       "      <td>Ayn Rand/Leonard Peikoff</td>\n",
       "    </tr>\n",
       "  </tbody>\n",
       "</table>\n",
       "</div>"
      ],
      "text/plain": [
       "      ratings_count                                              title  \\\n",
       "284         1631221                                      The Alchemist   \n",
       "4415        2293963  Harry Potter and the Chamber of Secrets (Harry...   \n",
       "2116        2036679                                  Lord of the Flies   \n",
       "1467        1247221                                    Brave New World   \n",
       "1430        1001671                                Slaughterhouse-Five   \n",
       "566          800349                                      Into the Wild   \n",
       "5093         999139                                 Gone with the Wind   \n",
       "3156         978535                                        The Shining   \n",
       "4796         774987                                            Dracula   \n",
       "235          322483                                     Atlas Shrugged   \n",
       "\n",
       "                                       authors  \n",
       "284   Paulo Coelho/Alan R. Clarke/Özdemir İnce  \n",
       "4415                J.K. Rowling/Mary GrandPré  \n",
       "2116                           William Golding  \n",
       "1467                             Aldous Huxley  \n",
       "1430                         Kurt Vonnegut Jr.  \n",
       "566                               Jon Krakauer  \n",
       "5093                         Margaret Mitchell  \n",
       "3156                              Stephen King  \n",
       "4796   Bram Stoker/Nina Auerbach/David J. Skal  \n",
       "235                   Ayn Rand/Leonard Peikoff  "
      ]
     },
     "execution_count": 167,
     "metadata": {},
     "output_type": "execute_result"
    }
   ],
   "source": [
    "#maximum  text_reviews_count books for 1990's\n",
    "books19s.sort_values(\"text_reviews_count\",ascending = False)[[\"text_reviews_count\",\"title\",\"authors\"]].head(10)"
   ]
  },
  {
   "cell_type": "markdown",
   "metadata": {},
   "source": [
    "<img src=\"Images/book6.png\">\n",
    "\n",
    "\n",
    "\n",
    "~The Alchemist gets the maximum text_reviews_count for 1990's"
   ]
  },
  {
   "cell_type": "code",
   "execution_count": 170,
   "metadata": {},
   "outputs": [
    {
     "data": {
      "text/html": [
       "<div>\n",
       "<style scoped>\n",
       "    .dataframe tbody tr th:only-of-type {\n",
       "        vertical-align: middle;\n",
       "    }\n",
       "\n",
       "    .dataframe tbody tr th {\n",
       "        vertical-align: top;\n",
       "    }\n",
       "\n",
       "    .dataframe thead th {\n",
       "        text-align: right;\n",
       "    }\n",
       "</style>\n",
       "<table border=\"1\" class=\"dataframe\">\n",
       "  <thead>\n",
       "    <tr style=\"text-align: right;\">\n",
       "      <th></th>\n",
       "      <th>text_reviews_count</th>\n",
       "      <th>title</th>\n",
       "      <th>authors</th>\n",
       "    </tr>\n",
       "  </thead>\n",
       "  <tbody>\n",
       "    <tr>\n",
       "      <th>10336</th>\n",
       "      <td>94265</td>\n",
       "      <td>Twilight (Twilight  #1)</td>\n",
       "      <td>Stephenie Meyer</td>\n",
       "    </tr>\n",
       "    <tr>\n",
       "      <th>5270</th>\n",
       "      <td>86881</td>\n",
       "      <td>The Book Thief</td>\n",
       "      <td>Markus Zusak/Cao Xuân Việt Khương</td>\n",
       "    </tr>\n",
       "    <tr>\n",
       "      <th>1069</th>\n",
       "      <td>56604</td>\n",
       "      <td>The Giver (The Giver  #1)</td>\n",
       "      <td>Lois Lowry</td>\n",
       "    </tr>\n",
       "    <tr>\n",
       "      <th>10700</th>\n",
       "      <td>52759</td>\n",
       "      <td>Water for Elephants</td>\n",
       "      <td>Sara Gruen</td>\n",
       "    </tr>\n",
       "    <tr>\n",
       "      <th>7309</th>\n",
       "      <td>47951</td>\n",
       "      <td>The Lightning Thief (Percy Jackson and the Oly...</td>\n",
       "      <td>Rick Riordan</td>\n",
       "    </tr>\n",
       "    <tr>\n",
       "      <th>5407</th>\n",
       "      <td>47620</td>\n",
       "      <td>Eat  Pray  Love</td>\n",
       "      <td>Elizabeth Gilbert</td>\n",
       "    </tr>\n",
       "    <tr>\n",
       "      <th>2060</th>\n",
       "      <td>46176</td>\n",
       "      <td>The Glass Castle</td>\n",
       "      <td>Jeannette Walls</td>\n",
       "    </tr>\n",
       "    <tr>\n",
       "      <th>1462</th>\n",
       "      <td>43499</td>\n",
       "      <td>The Catcher in the Rye</td>\n",
       "      <td>J.D. Salinger</td>\n",
       "    </tr>\n",
       "    <tr>\n",
       "      <th>3</th>\n",
       "      <td>36325</td>\n",
       "      <td>Harry Potter and the Prisoner of Azkaban (Harr...</td>\n",
       "      <td>J.K. Rowling/Mary GrandPré</td>\n",
       "    </tr>\n",
       "    <tr>\n",
       "      <th>310</th>\n",
       "      <td>35877</td>\n",
       "      <td>The Da Vinci Code (Robert Langdon  #2)</td>\n",
       "      <td>Dan Brown</td>\n",
       "    </tr>\n",
       "  </tbody>\n",
       "</table>\n",
       "</div>"
      ],
      "text/plain": [
       "       text_reviews_count                                              title  \\\n",
       "10336               94265                            Twilight (Twilight  #1)   \n",
       "5270                86881                                     The Book Thief   \n",
       "1069                56604                          The Giver (The Giver  #1)   \n",
       "10700               52759                                Water for Elephants   \n",
       "7309                47951  The Lightning Thief (Percy Jackson and the Oly...   \n",
       "5407                47620                                    Eat  Pray  Love   \n",
       "2060                46176                                   The Glass Castle   \n",
       "1462                43499                             The Catcher in the Rye   \n",
       "3                   36325  Harry Potter and the Prisoner of Azkaban (Harr...   \n",
       "310                 35877             The Da Vinci Code (Robert Langdon  #2)   \n",
       "\n",
       "                                 authors  \n",
       "10336                    Stephenie Meyer  \n",
       "5270   Markus Zusak/Cao Xuân Việt Khương  \n",
       "1069                          Lois Lowry  \n",
       "10700                         Sara Gruen  \n",
       "7309                        Rick Riordan  \n",
       "5407                   Elizabeth Gilbert  \n",
       "2060                     Jeannette Walls  \n",
       "1462                       J.D. Salinger  \n",
       "3             J.K. Rowling/Mary GrandPré  \n",
       "310                            Dan Brown  "
      ]
     },
     "execution_count": 170,
     "metadata": {},
     "output_type": "execute_result"
    }
   ],
   "source": [
    "#Maximum text_reviews_count books for 2000's\n",
    "books20s.sort_values(\"text_reviews_count\",ascending = False)[[\"text_reviews_count\",\"title\",\"authors\"]].head(10)"
   ]
  },
  {
   "cell_type": "markdown",
   "metadata": {},
   "source": [
    "\n",
    "\n",
    "ShubhangiDabral13..."
   ]
  }
 ],
 "metadata": {
  "kernelspec": {
   "display_name": "Python 3",
   "language": "python",
   "name": "python3"
  },
  "language_info": {
   "codemirror_mode": {
    "name": "ipython",
    "version": 3
   },
   "file_extension": ".py",
   "mimetype": "text/x-python",
   "name": "python",
   "nbconvert_exporter": "python",
   "pygments_lexer": "ipython3",
   "version": "3.7.1"
  }
 },
 "nbformat": 4,
 "nbformat_minor":