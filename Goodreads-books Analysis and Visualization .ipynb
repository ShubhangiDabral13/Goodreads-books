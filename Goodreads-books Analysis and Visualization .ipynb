{
 "cells": [
  {
   "cell_type": "markdown",
   "metadata": {},
   "source": [
    "# Goodreads-books\n"
   ]
  },
  {
   "cell_type": "markdown",
   "metadata": {},
   "source": [
    "<img src=\"Images/book1.jpg\">"
   ]
  },
  {
   "cell_type": "markdown",
   "metadata": {},
   "source": [
    "The basic idea behind analysing the Goodreads dataset is to get a fair idea about the relationships between the multiple attributes a book might have, such as:the aggregrate rating of each book, the trend of the authors over the years and books with numerous languages. With over a hundred thousand ratings, there are books which just tend to become popular as each day seems to pass.\n",
    "\n",
    "We've always conisdered the magical persona books seem to hold, and with this notebook, we step out on a journey to see what kind of books really drives people to read in this era of modern smart devices.\n",
    "\n",
    "With such a vast, overwhelming number of factors, we'll go over such demographics:\n",
    "\n",
    "* Does any relationship lie between ratings and the total ratings given?\n",
    "* Where do majority of the books lie, in terms of ratings - Does reading a book really bring forth bias for the ratings?\n",
    "* Do authors tend to perform same over time, with all their newer books? Or do they just fizzle out.\n",
    "* Do number of pages make an impact on reading styles, ratings and popularity?\n",
    "* Can books be recommended based on ratings? Is that a factor which can work?"
   ]
  },
  {
   "cell_type": "markdown",
   "metadata": {},
   "source": [
    "## 1).Import Module\n",
    "\n",
    "* **Packages Imported** :-\n",
    "\n",
    "    1. sys: access to system parameters\n",
    "    2. numpy : for numerical computation\n",
    "    3. pandas: for data manipulation and analysis\n",
    "    4. matplotlib: plotting library\n",
    "    5. seaborn: plotting library based on matplotlib\n",
    "    6. sklearn: machine learning library"
   ]
  },
  {
   "cell_type": "code",
   "execution_count": 1,
   "metadata": {},
   "outputs": [],
   "source": [
    "# load packages\n",
    "import numpy as np\n",
    "import pandas as pd"
   ]
  },
  {
   "cell_type": "code",
   "execution_count": 47,
   "metadata": {},
   "outputs": [],
   "source": [
    "#import visual modules\n",
    "import seaborn as sns\n",
    "import matplotlib.pyplot as plt\n",
    "import plotly.plotly as py\n",
    "from plotly.offline import init_notebook_mode,iplot\n",
    "import plotly.graph_objs as go\n",
    "sns.set_style(\"whitegrid\")"
   ]
  },
  {
   "cell_type": "code",
   "execution_count": 48,
   "metadata": {},
   "outputs": [
    {
     "data": {
      "text/html": [
       "        <script type=\"text/javascript\">\n",
       "        window.PlotlyConfig = {MathJaxConfig: 'local'};\n",
       "        if (window.MathJax) {MathJax.Hub.Config({SVG: {font: \"STIX-Web\"}});}\n",
       "        if (typeof require !== 'undefined') {\n",
       "        require.undef(\"plotly\");\n",
       "        requirejs.config({\n",
       "            paths: {\n",
       "                'plotly': ['https://cdn.plot.ly/plotly-latest.min']\n",
       "            }\n",
       "        });\n",
       "        require(['plotly'], function(Plotly) {\n",
       "            window._Plotly = Plotly;\n",
       "        });\n",
       "        }\n",
       "        </script>\n",
       "        "
      ]
     },
     "metadata": {},
     "output_type": "display_data"
    }
   ],
   "source": [
    "init_notebook_mode(connected = True)"
   ]
  },
  {
   "cell_type": "code",
   "execution_count": 3,
   "metadata": {},
   "outputs": [
    {
     "name": "stdout",
     "output_type": "stream",
     "text": [
      "Numpy version: 1.15.4\n",
      "Pandas version: 0.23.4\n",
      "Seaborn version: 0.9.0\n"
     ]
    }
   ],
   "source": [
    "## version of packages used\n",
    "print(f'Numpy version: {np.__version__}')\n",
    "print(f'Pandas version: {pd.__version__}')\n",
    "#print(f'Matplotlib version: {plt.__version__}')\n",
    "print(f'Seaborn version: {sns.__version__}')"
   ]
  },
  {
   "cell_type": "markdown",
   "metadata": {},
   "source": [
    "## 2).The Data\n",
    "\n",
    "**The data contain following information :-**\n",
    "\n",
    "* **bookIDA :** unique Identification number for each book.\n",
    "* **title :** The name under which the book was published.\n",
    "* **authors :** Names of the authors of the book. Multiple authors are delimited with/.\n",
    "* **average_rating :** The average rating of the book received in total.\n",
    "* **isbn :** Another unique number to identify the book, the International Standard Book Number.\n",
    "* **isbn13 :** A 13-digit ISBN to identify the book, instead of the standard 11-digit ISBN.\n",
    "* **language_code :** Helps understand what is the primary language of the book. For instance, eng is standard for English.\n",
    "* **num_pages :** Number of pages the book contains.\n",
    "* **ratings_count :** Total number of ratings the book received.\n",
    "* **text_reviews_count :** Total number of written text reviews the book received.\n",
    "* **publication_date :** Date when the book was first published.\n",
    "* **publisher :** The name of the publisher. \n",
    "\n",
    "\n",
    "**Read the data from the books.csv file in Books folder**"
   ]
  },
  {
   "cell_type": "code",
   "execution_count": 4,
   "metadata": {},
   "outputs": [
    {
     "name": "stderr",
     "output_type": "stream",
     "text": [
      "b'Skipping line 3350: expected 12 fields, saw 13\\nSkipping line 4704: expected 12 fields, saw 13\\nSkipping line 5879: expected 12 fields, saw 13\\nSkipping line 8981: expected 12 fields, saw 13\\n'\n"
     ]
    }
   ],
   "source": [
    "#save the data from books.csv in books dataframe\n",
    "books=pd.read_csv(\"Images/books.csv\",error_bad_lines=False)"
   ]
  },
  {
   "cell_type": "markdown",
   "metadata": {},
   "source": [
    "Using head function to display the data in books"
   ]
  },
  {
   "cell_type": "code",
   "execution_count": 5,
   "metadata": {},
   "outputs": [
    {
     "data": {
      "text/html": [
       "<div>\n",
       "<style scoped>\n",
       "    .dataframe tbody tr th:only-of-type {\n",
       "        vertical-align: middle;\n",
       "    }\n",
       "\n",
       "    .dataframe tbody tr th {\n",
       "        vertical-align: top;\n",
       "    }\n",
       "\n",
       "    .dataframe thead th {\n",
       "        text-align: right;\n",
       "    }\n",
       "</style>\n",
       "<table border=\"1\" class=\"dataframe\">\n",
       "  <thead>\n",
       "    <tr style=\"text-align: right;\">\n",
       "      <th></th>\n",
       "      <th>bookID</th>\n",
       "      <th>title</th>\n",
       "      <th>authors</th>\n",
       "      <th>average_rating</th>\n",
       "      <th>isbn</th>\n",
       "      <th>isbn13</th>\n",
       "      <th>language_code</th>\n",
       "      <th>num_pages</th>\n",
       "      <th>ratings_count</th>\n",
       "      <th>text_reviews_count</th>\n",
       "      <th>publication_date</th>\n",
       "      <th>publisher</th>\n",
       "    </tr>\n",
       "  </thead>\n",
       "  <tbody>\n",
       "    <tr>\n",
       "      <th>0</th>\n",
       "      <td>1</td>\n",
       "      <td>Harry Potter and the Half-Blood Prince (Harry ...</td>\n",
       "      <td>J.K. Rowling/Mary GrandPré</td>\n",
       "      <td>4.57</td>\n",
       "      <td>0439785960</td>\n",
       "      <td>9780439785969</td>\n",
       "      <td>eng</td>\n",
       "      <td>652</td>\n",
       "      <td>2095690</td>\n",
       "      <td>27591</td>\n",
       "      <td>9/16/2006</td>\n",
       "      <td>Scholastic Inc.</td>\n",
       "    </tr>\n",
       "    <tr>\n",
       "      <th>1</th>\n",
       "      <td>2</td>\n",
       "      <td>Harry Potter and the Order of the Phoenix (Har...</td>\n",
       "      <td>J.K. Rowling/Mary GrandPré</td>\n",
       "      <td>4.49</td>\n",
       "      <td>0439358078</td>\n",
       "      <td>9780439358071</td>\n",
       "      <td>eng</td>\n",
       "      <td>870</td>\n",
       "      <td>2153167</td>\n",
       "      <td>29221</td>\n",
       "      <td>9/1/2004</td>\n",
       "      <td>Scholastic Inc.</td>\n",
       "    </tr>\n",
       "    <tr>\n",
       "      <th>2</th>\n",
       "      <td>4</td>\n",
       "      <td>Harry Potter and the Chamber of Secrets (Harry...</td>\n",
       "      <td>J.K. Rowling</td>\n",
       "      <td>4.42</td>\n",
       "      <td>0439554896</td>\n",
       "      <td>9780439554893</td>\n",
       "      <td>eng</td>\n",
       "      <td>352</td>\n",
       "      <td>6333</td>\n",
       "      <td>244</td>\n",
       "      <td>11/1/2003</td>\n",
       "      <td>Scholastic</td>\n",
       "    </tr>\n",
       "    <tr>\n",
       "      <th>3</th>\n",
       "      <td>5</td>\n",
       "      <td>Harry Potter and the Prisoner of Azkaban (Harr...</td>\n",
       "      <td>J.K. Rowling/Mary GrandPré</td>\n",
       "      <td>4.56</td>\n",
       "      <td>043965548X</td>\n",
       "      <td>9780439655484</td>\n",
       "      <td>eng</td>\n",
       "      <td>435</td>\n",
       "      <td>2339585</td>\n",
       "      <td>36325</td>\n",
       "      <td>5/1/2004</td>\n",
       "      <td>Scholastic Inc.</td>\n",
       "    </tr>\n",
       "    <tr>\n",
       "      <th>4</th>\n",
       "      <td>8</td>\n",
       "      <td>Harry Potter Boxed Set  Books 1-5 (Harry Potte...</td>\n",
       "      <td>J.K. Rowling/Mary GrandPré</td>\n",
       "      <td>4.78</td>\n",
       "      <td>0439682584</td>\n",
       "      <td>9780439682589</td>\n",
       "      <td>eng</td>\n",
       "      <td>2690</td>\n",
       "      <td>41428</td>\n",
       "      <td>164</td>\n",
       "      <td>9/13/2004</td>\n",
       "      <td>Scholastic</td>\n",
       "    </tr>\n",
       "  </tbody>\n",
       "</table>\n",
       "</div>"
      ],
      "text/plain": [
       "   bookID                                              title  \\\n",
       "0       1  Harry Potter and the Half-Blood Prince (Harry ...   \n",
       "1       2  Harry Potter and the Order of the Phoenix (Har...   \n",
       "2       4  Harry Potter and the Chamber of Secrets (Harry...   \n",
       "3       5  Harry Potter and the Prisoner of Azkaban (Harr...   \n",
       "4       8  Harry Potter Boxed Set  Books 1-5 (Harry Potte...   \n",
       "\n",
       "                      authors  average_rating        isbn         isbn13  \\\n",
       "0  J.K. Rowling/Mary GrandPré            4.57  0439785960  9780439785969   \n",
       "1  J.K. Rowling/Mary GrandPré            4.49  0439358078  9780439358071   \n",
       "2                J.K. Rowling            4.42  0439554896  9780439554893   \n",
       "3  J.K. Rowling/Mary GrandPré            4.56  043965548X  9780439655484   \n",
       "4  J.K. Rowling/Mary GrandPré            4.78  0439682584  9780439682589   \n",
       "\n",
       "  language_code    num_pages  ratings_count  text_reviews_count  \\\n",
       "0           eng          652        2095690               27591   \n",
       "1           eng          870        2153167               29221   \n",
       "2           eng          352           6333                 244   \n",
       "3           eng          435        2339585               36325   \n",
       "4           eng         2690          41428                 164   \n",
       "\n",
       "  publication_date        publisher  \n",
       "0        9/16/2006  Scholastic Inc.  \n",
       "1         9/1/2004  Scholastic Inc.  \n",
       "2        11/1/2003       Scholastic  \n",
       "3         5/1/2004  Scholastic Inc.  \n",
       "4        9/13/2004       Scholastic  "
      ]
     },
     "execution_count": 5,
     "metadata": {},
     "output_type": "execute_result"
    }
   ],
   "source": [
    "#displaying first 5 rows from the books datasset\n",
    "books.head()"
   ]
  },
  {
   "cell_type": "code",
   "execution_count": 6,
   "metadata": {},
   "outputs": [
    {
     "data": {
      "text/plain": [
       "(11123, 12)"
      ]
     },
     "execution_count": 6,
     "metadata": {},
     "output_type": "execute_result"
    }
   ],
   "source": [
    "#using shape funtion to get the number of rows and column of the data.\n",
    "books.shape"
   ]
  },
  {
   "cell_type": "markdown",
   "metadata": {},
   "source": [
    "There are 11123 rows and 12 columns in books dataframe\n"
   ]
  },
  {
   "cell_type": "code",
   "execution_count": 7,
   "metadata": {},
   "outputs": [
    {
     "data": {
      "text/html": [
       "<div>\n",
       "<style scoped>\n",
       "    .dataframe tbody tr th:only-of-type {\n",
       "        vertical-align: middle;\n",
       "    }\n",
       "\n",
       "    .dataframe tbody tr th {\n",
       "        vertical-align: top;\n",
       "    }\n",
       "\n",
       "    .dataframe thead th {\n",
       "        text-align: right;\n",
       "    }\n",
       "</style>\n",
       "<table border=\"1\" class=\"dataframe\">\n",
       "  <thead>\n",
       "    <tr style=\"text-align: right;\">\n",
       "      <th></th>\n",
       "      <th>bookID</th>\n",
       "      <th>average_rating</th>\n",
       "      <th>isbn13</th>\n",
       "      <th>num_pages</th>\n",
       "      <th>ratings_count</th>\n",
       "      <th>text_reviews_count</th>\n",
       "    </tr>\n",
       "  </thead>\n",
       "  <tbody>\n",
       "    <tr>\n",
       "      <th>count</th>\n",
       "      <td>11123.000000</td>\n",
       "      <td>11123.000000</td>\n",
       "      <td>1.112300e+04</td>\n",
       "      <td>11123.000000</td>\n",
       "      <td>1.112300e+04</td>\n",
       "      <td>11123.000000</td>\n",
       "    </tr>\n",
       "    <tr>\n",
       "      <th>mean</th>\n",
       "      <td>21310.856963</td>\n",
       "      <td>3.934075</td>\n",
       "      <td>9.759880e+12</td>\n",
       "      <td>336.405556</td>\n",
       "      <td>1.794285e+04</td>\n",
       "      <td>542.048099</td>\n",
       "    </tr>\n",
       "    <tr>\n",
       "      <th>std</th>\n",
       "      <td>13094.727252</td>\n",
       "      <td>0.350485</td>\n",
       "      <td>4.429758e+11</td>\n",
       "      <td>241.152626</td>\n",
       "      <td>1.124992e+05</td>\n",
       "      <td>2576.619589</td>\n",
       "    </tr>\n",
       "    <tr>\n",
       "      <th>min</th>\n",
       "      <td>1.000000</td>\n",
       "      <td>0.000000</td>\n",
       "      <td>8.987060e+09</td>\n",
       "      <td>0.000000</td>\n",
       "      <td>0.000000e+00</td>\n",
       "      <td>0.000000</td>\n",
       "    </tr>\n",
       "    <tr>\n",
       "      <th>25%</th>\n",
       "      <td>10277.500000</td>\n",
       "      <td>3.770000</td>\n",
       "      <td>9.780345e+12</td>\n",
       "      <td>192.000000</td>\n",
       "      <td>1.040000e+02</td>\n",
       "      <td>9.000000</td>\n",
       "    </tr>\n",
       "    <tr>\n",
       "      <th>50%</th>\n",
       "      <td>20287.000000</td>\n",
       "      <td>3.960000</td>\n",
       "      <td>9.780582e+12</td>\n",
       "      <td>299.000000</td>\n",
       "      <td>7.450000e+02</td>\n",
       "      <td>47.000000</td>\n",
       "    </tr>\n",
       "    <tr>\n",
       "      <th>75%</th>\n",
       "      <td>32104.500000</td>\n",
       "      <td>4.140000</td>\n",
       "      <td>9.780872e+12</td>\n",
       "      <td>416.000000</td>\n",
       "      <td>5.000500e+03</td>\n",
       "      <td>238.000000</td>\n",
       "    </tr>\n",
       "    <tr>\n",
       "      <th>max</th>\n",
       "      <td>45641.000000</td>\n",
       "      <td>5.000000</td>\n",
       "      <td>9.790008e+12</td>\n",
       "      <td>6576.000000</td>\n",
       "      <td>4.597666e+06</td>\n",
       "      <td>94265.000000</td>\n",
       "    </tr>\n",
       "  </tbody>\n",
       "</table>\n",
       "</div>"
      ],
      "text/plain": [
       "             bookID  average_rating        isbn13     num_pages  \\\n",
       "count  11123.000000    11123.000000  1.112300e+04  11123.000000   \n",
       "mean   21310.856963        3.934075  9.759880e+12    336.405556   \n",
       "std    13094.727252        0.350485  4.429758e+11    241.152626   \n",
       "min        1.000000        0.000000  8.987060e+09      0.000000   \n",
       "25%    10277.500000        3.770000  9.780345e+12    192.000000   \n",
       "50%    20287.000000        3.960000  9.780582e+12    299.000000   \n",
       "75%    32104.500000        4.140000  9.780872e+12    416.000000   \n",
       "max    45641.000000        5.000000  9.790008e+12   6576.000000   \n",
       "\n",
       "       ratings_count  text_reviews_count  \n",
       "count   1.112300e+04        11123.000000  \n",
       "mean    1.794285e+04          542.048099  \n",
       "std     1.124992e+05         2576.619589  \n",
       "min     0.000000e+00            0.000000  \n",
       "25%     1.040000e+02            9.000000  \n",
       "50%     7.450000e+02           47.000000  \n",
       "75%     5.000500e+03          238.000000  \n",
       "max     4.597666e+06        94265.000000  "
      ]
     },
     "execution_count": 7,
     "metadata": {},
     "output_type": "execute_result"
    }
   ],
   "source": [
    "#Using describe function to view the statistical details like percentile ,mean,std etc.\n",
    "books.describe()"
   ]
  },
  {
   "cell_type": "markdown",
   "metadata": {},
   "source": [
    "~From the data we got various statistical information like max averge_rating is 5. which means the rating is out of 5."
   ]
  },
  {
   "cell_type": "code",
   "execution_count": 8,
   "metadata": {},
   "outputs": [
    {
     "name": "stdout",
     "output_type": "stream",
     "text": [
      "<class 'pandas.core.frame.DataFrame'>\n",
      "RangeIndex: 11123 entries, 0 to 11122\n",
      "Data columns (total 12 columns):\n",
      "bookID                11123 non-null int64\n",
      "title                 11123 non-null object\n",
      "authors               11123 non-null object\n",
      "average_rating        11123 non-null float64\n",
      "isbn                  11123 non-null object\n",
      "isbn13                11123 non-null int64\n",
      "language_code         11123 non-null object\n",
      "  num_pages           11123 non-null int64\n",
      "ratings_count         11123 non-null int64\n",
      "text_reviews_count    11123 non-null int64\n",
      "publication_date      11123 non-null object\n",
      "publisher             11123 non-null object\n",
      "dtypes: float64(1), int64(5), object(6)\n",
      "memory usage: 1.0+ MB\n"
     ]
    }
   ],
   "source": [
    "#using the info function to get the concise summary of the dataframe\n",
    "books.info()"
   ]
  },
  {
   "cell_type": "markdown",
   "metadata": {},
   "source": [
    " **We get the info that:-**\n",
    "   * bookID ,isbn13 ,num_pages ,ratings_count ,text_reviews_count are of datatype int64\n",
    "   * title ,authors ,isbn ,language_code ,publication_date ,publisher  are of datatype object\n",
    "   * average_rating are of dataype float64\n",
    "   \n",
    "   ~Also the memory required for the books dataframe is about 1.0+ MB\n",
    "   \n",
    "\n",
    "\n",
    "**To make our data small and fast we need to decrease the memory space required by the data**\n",
    "So for that we need to know what exact memory space taken by each column and the exact space of the dataframe."
   ]
  },
  {
   "cell_type": "markdown",
   "metadata": {},
   "source": [
    "## 2).Making dataframe faster and smaller"
   ]
  },
  {
   "cell_type": "code",
   "execution_count": 9,
   "metadata": {},
   "outputs": [
    {
     "name": "stdout",
     "output_type": "stream",
     "text": [
      "<class 'pandas.core.frame.DataFrame'>\n",
      "RangeIndex: 11123 entries, 0 to 11122\n",
      "Data columns (total 12 columns):\n",
      "bookID                11123 non-null int64\n",
      "title                 11123 non-null object\n",
      "authors               11123 non-null object\n",
      "average_rating        11123 non-null float64\n",
      "isbn                  11123 non-null object\n",
      "isbn13                11123 non-null int64\n",
      "language_code         11123 non-null object\n",
      "  num_pages           11123 non-null int64\n",
      "ratings_count         11123 non-null int64\n",
      "text_reviews_count    11123 non-null int64\n",
      "publication_date      11123 non-null object\n",
      "publisher             11123 non-null object\n",
      "dtypes: float64(1), int64(5), object(6)\n",
      "memory usage: 5.2 MB\n"
     ]
    }
   ],
   "source": [
    "#To get exact memory space books dataframe is using\n",
    "books.info(memory_usage = \"deep\")"
   ]
  },
  {
   "cell_type": "markdown",
   "metadata": {},
   "source": [
    "~The total memory usage is 5.2MB"
   ]
  },
  {
   "cell_type": "code",
   "execution_count": 10,
   "metadata": {},
   "outputs": [
    {
     "data": {
      "text/plain": [
       "Index                      80\n",
       "bookID                  88984\n",
       "title                 1044646\n",
       "authors                925543\n",
       "average_rating          88984\n",
       "isbn                   745240\n",
       "isbn13                  88984\n",
       "language_code          670637\n",
       "  num_pages             88984\n",
       "ratings_count           88984\n",
       "text_reviews_count      88984\n",
       "publication_date       731048\n",
       "publisher              806283\n",
       "dtype: int64"
      ]
     },
     "execution_count": 10,
     "metadata": {},
     "output_type": "execute_result"
    }
   ],
   "source": [
    "#to get the memory usage of each individual column\n",
    "books.memory_usage(deep = True)"
   ]
  },
  {
   "cell_type": "markdown",
   "metadata": {},
   "source": [
    "**Making the books dataframe fast and small**\n",
    "* Converting publication_date from object to datetime datatype\n",
    "* Converting language_code from object to category "
   ]
  },
  {
   "cell_type": "code",
   "execution_count": 11,
   "metadata": {},
   "outputs": [],
   "source": [
    "#changing publication_date column from object to dateTime \n",
    "books[\"publication_date\"] = pd.to_datetime(books[\"publication_date\"],  errors='coerce')"
   ]
  },
  {
   "cell_type": "code",
   "execution_count": 12,
   "metadata": {},
   "outputs": [],
   "source": [
    "#changing language_code column from object to category\n",
    "books[\"language_code\"] = books[\"language_code\"].astype(\"category\")"
   ]
  },
  {
   "cell_type": "code",
   "execution_count": 13,
   "metadata": {},
   "outputs": [
    {
     "data": {
      "text/plain": [
       "0    5\n",
       "1    5\n",
       "2    5\n",
       "3    5\n",
       "4    5\n",
       "dtype: int8"
      ]
     },
     "execution_count": 13,
     "metadata": {},
     "output_type": "execute_result"
    }
   ],
   "source": [
    "books[\"language_code\"].cat.codes.head()"
   ]
  },
  {
   "cell_type": "markdown",
   "metadata": {},
   "source": [
    "**why we can remove isbn column from books dataframe?**\n",
    "\n",
    "There are 2 column isbn and isbn13 in books dataframe.isbn consist of 11 digit number assigned to books.But after 2007 13 digit number are assigned to books .Each book has a unique isbn13 and isbn 11. As both are acting as an identity for the books so we can remove one column i.e isbn column because now isbn13 is used."
   ]
  },
  {
   "cell_type": "code",
   "execution_count": 14,
   "metadata": {},
   "outputs": [],
   "source": [
    "#dropping the isbn column.\n",
    "books.drop([\"isbn\"],axis = 1,inplace = True)"
   ]
  },
  {
   "cell_type": "markdown",
   "metadata": {},
   "source": [
    "when exploring the data there are many rows which do not have books ,so remove those rows."
   ]
  },
  {
   "cell_type": "code",
   "execution_count": 15,
   "metadata": {},
   "outputs": [
    {
     "data": {
      "text/plain": [
       "5"
      ]
     },
     "execution_count": 15,
     "metadata": {},
     "output_type": "execute_result"
    }
   ],
   "source": [
    "no_book = books[books[\"authors\"] == \"NOT A BOOK\"]\n",
    "no_book[\"title\"].count()"
   ]
  },
  {
   "cell_type": "markdown",
   "metadata": {},
   "source": [
    "The above list are not the books but the series so we have to delete those specific rows"
   ]
  },
  {
   "cell_type": "code",
   "execution_count": 16,
   "metadata": {},
   "outputs": [],
   "source": [
    "books.drop(no_book.index,axis = 0,inplace = True)"
   ]
  },
  {
   "cell_type": "code",
   "execution_count": 17,
   "metadata": {},
   "outputs": [],
   "source": [
    "#Converting the the author column into the list \n",
    "#books[\"authors\"] = books[\"authors\"].apply(lambda x: x.split(\"/\"))\n",
    "#books[\"authors\"].head()"
   ]
  },
  {
   "cell_type": "code",
   "execution_count": 18,
   "metadata": {},
   "outputs": [
    {
     "name": "stdout",
     "output_type": "stream",
     "text": [
      "<class 'pandas.core.frame.DataFrame'>\n",
      "Int64Index: 11118 entries, 0 to 11122\n",
      "Data columns (total 11 columns):\n",
      "bookID                11118 non-null int64\n",
      "title                 11118 non-null object\n",
      "authors               11118 non-null object\n",
      "average_rating        11118 non-null float64\n",
      "isbn13                11118 non-null int64\n",
      "language_code         11118 non-null category\n",
      "  num_pages           11118 non-null int64\n",
      "ratings_count         11118 non-null int64\n",
      "text_reviews_count    11118 non-null int64\n",
      "publication_date      11116 non-null datetime64[ns]\n",
      "publisher             11118 non-null object\n",
      "dtypes: category(1), datetime64[ns](1), float64(1), int64(5), object(3)\n",
      "memory usage: 3.3 MB\n"
     ]
    }
   ],
   "source": [
    "books.info(memory_usage = \"deep\")"
   ]
  },
  {
   "cell_type": "markdown",
   "metadata": {},
   "source": [
    "Now we can see that the memory usage is 3.3 MB from 5.2 MB. \n",
    "this is beneficial cause \n",
    "* will make books dataframe faster.\n",
    "* will become smaller"
   ]
  },
  {
   "cell_type": "code",
   "execution_count": 19,
   "metadata": {},
   "outputs": [
    {
     "name": "stdout",
     "output_type": "stream",
     "text": [
      "The dataframe contains books published from 1900 to 2020 year\n"
     ]
    }
   ],
   "source": [
    "print(\"The dataframe contains books published from {} to {} year\".format(books[\"publication_date\"].min().year,\n",
    "                                                                         books[\"publication_date\"].max().year))\n"
   ]
  },
  {
   "cell_type": "markdown",
   "metadata": {},
   "source": [
    "## 3).Data Analysis and Visualization\n"
   ]
  },
  {
   "cell_type": "markdown",
   "metadata": {},
   "source": [
    "### Lets find out number of books in different languages"
   ]
  },
  {
   "cell_type": "code",
   "execution_count": 20,
   "metadata": {},
   "outputs": [
    {
     "data": {
      "image/png": "[encoded data removed]",
      "text/plain": [
       "<Figure size 1080x360 with 1 Axes>"
      ]
     },
     "metadata": {
      "needs_background": "light"
     },
     "output_type": "display_data"
    }
   ],
   "source": [
    "\n",
    "ax =books.groupby('language_code')['title'].count().reset_index().sort_values('title',ascending=False).head(10).set_index('language_code').plot.bar(figsize=(15,5),rot=0)\n",
    "plt.title('language code',fontsize=20)\n",
    "plt.xticks(fontsize=15)\n",
    "for p in ax.patches:\n",
    "    ax.annotate(str(p.get_height()),(p.get_x()+0.1,p.get_height()+100))"
   ]
  },
  {
   "cell_type": "markdown",
   "metadata": {},
   "source": [
    "**Hence the top 10 languages who have most number of books whose books are**\n",
    "* eng    English  \n",
    "* en-US  American English\n",
    "* spa    Spanish \n",
    "* en-GB  British English \n",
    "* fre    French \n",
    "* ger    German  \n",
    "* jpn    Japanese\n",
    "* mul    Multiple languages\n",
    "* zho    Chinese \n",
    "* grc    Greek, Ancient  "
   ]
  },
  {
   "cell_type": "markdown",
   "metadata": {},
   "source": [
    "### Average rating for the books according to the language"
   ]
  },
  {
   "cell_type": "code",
   "execution_count": 21,
   "metadata": {},
   "outputs": [
    {
     "data": {
      "text/plain": [
       "language_code\n",
       "wel      5.00\n",
       "eng      5.00\n",
       "grc      5.00\n",
       "en-US    4.88\n",
       "ger      4.78\n",
       "en-GB    4.72\n",
       "zho      4.60\n",
       "fre      4.59\n",
       "jpn      4.57\n",
       "spa      4.57\n",
       "Name: average_rating, dtype: float64"
      ]
     },
     "execution_count": 21,
     "metadata": {},
     "output_type": "execute_result"
    }
   ],
   "source": [
    "#In this we have found top 10 languages which recevied the maximum rating\n",
    "books.groupby(\"language_code\").average_rating.max().sort_values(ascending = False).head(10)\n"
   ]
  },
  {
   "cell_type": "markdown",
   "metadata": {},
   "source": [
    "**Hence the top 10 languages whose books recived maximum average_rating are**\n",
    "* wel    Welsh\n",
    "* eng    English  \n",
    "* grc    Greek, Ancient  \n",
    "* en-US  American English  \n",
    "* ger    German  \n",
    "* en-GB  British English \n",
    "* zho    Chinese \n",
    "* fre    French \n",
    "* jpn    Japanese \n",
    "* spa    Spanish "
   ]
  },
  {
   "cell_type": "markdown",
   "metadata": {},
   "source": [
    "### Analysing with respect to average rating"
   ]
  },
  {
   "cell_type": "code",
   "execution_count": 22,
   "metadata": {},
   "outputs": [
    {
     "data": {
      "text/html": [
       "<div>\n",
       "<style scoped>\n",
       "    .dataframe tbody tr th:only-of-type {\n",
       "        vertical-align: middle;\n",
       "    }\n",
       "\n",
       "    .dataframe tbody tr th {\n",
       "        vertical-align: top;\n",
       "    }\n",
       "\n",
       "    .dataframe thead th {\n",
       "        text-align: right;\n",
       "    }\n",
       "</style>\n",
       "<table border=\"1\" class=\"dataframe\">\n",
       "  <thead>\n",
       "    <tr style=\"text-align: right;\">\n",
       "      <th></th>\n",
       "      <th>average_rating</th>\n",
       "      <th>title</th>\n",
       "      <th>authors</th>\n",
       "      <th>ratings_count</th>\n",
       "      <th>text_reviews_count</th>\n",
       "    </tr>\n",
       "  </thead>\n",
       "  <tbody>\n",
       "    <tr>\n",
       "      <th>8544</th>\n",
       "      <td>5.0</td>\n",
       "      <td>Fanning the Flame: Bible  Cross  and Mission</td>\n",
       "      <td>Chris    Green/Chris Wright/Paul Douglas Gardner</td>\n",
       "      <td>1</td>\n",
       "      <td>1</td>\n",
       "    </tr>\n",
       "    <tr>\n",
       "      <th>855</th>\n",
       "      <td>5.0</td>\n",
       "      <td>Literature Circle Guide: Bridge to Terabithia:...</td>\n",
       "      <td>Tara MacCarthy</td>\n",
       "      <td>4</td>\n",
       "      <td>1</td>\n",
       "    </tr>\n",
       "    <tr>\n",
       "      <th>6184</th>\n",
       "      <td>5.0</td>\n",
       "      <td>Taxation of Mineral Rents</td>\n",
       "      <td>Ross Garnaut</td>\n",
       "      <td>1</td>\n",
       "      <td>0</td>\n",
       "    </tr>\n",
       "    <tr>\n",
       "      <th>6775</th>\n",
       "      <td>5.0</td>\n",
       "      <td>Delwau Duon: Peintiadau Nicholas Evans = Symph...</td>\n",
       "      <td>Nicholas    Evans/Rhonda  Evans</td>\n",
       "      <td>1</td>\n",
       "      <td>0</td>\n",
       "    </tr>\n",
       "    <tr>\n",
       "      <th>5648</th>\n",
       "      <td>5.0</td>\n",
       "      <td>Colossians and Philemon: A Critical and Exeget...</td>\n",
       "      <td>R. McL. Wilson</td>\n",
       "      <td>1</td>\n",
       "      <td>0</td>\n",
       "    </tr>\n",
       "    <tr>\n",
       "      <th>5647</th>\n",
       "      <td>5.0</td>\n",
       "      <td>Winchester Shotguns</td>\n",
       "      <td>Dennis Adler/R.L. Wilson</td>\n",
       "      <td>2</td>\n",
       "      <td>0</td>\n",
       "    </tr>\n",
       "    <tr>\n",
       "      <th>5023</th>\n",
       "      <td>5.0</td>\n",
       "      <td>The Complete Theory Fun Factory: Music Theory ...</td>\n",
       "      <td>Ian        Martin/Katie Elliott</td>\n",
       "      <td>1</td>\n",
       "      <td>0</td>\n",
       "    </tr>\n",
       "    <tr>\n",
       "      <th>4933</th>\n",
       "      <td>5.0</td>\n",
       "      <td>Bulgakov's the Master and Margarita: The Text ...</td>\n",
       "      <td>Elena N. Mahlow</td>\n",
       "      <td>4</td>\n",
       "      <td>0</td>\n",
       "    </tr>\n",
       "    <tr>\n",
       "      <th>4788</th>\n",
       "      <td>5.0</td>\n",
       "      <td>The Diamond Color Meditation: Color Pathway to...</td>\n",
       "      <td>John  Diamond</td>\n",
       "      <td>5</td>\n",
       "      <td>3</td>\n",
       "    </tr>\n",
       "    <tr>\n",
       "      <th>4125</th>\n",
       "      <td>5.0</td>\n",
       "      <td>Zone of the Enders: The 2nd Runner Official St...</td>\n",
       "      <td>Tim Bogenn</td>\n",
       "      <td>2</td>\n",
       "      <td>0</td>\n",
       "    </tr>\n",
       "  </tbody>\n",
       "</table>\n",
       "</div>"
      ],
      "text/plain": [
       "      average_rating                                              title  \\\n",
       "8544             5.0       Fanning the Flame: Bible  Cross  and Mission   \n",
       "855              5.0  Literature Circle Guide: Bridge to Terabithia:...   \n",
       "6184             5.0                          Taxation of Mineral Rents   \n",
       "6775             5.0  Delwau Duon: Peintiadau Nicholas Evans = Symph...   \n",
       "5648             5.0  Colossians and Philemon: A Critical and Exeget...   \n",
       "5647             5.0                                Winchester Shotguns   \n",
       "5023             5.0  The Complete Theory Fun Factory: Music Theory ...   \n",
       "4933             5.0  Bulgakov's the Master and Margarita: The Text ...   \n",
       "4788             5.0  The Diamond Color Meditation: Color Pathway to...   \n",
       "4125             5.0  Zone of the Enders: The 2nd Runner Official St...   \n",
       "\n",
       "                                               authors  ratings_count  \\\n",
       "8544  Chris    Green/Chris Wright/Paul Douglas Gardner              1   \n",
       "855                                     Tara MacCarthy              4   \n",
       "6184                                      Ross Garnaut              1   \n",
       "6775                   Nicholas    Evans/Rhonda  Evans              1   \n",
       "5648                                    R. McL. Wilson              1   \n",
       "5647                          Dennis Adler/R.L. Wilson              2   \n",
       "5023                   Ian        Martin/Katie Elliott              1   \n",
       "4933                                   Elena N. Mahlow              4   \n",
       "4788                                     John  Diamond              5   \n",
       "4125                                        Tim Bogenn              2   \n",
       "\n",
       "      text_reviews_count  \n",
       "8544                   1  \n",
       "855                    1  \n",
       "6184                   0  \n",
       "6775                   0  \n",
       "5648                   0  \n",
       "5647                   0  \n",
       "5023                   0  \n",
       "4933                   0  \n",
       "4788                   3  \n",
       "4125                   0  "
      ]
     },
     "execution_count": 22,
     "metadata": {},
     "output_type": "execute_result"
    }
   ],
   "source": [
    "#displaying list of 5 best rated books from 1900 to 2020.\n",
    "books.sort_values(\"average_rating\",ascending = False)[[\"average_rating\",\"title\",\"authors\",\"ratings_count\",\"text_reviews_count\"]].head(10)"
   ]
  },
  {
   "cell_type": "markdown",
   "metadata": {},
   "source": [
    "~Hence the Top average rated book is \n",
    "\n",
    "<img src=\"Images/book3.jpg\">"
   ]
  },
  {
   "cell_type": "markdown",
   "metadata": {},
   "source": [
    "~ Although the average_count is high but the ratings_count and text_reviews_count are low"
   ]
  },
  {
   "cell_type": "markdown",
   "metadata": {},
   "source": [
    "### Most frequent pubhlisher of top 20 books with repect to average rating\n"
   ]
  },
  {
   "cell_type": "code",
   "execution_count": 23,
   "metadata": {},
   "outputs": [
    {
     "data": {
      "text/plain": [
       "8544                           Zondervan\n",
       "855                   Teaching Resources\n",
       "6184        Oxford University Press  USA\n",
       "6775                             Y Lolfa\n",
       "5648                     T&T Clark Int'l\n",
       "5647                     Chartwell Books\n",
       "5023                 Boosey & Hawkes Inc\n",
       "4933                       Vantage Press\n",
       "4788               Square One Publishers\n",
       "4125                          BradyGames\n",
       "9282     University Press of New England\n",
       "9324                        Disney Press\n",
       "9720                     Academica Press\n",
       "9847          Texas A&M University Press\n",
       "9893                           Multnomah\n",
       "1243                  Arcadia Publishing\n",
       "6247                       Courage Books\n",
       "10262                           Raintree\n",
       "624         Oxford University Press  USA\n",
       "786                       Schirmer Mosel\n",
       "Name: publisher, dtype: object"
      ]
     },
     "execution_count": 23,
     "metadata": {},
     "output_type": "execute_result"
    }
   ],
   "source": [
    "books.sort_values(\"average_rating\",ascending = False)[\"publisher\"].head(20)"
   ]
  },
  {
   "cell_type": "markdown",
   "metadata": {},
   "source": [
    "### Now Finding the best top average_rated books for 1900s and 2000s"
   ]
  },
  {
   "cell_type": "code",
   "execution_count": 24,
   "metadata": {},
   "outputs": [
    {
     "data": {
      "text/html": [
       "<div>\n",
       "<style scoped>\n",
       "    .dataframe tbody tr th:only-of-type {\n",
       "        vertical-align: middle;\n",
       "    }\n",
       "\n",
       "    .dataframe tbody tr th {\n",
       "        vertical-align: top;\n",
       "    }\n",
       "\n",
       "    .dataframe thead th {\n",
       "        text-align: right;\n",
       "    }\n",
       "</style>\n",
       "<table border=\"1\" class=\"dataframe\">\n",
       "  <thead>\n",
       "    <tr style=\"text-align: right;\">\n",
       "      <th></th>\n",
       "      <th>average_rating</th>\n",
       "      <th>title</th>\n",
       "      <th>authors</th>\n",
       "    </tr>\n",
       "  </thead>\n",
       "  <tbody>\n",
       "    <tr>\n",
       "      <th>4933</th>\n",
       "      <td>5.00</td>\n",
       "      <td>Bulgakov's the Master and Margarita: The Text ...</td>\n",
       "      <td>Elena N. Mahlow</td>\n",
       "    </tr>\n",
       "    <tr>\n",
       "      <th>624</th>\n",
       "      <td>5.00</td>\n",
       "      <td>Comoediae 1: Acharenses/Equites/Nubes/Vespae/P...</td>\n",
       "      <td>Aristophanes/F.W. Hall/W.M. Geldart</td>\n",
       "    </tr>\n",
       "    <tr>\n",
       "      <th>6775</th>\n",
       "      <td>5.00</td>\n",
       "      <td>Delwau Duon: Peintiadau Nicholas Evans = Symph...</td>\n",
       "      <td>Nicholas    Evans/Rhonda  Evans</td>\n",
       "    </tr>\n",
       "    <tr>\n",
       "      <th>6184</th>\n",
       "      <td>5.00</td>\n",
       "      <td>Taxation of Mineral Rents</td>\n",
       "      <td>Ross Garnaut</td>\n",
       "    </tr>\n",
       "    <tr>\n",
       "      <th>6973</th>\n",
       "      <td>4.78</td>\n",
       "      <td>Wissenschaft der Logik: Die Lehre Vom Begriff ...</td>\n",
       "      <td>Georg Wilhelm Friedrich Hegel</td>\n",
       "    </tr>\n",
       "    <tr>\n",
       "      <th>6589</th>\n",
       "      <td>4.76</td>\n",
       "      <td>It's a Magical World (Calvin and Hobbes  #11)</td>\n",
       "      <td>Bill Watterson</td>\n",
       "    </tr>\n",
       "    <tr>\n",
       "      <th>6590</th>\n",
       "      <td>4.72</td>\n",
       "      <td>Homicidal Psycho Jungle Cat (Calvin and Hobbes...</td>\n",
       "      <td>Bill Watterson</td>\n",
       "    </tr>\n",
       "    <tr>\n",
       "      <th>10937</th>\n",
       "      <td>4.70</td>\n",
       "      <td>The Price of the Ticket: Collected Nonfiction ...</td>\n",
       "      <td>James Baldwin</td>\n",
       "    </tr>\n",
       "    <tr>\n",
       "      <th>6591</th>\n",
       "      <td>4.69</td>\n",
       "      <td>The Days Are Just Packed</td>\n",
       "      <td>Bill Watterson</td>\n",
       "    </tr>\n",
       "    <tr>\n",
       "      <th>2248</th>\n",
       "      <td>4.67</td>\n",
       "      <td>Bill Buzz</td>\n",
       "      <td>Roger Hargreaves/Gray Jolliffe</td>\n",
       "    </tr>\n",
       "  </tbody>\n",
       "</table>\n",
       "</div>"
      ],
      "text/plain": [
       "       average_rating                                              title  \\\n",
       "4933             5.00  Bulgakov's the Master and Margarita: The Text ...   \n",
       "624              5.00  Comoediae 1: Acharenses/Equites/Nubes/Vespae/P...   \n",
       "6775             5.00  Delwau Duon: Peintiadau Nicholas Evans = Symph...   \n",
       "6184             5.00                          Taxation of Mineral Rents   \n",
       "6973             4.78  Wissenschaft der Logik: Die Lehre Vom Begriff ...   \n",
       "6589             4.76      It's a Magical World (Calvin and Hobbes  #11)   \n",
       "6590             4.72  Homicidal Psycho Jungle Cat (Calvin and Hobbes...   \n",
       "10937            4.70  The Price of the Ticket: Collected Nonfiction ...   \n",
       "6591             4.69                           The Days Are Just Packed   \n",
       "2248             4.67                                          Bill Buzz   \n",
       "\n",
       "                                   authors  \n",
       "4933                       Elena N. Mahlow  \n",
       "624    Aristophanes/F.W. Hall/W.M. Geldart  \n",
       "6775       Nicholas    Evans/Rhonda  Evans  \n",
       "6184                          Ross Garnaut  \n",
       "6973         Georg Wilhelm Friedrich Hegel  \n",
       "6589                        Bill Watterson  \n",
       "6590                        Bill Watterson  \n",
       "10937                        James Baldwin  \n",
       "6591                        Bill Watterson  \n",
       "2248        Roger Hargreaves/Gray Jolliffe  "
      ]
     },
     "execution_count": 24,
     "metadata": {},
     "output_type": "execute_result"
    }
   ],
   "source": [
    "#best top 10 average_rated of 1900s \n",
    "ts = pd.to_datetime(\"1/1/2000\")\n",
    "books19s = books.loc[books[\"publication_date\"] < ts, : ]\n",
    "books19s.sort_values(\"average_rating\",ascending = False)[[\"average_rating\",\"title\",\"authors\"]].head(10)"
   ]
  },
  {
   "cell_type": "markdown",
   "metadata": {},
   "source": [
    "~The above list is the best 10 top average_rated books of 1900s"
   ]
  },
  {
   "cell_type": "code",
   "execution_count": 25,
   "metadata": {},
   "outputs": [
    {
     "data": {
      "text/html": [
       "<div>\n",
       "<style scoped>\n",
       "    .dataframe tbody tr th:only-of-type {\n",
       "        vertical-align: middle;\n",
       "    }\n",
       "\n",
       "    .dataframe tbody tr th {\n",
       "        vertical-align: top;\n",
       "    }\n",
       "\n",
       "    .dataframe thead th {\n",
       "        text-align: right;\n",
       "    }\n",
       "</style>\n",
       "<table border=\"1\" class=\"dataframe\">\n",
       "  <thead>\n",
       "    <tr style=\"text-align: right;\">\n",
       "      <th></th>\n",
       "      <th>average_rating</th>\n",
       "      <th>title</th>\n",
       "      <th>authors</th>\n",
       "    </tr>\n",
       "  </thead>\n",
       "  <tbody>\n",
       "    <tr>\n",
       "      <th>5648</th>\n",
       "      <td>5.0</td>\n",
       "      <td>Colossians and Philemon: A Critical and Exeget...</td>\n",
       "      <td>R. McL. Wilson</td>\n",
       "    </tr>\n",
       "    <tr>\n",
       "      <th>9720</th>\n",
       "      <td>5.0</td>\n",
       "      <td>The Irish Anatomist: A Study of Flann O'Brien</td>\n",
       "      <td>Keith Donohue</td>\n",
       "    </tr>\n",
       "    <tr>\n",
       "      <th>9282</th>\n",
       "      <td>5.0</td>\n",
       "      <td>Oliver Wendell Holmes in Paris: Medicine  Theo...</td>\n",
       "      <td>William C. Dowling</td>\n",
       "    </tr>\n",
       "    <tr>\n",
       "      <th>9324</th>\n",
       "      <td>5.0</td>\n",
       "      <td>Tyrannosaurus Wrecks (Stanley  #1)</td>\n",
       "      <td>Laura Driscoll/Alisa Klayman-Grodsky/Eric     ...</td>\n",
       "    </tr>\n",
       "    <tr>\n",
       "      <th>10262</th>\n",
       "      <td>5.0</td>\n",
       "      <td>Bill Gates: Computer Legend (Famous Lives)</td>\n",
       "      <td>Sara Barton-Wood</td>\n",
       "    </tr>\n",
       "    <tr>\n",
       "      <th>1243</th>\n",
       "      <td>5.0</td>\n",
       "      <td>Middlesex Borough (Images of America: New Jersey)</td>\n",
       "      <td>Middlesex Borough Heritage Committee</td>\n",
       "    </tr>\n",
       "    <tr>\n",
       "      <th>855</th>\n",
       "      <td>5.0</td>\n",
       "      <td>Literature Circle Guide: Bridge to Terabithia:...</td>\n",
       "      <td>Tara MacCarthy</td>\n",
       "    </tr>\n",
       "    <tr>\n",
       "      <th>5647</th>\n",
       "      <td>5.0</td>\n",
       "      <td>Winchester Shotguns</td>\n",
       "      <td>Dennis Adler/R.L. Wilson</td>\n",
       "    </tr>\n",
       "    <tr>\n",
       "      <th>786</th>\n",
       "      <td>5.0</td>\n",
       "      <td>Willem de Kooning: Late Paintings</td>\n",
       "      <td>Julie Sylvester/David Sylvester</td>\n",
       "    </tr>\n",
       "    <tr>\n",
       "      <th>6247</th>\n",
       "      <td>5.0</td>\n",
       "      <td>The New Big Book of America</td>\n",
       "      <td>Todd Davis/Marc Frey</td>\n",
       "    </tr>\n",
       "  </tbody>\n",
       "</table>\n",
       "</div>"
      ],
      "text/plain": [
       "       average_rating                                              title  \\\n",
       "5648              5.0  Colossians and Philemon: A Critical and Exeget...   \n",
       "9720              5.0      The Irish Anatomist: A Study of Flann O'Brien   \n",
       "9282              5.0  Oliver Wendell Holmes in Paris: Medicine  Theo...   \n",
       "9324              5.0                 Tyrannosaurus Wrecks (Stanley  #1)   \n",
       "10262             5.0         Bill Gates: Computer Legend (Famous Lives)   \n",
       "1243              5.0  Middlesex Borough (Images of America: New Jersey)   \n",
       "855               5.0  Literature Circle Guide: Bridge to Terabithia:...   \n",
       "5647              5.0                                Winchester Shotguns   \n",
       "786               5.0                  Willem de Kooning: Late Paintings   \n",
       "6247              5.0                        The New Big Book of America   \n",
       "\n",
       "                                                 authors  \n",
       "5648                                      R. McL. Wilson  \n",
       "9720                                       Keith Donohue  \n",
       "9282                                  William C. Dowling  \n",
       "9324   Laura Driscoll/Alisa Klayman-Grodsky/Eric     ...  \n",
       "10262                                   Sara Barton-Wood  \n",
       "1243                Middlesex Borough Heritage Committee  \n",
       "855                                       Tara MacCarthy  \n",
       "5647                            Dennis Adler/R.L. Wilson  \n",
       "786                      Julie Sylvester/David Sylvester  \n",
       "6247                                Todd Davis/Marc Frey  "
      ]
     },
     "execution_count": 25,
     "metadata": {},
     "output_type": "execute_result"
    }
   ],
   "source": [
    "books20s = books.loc[books[\"publication_date\"] >= ts, : ]\n",
    "books20s.sort_values(\"average_rating\",ascending = False)[[\"average_rating\",\"title\",\"authors\"]].head(10)"
   ]
  },
  {
   "cell_type": "markdown",
   "metadata": {},
   "source": [
    "~The above is the best 10 top average_rated books of 2000s "
   ]
  },
  {
   "cell_type": "markdown",
   "metadata": {},
   "source": [
    "### To Find top 10 books which recived the highest rating counts\n",
    "\n",
    "\n",
    "\n",
    "**~ratings_count :- Total number of rating a book recived**"
   ]
  },
  {
   "cell_type": "code",
   "execution_count": 26,
   "metadata": {},
   "outputs": [
    {
     "data": {
      "text/html": [
       "<div>\n",
       "<style scoped>\n",
       "    .dataframe tbody tr th:only-of-type {\n",
       "        vertical-align: middle;\n",
       "    }\n",
       "\n",
       "    .dataframe tbody tr th {\n",
       "        vertical-align: top;\n",
       "    }\n",
       "\n",
       "    .dataframe thead th {\n",
       "        text-align: right;\n",
       "    }\n",
       "</style>\n",
       "<table border=\"1\" class=\"dataframe\">\n",
       "  <thead>\n",
       "    <tr style=\"text-align: right;\">\n",
       "      <th></th>\n",
       "      <th>ratings_count</th>\n",
       "      <th>title</th>\n",
       "      <th>authors</th>\n",
       "    </tr>\n",
       "  </thead>\n",
       "  <tbody>\n",
       "    <tr>\n",
       "      <th>10336</th>\n",
       "      <td>4597666</td>\n",
       "      <td>Twilight (Twilight  #1)</td>\n",
       "      <td>Stephenie Meyer</td>\n",
       "    </tr>\n",
       "    <tr>\n",
       "      <th>1697</th>\n",
       "      <td>2530894</td>\n",
       "      <td>The Hobbit  or There and Back Again</td>\n",
       "      <td>J.R.R. Tolkien</td>\n",
       "    </tr>\n",
       "    <tr>\n",
       "      <th>1462</th>\n",
       "      <td>2457092</td>\n",
       "      <td>The Catcher in the Rye</td>\n",
       "      <td>J.D. Salinger</td>\n",
       "    </tr>\n",
       "    <tr>\n",
       "      <th>307</th>\n",
       "      <td>2418736</td>\n",
       "      <td>Angels &amp; Demons (Robert Langdon  #1)</td>\n",
       "      <td>Dan Brown</td>\n",
       "    </tr>\n",
       "    <tr>\n",
       "      <th>3</th>\n",
       "      <td>2339585</td>\n",
       "      <td>Harry Potter and the Prisoner of Azkaban (Harr...</td>\n",
       "      <td>J.K. Rowling/Mary GrandPré</td>\n",
       "    </tr>\n",
       "    <tr>\n",
       "      <th>4415</th>\n",
       "      <td>2293963</td>\n",
       "      <td>Harry Potter and the Chamber of Secrets (Harry...</td>\n",
       "      <td>J.K. Rowling/Mary GrandPré</td>\n",
       "    </tr>\n",
       "    <tr>\n",
       "      <th>1</th>\n",
       "      <td>2153167</td>\n",
       "      <td>Harry Potter and the Order of the Phoenix (Har...</td>\n",
       "      <td>J.K. Rowling/Mary GrandPré</td>\n",
       "    </tr>\n",
       "    <tr>\n",
       "      <th>23</th>\n",
       "      <td>2128944</td>\n",
       "      <td>The Fellowship of the Ring (The Lord of the Ri...</td>\n",
       "      <td>J.R.R. Tolkien</td>\n",
       "    </tr>\n",
       "    <tr>\n",
       "      <th>2114</th>\n",
       "      <td>2111750</td>\n",
       "      <td>Animal Farm</td>\n",
       "      <td>George Orwell/Boris Grabnar/Peter Škerl</td>\n",
       "    </tr>\n",
       "    <tr>\n",
       "      <th>0</th>\n",
       "      <td>2095690</td>\n",
       "      <td>Harry Potter and the Half-Blood Prince (Harry ...</td>\n",
       "      <td>J.K. Rowling/Mary GrandPré</td>\n",
       "    </tr>\n",
       "  </tbody>\n",
       "</table>\n",
       "</div>"
      ],
      "text/plain": [
       "       ratings_count                                              title  \\\n",
       "10336        4597666                            Twilight (Twilight  #1)   \n",
       "1697         2530894                The Hobbit  or There and Back Again   \n",
       "1462         2457092                             The Catcher in the Rye   \n",
       "307          2418736               Angels & Demons (Robert Langdon  #1)   \n",
       "3            2339585  Harry Potter and the Prisoner of Azkaban (Harr...   \n",
       "4415         2293963  Harry Potter and the Chamber of Secrets (Harry...   \n",
       "1            2153167  Harry Potter and the Order of the Phoenix (Har...   \n",
       "23           2128944  The Fellowship of the Ring (The Lord of the Ri...   \n",
       "2114         2111750                                        Animal Farm   \n",
       "0            2095690  Harry Potter and the Half-Blood Prince (Harry ...   \n",
       "\n",
       "                                       authors  \n",
       "10336                          Stephenie Meyer  \n",
       "1697                            J.R.R. Tolkien  \n",
       "1462                             J.D. Salinger  \n",
       "307                                  Dan Brown  \n",
       "3                   J.K. Rowling/Mary GrandPré  \n",
       "4415                J.K. Rowling/Mary GrandPré  \n",
       "1                   J.K. Rowling/Mary GrandPré  \n",
       "23                              J.R.R. Tolkien  \n",
       "2114   George Orwell/Boris Grabnar/Peter Škerl  \n",
       "0                   J.K. Rowling/Mary GrandPré  "
      ]
     },
     "execution_count": 26,
     "metadata": {},
     "output_type": "execute_result"
    }
   ],
   "source": [
    "book = books.sort_values(\"ratings_count\",ascending = False)[[\"ratings_count\",\"title\",\"authors\",]].head(10)\n",
    "book"
   ]
  },
  {
   "cell_type": "code",
   "execution_count": 54,
   "metadata": {},
   "outputs": [
    {
     "data": {
      "application/vnd.plotly.v1+json": {
       "config": {
        "linkText": "Export to plot.ly",
        "plotlyServerURL": "https://plot.ly",
        "showLink": false
       },
       "data": [
        {
         "type": "bar",
         "uid": "b85fc984-dde5-4289-864d-a33f2a92ee6a",
         "x": [
          "Twilight (Twilight  #1)",
          "The Hobbit  or There and Back Again",
          "The Catcher in the Rye",
          "Angels & Demons (Robert Langdon  #1)",
          "Harry Potter and the Prisoner of Azkaban (Harry Potter  #3)",
          "Harry Potter and the Chamber of Secrets (Harry Potter  #2)",
          "Harry Potter and the Order of the Phoenix (Harry Potter  #5)",
          "The Fellowship of the Ring (The Lord of the Rings  #1)",
          "Animal Farm",
          "Harry Potter and the Half-Blood Prince (Harry Potter  #6)"
         ],
         "y": [
          4597666,
          2530894,
          2457092,
          2418736,
          2339585,
          2293963,
          2153167,
          2128944,
          2111750,
          2095690
         ]
        }
       ],
       "layout": {
        "barmode": "group",
        "plot_bgcolor": "rgb(222, 222, 222)",
        "title": {
         "text": "Top 10 books with highest rating counts"
        }
       }
      },
      "text/html": [
       "<div>\n",
       "        \n",
       "        \n",
       "            <div id=\"5d368613-5ee1-4a64-889f-951abf6f7aa5\" class=\"plotly-graph-div\" style=\"height:525px; width:100%;\"></div>\n",
       "            <script type=\"text/javascript\">\n",
       "                require([\"plotly\"], function(Plotly) {\n",
       "                    window.PLOTLYENV=window.PLOTLYENV || {};\n",
       "                    window.PLOTLYENV.BASE_URL='https://plot.ly';\n",
       "                    \n",
       "                if (document.getElementById(\"5d368613-5ee1-4a64-889f-951abf6f7aa5\")) {\n",
       "                    Plotly.newPlot(\n",
       "                        '5d368613-5ee1-4a64-889f-951abf6f7aa5',\n",
       "                        [{\"type\": \"bar\", \"uid\": \"b85fc984-dde5-4289-864d-a33f2a92ee6a\", \"x\": [\"Twilight (Twilight  #1)\", \"The Hobbit  or There and Back Again\", \"The Catcher in the Rye\", \"Angels & Demons (Robert Langdon  #1)\", \"Harry Potter and the Prisoner of Azkaban (Harry Potter  #3)\", \"Harry Potter and the Chamber of Secrets (Harry Potter  #2)\", \"Harry Potter and the Order of the Phoenix (Harry Potter  #5)\", \"The Fellowship of the Ring (The Lord of the Rings  #1)\", \"Animal Farm\", \"Harry Potter and the Half-Blood Prince (Harry Potter  #6)\"], \"y\": [4597666, 2530894, 2457092, 2418736, 2339585, 2293963, 2153167, 2128944, 2111750, 2095690]}],\n",
       "                        {\"barmode\": \"group\", \"plot_bgcolor\": \"rgb(222, 222, 222)\", \"title\": {\"text\": \"Top 10 books with highest rating counts\"}},\n",
       "                        {\"showLink\": false, \"linkText\": \"Export to plot.ly\", \"plotlyServerURL\": \"https://plot.ly\", \"responsive\": true}\n",
       "                    ).then(function(){\n",
       "                            \n",
       "var gd = document.getElementById('5d368613-5ee1-4a64-889f-951abf6f7aa5');\n",
       "var x = new MutationObserver(function (mutations, observer) {{\n",
       "        var display = window.getComputedStyle(gd).display;\n",
       "        if (!display || display === 'none') {{\n",
       "            console.log([gd, 'removed!']);\n",
       "            Plotly.purge(gd);\n",
       "            observer.disconnect();\n",
       "        }}\n",
       "}});\n",
       "\n",
       "// Listen for the removal of the full notebook cells\n",
       "var notebookContainer = gd.closest('#notebook-container');\n",
       "if (notebookContainer) {{\n",
       "    x.observe(notebookContainer, {childList: true});\n",
       "}}\n",
       "\n",
       "// Listen for the clearing of the current output cell\n",
       "var outputEl = gd.closest('.output');\n",
       "if (outputEl) {{\n",
       "    x.observe(outputEl, {childList: true});\n",
       "}}\n",
       "\n",
       "                        })\n",
       "                };\n",
       "                });\n",
       "            </script>\n",
       "        </div>"
      ]
     },
     "metadata": {},
     "output_type": "display_data"
    }
   ],
   "source": [
    "trace1 = go.Bar(x = book[\"title\"],y=book[\"ratings_count\"])\n",
    "layout = go.Layout(barmode = \"group\",title = \"Top 10 books with highest rating counts\", plot_bgcolor='rgb(222, 222, 222)')\n",
    "fig = go.Figure(data = [trace1],layout = layout)\n",
    "iplot(fig,filename = \"grouped-bar\")"
   ]
  },
  {
   "cell_type": "code",
   "execution_count": 51,
   "metadata": {},
   "outputs": [],
   "source": [
    "#Code for plotting the radar chart to get the better understanding about the our data.\n",
    "import numpy as np\n",
    "import matplotlib.pyplot as plt\n",
    "import seaborn as sns # improves plot aesthetics\n",
    "\n",
    "\n",
    "def _invert(x, limits):\n",
    "    \"\"\"inverts a value x on a scale from\n",
    "    limits[0] to limits[1]\"\"\"\n",
    "    return limits[1] - (x - limits[0])\n",
    "\n",
    "def _scale_data(data, ranges):\n",
    "    \"\"\"scales data[1:] to ranges[0],\n",
    "    inverts if the scale is reversed\"\"\"\n",
    "    for d, (y1, y2) in zip(data[1:], ranges[1:]):\n",
    "        assert (y1 <= d <= y2) or (y2 <= d <= y1)\n",
    "    x1, x2 = ranges[0]\n",
    "    d = data[0]\n",
    "    if x1 > x2:\n",
    "        d = _invert(d, (x1, x2))\n",
    "        x1, x2 = x2, x1\n",
    "    sdata = [d]\n",
    "    for d, (y1, y2) in zip(data[1:], ranges[1:]):\n",
    "        if y1 > y2:\n",
    "            d = _invert(d, (y1, y2))\n",
    "            y1, y2 = y2, y1\n",
    "        sdata.append((d-y1) / (y2-y1) \n",
    "                     * (x2 - x1) + x1)\n",
    "    return sdata\n",
    "\n",
    "class ComplexRadar():\n",
    "    def __init__(self, fig, variables, ranges,\n",
    "                 n_ordinate_levels=6):\n",
    "        angles = np.arange(0, 360, 360./len(variables))\n",
    "\n",
    "        axes = [fig.add_axes([0.1,0.1,0.9,0.9],polar=True,\n",
    "                label = \"axes{}\".format(i)) \n",
    "                for i in range(len(variables))]\n",
    "        l, text = axes[0].set_thetagrids(angles, \n",
    "                                         labels=variables)\n",
    "        [txt.set_rotation(angle-90) for txt, angle \n",
    "             in zip(text, angles)]\n",
    "        for ax in axes[1:]:\n",
    "            ax.patch.set_visible(False)\n",
    "            ax.grid(\"off\")\n",
    "            ax.xaxis.set_visible(False)\n",
    "        for i, ax in enumerate(axes):\n",
    "            grid = np.linspace(*ranges[i], \n",
    "                               num=n_ordinate_levels)\n",
    "            gridlabel = [\"{}\".format(round(x,2)) \n",
    "                         for x in grid]\n",
    "            if ranges[i][0] > ranges[i][1]:\n",
    "                grid = grid[::-1] # hack to invert grid\n",
    "                          # gridlabels aren't reversed\n",
    "            gridlabel[0] = \"\" # clean up origin\n",
    "            ax.set_rgrids(grid, labels=gridlabel,\n",
    "                         angle=angles[i])\n",
    "            #ax.spines[\"polar\"].set_visible(False)\n",
    "            ax.set_ylim(*ranges[i])\n",
    "        # variables for plotting\n",
    "        self.angle = np.deg2rad(np.r_[angles, angles[0]])\n",
    "        self.ranges = ranges\n",
    "        self.ax = axes[0]\n",
    "    def plot(self, data, *args, **kw):\n",
    "        sdata = _scale_data(data, self.ranges)\n",
    "        self.ax.plot(self.angle, np.r_[sdata, sdata[0]], *args, **kw)\n",
    "    def fill(self, data, *args, **kw):\n",
    "        sdata = _scale_data(data, self.ranges)\n",
    "        self.ax.fill(self.angle, np.r_[sdata, sdata[0]], *args, **kw)\n",
    "\n",
    "# example data\n",
    "variables = (\"average_rating\",\"ratings_count\" ,\"text_reviews_count \")\n",
    "ranges = [(books[\"average_rating\"].min(),books[\"average_rating\"].max()),\n",
    "         (books[\"ratings_count\"].min(),books[\"ratings_count\"].max()), (books[\"text_reviews_count\"].min(),books[\"text_reviews_count\"].max())]            \n"
   ]
  },
  {
   "cell_type": "code",
   "execution_count": 53,
   "metadata": {},
   "outputs": [
    {
     "name": "stderr",
     "output_type": "stream",
     "text": [
      "C:\\Users\\lenovo\\Anaconda3\\lib\\site-packages\\matplotlib\\cbook\\__init__.py:424: MatplotlibDeprecationWarning:\n",
      "\n",
      "\n",
      "Passing one of 'on', 'true', 'off', 'false' as a boolean is deprecated; use an actual boolean (True/False) instead.\n",
      "\n",
      "C:\\Users\\lenovo\\Anaconda3\\lib\\site-packages\\matplotlib\\cbook\\__init__.py:424: MatplotlibDeprecationWarning:\n",
      "\n",
      "\n",
      "Passing one of 'on', 'true', 'off', 'false' as a boolean is deprecated; use an actual boolean (True/False) instead.\n",
      "\n"
     ]
    },
    {
     "data": {
      "image/png": "[encoded data removed]",
      "text/plain": [
       "<Figure size 432x432 with 3 Axes>"
      ]
     },
     "metadata": {},
     "output_type": "display_data"
    }
   ],
   "source": [
    "index1 = [10336,1697,1462,307,3]\n",
    "fig1 = plt.figure(figsize=(6, 6))\n",
    "radar = ComplexRadar(fig1, variables, ranges)\n",
    "    \n",
    "for i in index1:\n",
    "    data =(books.loc[i,[\"average_rating\",\"ratings_count\",\"text_reviews_count\"] ] )\n",
    "    data = (data[\"average_rating\"],data[\"ratings_count\"],data[\"text_reviews_count\"])\n",
    "    radar.plot(data)\n",
    "    radar.fill(data,alpha = 0.2)\n",
    "plt.show()"
   ]
  },
  {
   "cell_type": "markdown",
   "metadata": {},
   "source": [
    "**~The above radar plot is of top 5 books which have the maximum rating_counts.But we can see that ratings_count and rext_reviews_count are little bit related to each other but ratings_count and average_rating are not that much related as ratings_count and text_reviews_count.**"
   ]
  },
  {
   "cell_type": "markdown",
   "metadata": {},
   "source": [
    "<img src=\"Images/book4.jpg\">"
   ]
  },
  {
   "cell_type": "markdown",
   "metadata": {},
   "source": [
    "### Finding top 10 maximum ratings_count books for 1990's and 2000's "
   ]
  },
  {
   "cell_type": "code",
   "execution_count": 27,
   "metadata": {},
   "outputs": [
    {
     "data": {
      "text/html": [
       "<div>\n",
       "<style scoped>\n",
       "    .dataframe tbody tr th:only-of-type {\n",
       "        vertical-align: middle;\n",
       "    }\n",
       "\n",
       "    .dataframe tbody tr th {\n",
       "        vertical-align: top;\n",
       "    }\n",
       "\n",
       "    .dataframe thead th {\n",
       "        text-align: right;\n",
       "    }\n",
       "</style>\n",
       "<table border=\"1\" class=\"dataframe\">\n",
       "  <thead>\n",
       "    <tr style=\"text-align: right;\">\n",
       "      <th></th>\n",
       "      <th>ratings_count</th>\n",
       "      <th>title</th>\n",
       "      <th>authors</th>\n",
       "    </tr>\n",
       "  </thead>\n",
       "  <tbody>\n",
       "    <tr>\n",
       "      <th>4415</th>\n",
       "      <td>2293963</td>\n",
       "      <td>Harry Potter and the Chamber of Secrets (Harry...</td>\n",
       "      <td>J.K. Rowling/Mary GrandPré</td>\n",
       "    </tr>\n",
       "    <tr>\n",
       "      <th>2116</th>\n",
       "      <td>2036679</td>\n",
       "      <td>Lord of the Flies</td>\n",
       "      <td>William Golding</td>\n",
       "    </tr>\n",
       "    <tr>\n",
       "      <th>284</th>\n",
       "      <td>1631221</td>\n",
       "      <td>The Alchemist</td>\n",
       "      <td>Paulo Coelho/Alan R. Clarke/Özdemir İnce</td>\n",
       "    </tr>\n",
       "    <tr>\n",
       "      <th>1467</th>\n",
       "      <td>1247221</td>\n",
       "      <td>Brave New World</td>\n",
       "      <td>Aldous Huxley</td>\n",
       "    </tr>\n",
       "    <tr>\n",
       "      <th>1430</th>\n",
       "      <td>1001671</td>\n",
       "      <td>Slaughterhouse-Five</td>\n",
       "      <td>Kurt Vonnegut Jr.</td>\n",
       "    </tr>\n",
       "    <tr>\n",
       "      <th>5093</th>\n",
       "      <td>999139</td>\n",
       "      <td>Gone with the Wind</td>\n",
       "      <td>Margaret Mitchell</td>\n",
       "    </tr>\n",
       "    <tr>\n",
       "      <th>3156</th>\n",
       "      <td>978535</td>\n",
       "      <td>The Shining</td>\n",
       "      <td>Stephen King</td>\n",
       "    </tr>\n",
       "    <tr>\n",
       "      <th>566</th>\n",
       "      <td>800349</td>\n",
       "      <td>Into the Wild</td>\n",
       "      <td>Jon Krakauer</td>\n",
       "    </tr>\n",
       "    <tr>\n",
       "      <th>4796</th>\n",
       "      <td>774987</td>\n",
       "      <td>Dracula</td>\n",
       "      <td>Bram Stoker/Nina Auerbach/David J. Skal</td>\n",
       "    </tr>\n",
       "    <tr>\n",
       "      <th>910</th>\n",
       "      <td>764134</td>\n",
       "      <td>The Secret Garden</td>\n",
       "      <td>Frances Hodgson Burnett</td>\n",
       "    </tr>\n",
       "  </tbody>\n",
       "</table>\n",
       "</div>"
      ],
      "text/plain": [
       "      ratings_count                                              title  \\\n",
       "4415        2293963  Harry Potter and the Chamber of Secrets (Harry...   \n",
       "2116        2036679                                  Lord of the Flies   \n",
       "284         1631221                                      The Alchemist   \n",
       "1467        1247221                                    Brave New World   \n",
       "1430        1001671                                Slaughterhouse-Five   \n",
       "5093         999139                                 Gone with the Wind   \n",
       "3156         978535                                        The Shining   \n",
       "566          800349                                      Into the Wild   \n",
       "4796         774987                                            Dracula   \n",
       "910          764134                                  The Secret Garden   \n",
       "\n",
       "                                       authors  \n",
       "4415                J.K. Rowling/Mary GrandPré  \n",
       "2116                           William Golding  \n",
       "284   Paulo Coelho/Alan R. Clarke/Özdemir İnce  \n",
       "1467                             Aldous Huxley  \n",
       "1430                         Kurt Vonnegut Jr.  \n",
       "5093                         Margaret Mitchell  \n",
       "3156                              Stephen King  \n",
       "566                               Jon Krakauer  \n",
       "4796   Bram Stoker/Nina Auerbach/David J. Skal  \n",
       "910                    Frances Hodgson Burnett  "
      ]
     },
     "execution_count": 27,
     "metadata": {},
     "output_type": "execute_result"
    }
   ],
   "source": [
    "#maximum ratings_count books for 1990's\n",
    "books19s.sort_values(\"ratings_count\",ascending = False)[[\"ratings_count\",\"title\",\"authors\"]].head(10)"
   ]
  },
  {
   "cell_type": "markdown",
   "metadata": {},
   "source": [
    "<img src=\"Images/book5.png\">\n",
    "\n",
    "\n",
    "\n",
    "~Harry Potter and the Chamber of Secrets gets the maximum ratings_count for 1990's"
   ]
  },
  {
   "cell_type": "code",
   "execution_count": 28,
   "metadata": {},
   "outputs": [
    {
     "data": {
      "text/html": [
       "<div>\n",
       "<style scoped>\n",
       "    .dataframe tbody tr th:only-of-type {\n",
       "        vertical-align: middle;\n",
       "    }\n",
       "\n",
       "    .dataframe tbody tr th {\n",
       "        vertical-align: top;\n",
       "    }\n",
       "\n",
       "    .dataframe thead th {\n",
       "        text-align: right;\n",
       "    }\n",
       "</style>\n",
       "<table border=\"1\" class=\"dataframe\">\n",
       "  <thead>\n",
       "    <tr style=\"text-align: right;\">\n",
       "      <th></th>\n",
       "      <th>ratings_count</th>\n",
       "      <th>title</th>\n",
       "      <th>authors</th>\n",
       "    </tr>\n",
       "  </thead>\n",
       "  <tbody>\n",
       "    <tr>\n",
       "      <th>10336</th>\n",
       "      <td>4597666</td>\n",
       "      <td>Twilight (Twilight  #1)</td>\n",
       "      <td>Stephenie Meyer</td>\n",
       "    </tr>\n",
       "    <tr>\n",
       "      <th>1697</th>\n",
       "      <td>2530894</td>\n",
       "      <td>The Hobbit  or There and Back Again</td>\n",
       "      <td>J.R.R. Tolkien</td>\n",
       "    </tr>\n",
       "    <tr>\n",
       "      <th>1462</th>\n",
       "      <td>2457092</td>\n",
       "      <td>The Catcher in the Rye</td>\n",
       "      <td>J.D. Salinger</td>\n",
       "    </tr>\n",
       "    <tr>\n",
       "      <th>307</th>\n",
       "      <td>2418736</td>\n",
       "      <td>Angels &amp; Demons (Robert Langdon  #1)</td>\n",
       "      <td>Dan Brown</td>\n",
       "    </tr>\n",
       "    <tr>\n",
       "      <th>3</th>\n",
       "      <td>2339585</td>\n",
       "      <td>Harry Potter and the Prisoner of Azkaban (Harr...</td>\n",
       "      <td>J.K. Rowling/Mary GrandPré</td>\n",
       "    </tr>\n",
       "    <tr>\n",
       "      <th>1</th>\n",
       "      <td>2153167</td>\n",
       "      <td>Harry Potter and the Order of the Phoenix (Har...</td>\n",
       "      <td>J.K. Rowling/Mary GrandPré</td>\n",
       "    </tr>\n",
       "    <tr>\n",
       "      <th>23</th>\n",
       "      <td>2128944</td>\n",
       "      <td>The Fellowship of the Ring (The Lord of the Ri...</td>\n",
       "      <td>J.R.R. Tolkien</td>\n",
       "    </tr>\n",
       "    <tr>\n",
       "      <th>2114</th>\n",
       "      <td>2111750</td>\n",
       "      <td>Animal Farm</td>\n",
       "      <td>George Orwell/Boris Grabnar/Peter Škerl</td>\n",
       "    </tr>\n",
       "    <tr>\n",
       "      <th>0</th>\n",
       "      <td>2095690</td>\n",
       "      <td>Harry Potter and the Half-Blood Prince (Harry ...</td>\n",
       "      <td>J.K. Rowling/Mary GrandPré</td>\n",
       "    </tr>\n",
       "    <tr>\n",
       "      <th>5015</th>\n",
       "      <td>1893917</td>\n",
       "      <td>Romeo and Juliet</td>\n",
       "      <td>William Shakespeare/Paul Werstine/Barbara A. M...</td>\n",
       "    </tr>\n",
       "  </tbody>\n",
       "</table>\n",
       "</div>"
      ],
      "text/plain": [
       "       ratings_count                                              title  \\\n",
       "10336        4597666                            Twilight (Twilight  #1)   \n",
       "1697         2530894                The Hobbit  or There and Back Again   \n",
       "1462         2457092                             The Catcher in the Rye   \n",
       "307          2418736               Angels & Demons (Robert Langdon  #1)   \n",
       "3            2339585  Harry Potter and the Prisoner of Azkaban (Harr...   \n",
       "1            2153167  Harry Potter and the Order of the Phoenix (Har...   \n",
       "23           2128944  The Fellowship of the Ring (The Lord of the Ri...   \n",
       "2114         2111750                                        Animal Farm   \n",
       "0            2095690  Harry Potter and the Half-Blood Prince (Harry ...   \n",
       "5015         1893917                                   Romeo and Juliet   \n",
       "\n",
       "                                                 authors  \n",
       "10336                                    Stephenie Meyer  \n",
       "1697                                      J.R.R. Tolkien  \n",
       "1462                                       J.D. Salinger  \n",
       "307                                            Dan Brown  \n",
       "3                             J.K. Rowling/Mary GrandPré  \n",
       "1                             J.K. Rowling/Mary GrandPré  \n",
       "23                                        J.R.R. Tolkien  \n",
       "2114             George Orwell/Boris Grabnar/Peter Škerl  \n",
       "0                             J.K. Rowling/Mary GrandPré  \n",
       "5015   William Shakespeare/Paul Werstine/Barbara A. M...  "
      ]
     },
     "execution_count": 28,
     "metadata": {},
     "output_type": "execute_result"
    }
   ],
   "source": [
    "#Maximum ratings_count books for 2000's\n",
    "books20s.sort_values(\"ratings_count\",ascending = False)[[\"ratings_count\",\"title\",\"authors\"]].head(10)"
   ]
  },
  {
   "cell_type": "markdown",
   "metadata": {},
   "source": [
    "### To Find top 10 books which received the highest text review counts counts\n",
    "\n",
    "**~text_reviews_count : Total number of written text reviews the book received.**"
   ]
  },
  {
   "cell_type": "code",
   "execution_count": 68,
   "metadata": {},
   "outputs": [
    {
     "data": {
      "text/html": [
       "<div>\n",
       "<style scoped>\n",
       "    .dataframe tbody tr th:only-of-type {\n",
       "        vertical-align: middle;\n",
       "    }\n",
       "\n",
       "    .dataframe tbody tr th {\n",
       "        vertical-align: top;\n",
       "    }\n",
       "\n",
       "    .dataframe thead th {\n",
       "        text-align: right;\n",
       "    }\n",
       "</style>\n",
       "<table border=\"1\" class=\"dataframe\">\n",
       "  <thead>\n",
       "    <tr style=\"text-align: right;\">\n",
       "      <th></th>\n",
       "      <th>text_reviews_count</th>\n",
       "      <th>title</th>\n",
       "      <th>authors</th>\n",
       "    </tr>\n",
       "  </thead>\n",
       "  <tbody>\n",
       "    <tr>\n",
       "      <th>10336</th>\n",
       "      <td>94265</td>\n",
       "      <td>Twilight (Twilight  #1)</td>\n",
       "      <td>Stephenie Meyer</td>\n",
       "    </tr>\n",
       "    <tr>\n",
       "      <th>5270</th>\n",
       "      <td>86881</td>\n",
       "      <td>The Book Thief</td>\n",
       "      <td>Markus Zusak/Cao Xuân Việt Khương</td>\n",
       "    </tr>\n",
       "    <tr>\n",
       "      <th>1069</th>\n",
       "      <td>56604</td>\n",
       "      <td>The Giver (The Giver  #1)</td>\n",
       "      <td>Lois Lowry</td>\n",
       "    </tr>\n",
       "    <tr>\n",
       "      <th>284</th>\n",
       "      <td>55843</td>\n",
       "      <td>The Alchemist</td>\n",
       "      <td>Paulo Coelho/Alan R. Clarke/Özdemir İnce</td>\n",
       "    </tr>\n",
       "    <tr>\n",
       "      <th>10700</th>\n",
       "      <td>52759</td>\n",
       "      <td>Water for Elephants</td>\n",
       "      <td>Sara Gruen</td>\n",
       "    </tr>\n",
       "    <tr>\n",
       "      <th>7309</th>\n",
       "      <td>47951</td>\n",
       "      <td>The Lightning Thief (Percy Jackson and the Oly...</td>\n",
       "      <td>Rick Riordan</td>\n",
       "    </tr>\n",
       "    <tr>\n",
       "      <th>5407</th>\n",
       "      <td>47620</td>\n",
       "      <td>Eat  Pray  Love</td>\n",
       "      <td>Elizabeth Gilbert</td>\n",
       "    </tr>\n",
       "    <tr>\n",
       "      <th>2060</th>\n",
       "      <td>46176</td>\n",
       "      <td>The Glass Castle</td>\n",
       "      <td>Jeannette Walls</td>\n",
       "    </tr>\n",
       "    <tr>\n",
       "      <th>1462</th>\n",
       "      <td>43499</td>\n",
       "      <td>The Catcher in the Rye</td>\n",
       "      <td>J.D. Salinger</td>\n",
       "    </tr>\n",
       "    <tr>\n",
       "      <th>3</th>\n",
       "      <td>36325</td>\n",
       "      <td>Harry Potter and the Prisoner of Azkaban (Harr...</td>\n",
       "      <td>J.K. Rowling/Mary GrandPré</td>\n",
       "    </tr>\n",
       "  </tbody>\n",
       "</table>\n",
       "</div>"
      ],
      "text/plain": [
       "       text_reviews_count                                              title  \\\n",
       "10336               94265                            Twilight (Twilight  #1)   \n",
       "5270                86881                                     The Book Thief   \n",
       "1069                56604                          The Giver (The Giver  #1)   \n",
       "284                 55843                                      The Alchemist   \n",
       "10700               52759                                Water for Elephants   \n",
       "7309                47951  The Lightning Thief (Percy Jackson and the Oly...   \n",
       "5407                47620                                    Eat  Pray  Love   \n",
       "2060                46176                                   The Glass Castle   \n",
       "1462                43499                             The Catcher in the Rye   \n",
       "3                   36325  Harry Potter and the Prisoner of Azkaban (Harr...   \n",
       "\n",
       "                                        authors  \n",
       "10336                           Stephenie Meyer  \n",
       "5270          Markus Zusak/Cao Xuân Việt Khương  \n",
       "1069                                 Lois Lowry  \n",
       "284    Paulo Coelho/Alan R. Clarke/Özdemir İnce  \n",
       "10700                                Sara Gruen  \n",
       "7309                               Rick Riordan  \n",
       "5407                          Elizabeth Gilbert  \n",
       "2060                            Jeannette Walls  \n",
       "1462                              J.D. Salinger  \n",
       "3                    J.K. Rowling/Mary GrandPré  "
      ]
     },
     "execution_count": 68,
     "metadata": {},
     "output_type": "execute_result"
    }
   ],
   "source": [
    "book = books.sort_values(\"text_reviews_count\",ascending = False)[[\"text_reviews_count\",\"title\",\"authors\",]].head(10)\n",
    "book"
   ]
  },
  {
   "cell_type": "code",
   "execution_count": 70,
   "metadata": {},
   "outputs": [
    {
     "data": {
      "application/vnd.plotly.v1+json": {
       "config": {
        "linkText": "Export to plot.ly",
        "plotlyServerURL": "https://plot.ly",
        "showLink": false
       },
       "data": [
        {
         "type": "bar",
         "uid": "f3b73617-cc71-439a-98c6-dc1216c562fe",
         "x": [
          "Twilight (Twilight  #1)",
          "The Book Thief",
          "The Giver (The Giver  #1)",
          "The Alchemist",
          "Water for Elephants",
          "The Lightning Thief (Percy Jackson and the Olympians  #1)",
          "Eat  Pray  Love",
          "The Glass Castle",
          "The Catcher in the Rye",
          "Harry Potter and the Prisoner of Azkaban (Harry Potter  #3)"
         ],
         "y": [
          94265,
          86881,
          56604,
          55843,
          52759,
          47951,
          47620,
          46176,
          43499,
          36325
         ]
        }
       ],
       "layout": {
        "barmode": "group",
        "plot_bgcolor": "rgb(222, 222, 222)",
        "title": {
         "text": "Top 10 books with highest text reviews counts"
        }
       }
      },
      "text/html": [
       "<div>\n",
       "        \n",
       "        \n",
       "            <div id=\"7ac59dfc-79d8-498a-a1c6-1caebdbf6d63\" class=\"plotly-graph-div\" style=\"height:525px; width:100%;\"></div>\n",
       "            <script type=\"text/javascript\">\n",
       "                require([\"plotly\"], function(Plotly) {\n",
       "                    window.PLOTLYENV=window.PLOTLYENV || {};\n",
       "                    window.PLOTLYENV.BASE_URL='https://plot.ly';\n",
       "                    \n",
       "                if (document.getElementById(\"7ac59dfc-79d8-498a-a1c6-1caebdbf6d63\")) {\n",
       "                    Plotly.newPlot(\n",
       "                        '7ac59dfc-79d8-498a-a1c6-1caebdbf6d63',\n",
       "                        [{\"type\": \"bar\", \"uid\": \"f3b73617-cc71-439a-98c6-dc1216c562fe\", \"x\": [\"Twilight (Twilight  #1)\", \"The Book Thief\", \"The Giver (The Giver  #1)\", \"The Alchemist\", \"Water for Elephants\", \"The Lightning Thief (Percy Jackson and the Olympians  #1)\", \"Eat  Pray  Love\", \"The Glass Castle\", \"The Catcher in the Rye\", \"Harry Potter and the Prisoner of Azkaban (Harry Potter  #3)\"], \"y\": [94265, 86881, 56604, 55843, 52759, 47951, 47620, 46176, 43499, 36325]}],\n",
       "                        {\"barmode\": \"group\", \"plot_bgcolor\": \"rgb(222, 222, 222)\", \"title\": {\"text\": \"Top 10 books with highest text reviews counts\"}},\n",
       "                        {\"showLink\": false, \"linkText\": \"Export to plot.ly\", \"plotlyServerURL\": \"https://plot.ly\", \"responsive\": true}\n",
       "                    ).then(function(){\n",
       "                            \n",
       "var gd = document.getElementById('7ac59dfc-79d8-498a-a1c6-1caebdbf6d63');\n",
       "var x = new MutationObserver(function (mutations, observer) {{\n",
       "        var display = window.getComputedStyle(gd).display;\n",
       "        if (!display || display === 'none') {{\n",
       "            console.log([gd, 'removed!']);\n",
       "            Plotly.purge(gd);\n",
       "            observer.disconnect();\n",
       "        }}\n",
       "}});\n",
       "\n",
       "// Listen for the removal of the full notebook cells\n",
       "var notebookContainer = gd.closest('#notebook-container');\n",
       "if (notebookContainer) {{\n",
       "    x.observe(notebookContainer, {childList: true});\n",
       "}}\n",
       "\n",
       "// Listen for the clearing of the current output cell\n",
       "var outputEl = gd.closest('.output');\n",
       "if (outputEl) {{\n",
       "    x.observe(outputEl, {childList: true});\n",
       "}}\n",
       "\n",
       "                        })\n",
       "                };\n",
       "                });\n",
       "            </script>\n",
       "        </div>"
      ]
     },
     "metadata": {},
     "output_type": "display_data"
    }
   ],
   "source": [
    "book.reset_index(drop = True)\n",
    "#plt.figure(figsize=(21,8))\n",
    "#plt.xticks(fontsize=15)\n",
    "#plt.yticks(fontsize=15)\n",
    "#sns.barplot(x=\"text_reviews_count\",y=\"title\",data=book,palette='Spectral')\n",
    "\n",
    "trace1 = go.Bar(x = book[\"title\"],y=book[\"text_reviews_count\"])\n",
    "layout = go.Layout(barmode = \"group\",title = \"Top 10 books with highest text reviews counts\", plot_bgcolor='rgb(222, 222, 222)')\n",
    "fig = go.Figure(data = [trace1],layout = layout)\n",
    "iplot(fig,filename = \"grouped-bar\")"
   ]
  },
  {
   "cell_type": "markdown",
   "metadata": {},
   "source": [
    "~Hence twilight gets maximum number of both text review counts and ratings_count "
   ]
  },
  {
   "cell_type": "code",
   "execution_count": 190,
   "metadata": {},
   "outputs": [
    {
     "name": "stderr",
     "output_type": "stream",
     "text": [
      "C:\\Users\\lenovo\\Anaconda3\\lib\\site-packages\\matplotlib\\cbook\\__init__.py:424: MatplotlibDeprecationWarning: \n",
      "Passing one of 'on', 'true', 'off', 'false' as a boolean is deprecated; use an actual boolean (True/False) instead.\n",
      "  warn_deprecated(\"2.2\", \"Passing one of 'on', 'true', 'off', 'false' as a \"\n",
      "C:\\Users\\lenovo\\Anaconda3\\lib\\site-packages\\matplotlib\\cbook\\__init__.py:424: MatplotlibDeprecationWarning: \n",
      "Passing one of 'on', 'true', 'off', 'false' as a boolean is deprecated; use an actual boolean (True/False) instead.\n",
      "  warn_deprecated(\"2.2\", \"Passing one of 'on', 'true', 'off', 'false' as a \"\n"
     ]
    },
    {
     "data": {
      "image/png": "[encoded data removed]",
      "text/plain": [
       "<Figure size 432x432 with 3 Axes>"
      ]
     },
     "metadata": {},
     "output_type": "display_data"
    }
   ],
   "source": [
    "index1 = [10336,5270,1069,284]\n",
    "fig1 = plt.figure(figsize=(6, 6))\n",
    "radar = ComplexRadar(fig1, variables, ranges)\n",
    "    \n",
    "for i in index1:\n",
    "    data =(books.loc[i,[\"average_rating\",\"ratings_count\",\"text_reviews_count\"] ] )\n",
    "    data = (data[\"average_rating\"],data[\"ratings_count\"],data[\"text_reviews_count\"])\n",
    "    radar.plot(data)\n",
    "    radar.fill(data,alpha = 0.2)\n",
    "plt.show()"
   ]
  },
  {
   "cell_type": "markdown",
   "metadata": {},
   "source": [
    "**~The above radar plot is of top 5 books which have the maximum text_reviews_count.But we can see that ratings_count and rext_reviews_count are little bit related to each other but ratings_count and average_rating are not that much related as ratings_count and text_reviews_count.**"
   ]
  },
  {
   "cell_type": "markdown",
   "metadata": {},
   "source": [
    "### Finding top 10 maximum text_reviews_count books for 1990's and 2000's "
   ]
  },
  {
   "cell_type": "code",
   "execution_count": 30,
   "metadata": {},
   "outputs": [
    {
     "data": {
      "text/html": [
       "<div>\n",
       "<style scoped>\n",
       "    .dataframe tbody tr th:only-of-type {\n",
       "        vertical-align: middle;\n",
       "    }\n",
       "\n",
       "    .dataframe tbody tr th {\n",
       "        vertical-align: top;\n",
       "    }\n",
       "\n",
       "    .dataframe thead th {\n",
       "        text-align: right;\n",
       "    }\n",
       "</style>\n",
       "<table border=\"1\" class=\"dataframe\">\n",
       "  <thead>\n",
       "    <tr style=\"text-align: right;\">\n",
       "      <th></th>\n",
       "      <th>text_reviews_count</th>\n",
       "      <th>title</th>\n",
       "      <th>authors</th>\n",
       "    </tr>\n",
       "  </thead>\n",
       "  <tbody>\n",
       "    <tr>\n",
       "      <th>284</th>\n",
       "      <td>55843</td>\n",
       "      <td>The Alchemist</td>\n",
       "      <td>Paulo Coelho/Alan R. Clarke/Özdemir İnce</td>\n",
       "    </tr>\n",
       "    <tr>\n",
       "      <th>4415</th>\n",
       "      <td>34692</td>\n",
       "      <td>Harry Potter and the Chamber of Secrets (Harry...</td>\n",
       "      <td>J.K. Rowling/Mary GrandPré</td>\n",
       "    </tr>\n",
       "    <tr>\n",
       "      <th>2116</th>\n",
       "      <td>26199</td>\n",
       "      <td>Lord of the Flies</td>\n",
       "      <td>William Golding</td>\n",
       "    </tr>\n",
       "    <tr>\n",
       "      <th>1467</th>\n",
       "      <td>20014</td>\n",
       "      <td>Brave New World</td>\n",
       "      <td>Aldous Huxley</td>\n",
       "    </tr>\n",
       "    <tr>\n",
       "      <th>1430</th>\n",
       "      <td>19056</td>\n",
       "      <td>Slaughterhouse-Five</td>\n",
       "      <td>Kurt Vonnegut Jr.</td>\n",
       "    </tr>\n",
       "    <tr>\n",
       "      <th>566</th>\n",
       "      <td>18198</td>\n",
       "      <td>Into the Wild</td>\n",
       "      <td>Jon Krakauer</td>\n",
       "    </tr>\n",
       "    <tr>\n",
       "      <th>5093</th>\n",
       "      <td>15323</td>\n",
       "      <td>Gone with the Wind</td>\n",
       "      <td>Margaret Mitchell</td>\n",
       "    </tr>\n",
       "    <tr>\n",
       "      <th>3156</th>\n",
       "      <td>15105</td>\n",
       "      <td>The Shining</td>\n",
       "      <td>Stephen King</td>\n",
       "    </tr>\n",
       "    <tr>\n",
       "      <th>4796</th>\n",
       "      <td>14944</td>\n",
       "      <td>Dracula</td>\n",
       "      <td>Bram Stoker/Nina Auerbach/David J. Skal</td>\n",
       "    </tr>\n",
       "    <tr>\n",
       "      <th>235</th>\n",
       "      <td>14702</td>\n",
       "      <td>Atlas Shrugged</td>\n",
       "      <td>Ayn Rand/Leonard Peikoff</td>\n",
       "    </tr>\n",
       "  </tbody>\n",
       "</table>\n",
       "</div>"
      ],
      "text/plain": [
       "      text_reviews_count                                              title  \\\n",
       "284                55843                                      The Alchemist   \n",
       "4415               34692  Harry Potter and the Chamber of Secrets (Harry...   \n",
       "2116               26199                                  Lord of the Flies   \n",
       "1467               20014                                    Brave New World   \n",
       "1430               19056                                Slaughterhouse-Five   \n",
       "566                18198                                      Into the Wild   \n",
       "5093               15323                                 Gone with the Wind   \n",
       "3156               15105                                        The Shining   \n",
       "4796               14944                                            Dracula   \n",
       "235                14702                                     Atlas Shrugged   \n",
       "\n",
       "                                       authors  \n",
       "284   Paulo Coelho/Alan R. Clarke/Özdemir İnce  \n",
       "4415                J.K. Rowling/Mary GrandPré  \n",
       "2116                           William Golding  \n",
       "1467                             Aldous Huxley  \n",
       "1430                         Kurt Vonnegut Jr.  \n",
       "566                               Jon Krakauer  \n",
       "5093                         Margaret Mitchell  \n",
       "3156                              Stephen King  \n",
       "4796   Bram Stoker/Nina Auerbach/David J. Skal  \n",
       "235                   Ayn Rand/Leonard Peikoff  "
      ]
     },
     "execution_count": 30,
     "metadata": {},
     "output_type": "execute_result"
    }
   ],
   "source": [
    "#maximum  text_reviews_count books for 1990's\n",
    "books19s.sort_values(\"text_reviews_count\",ascending = False)[[\"text_reviews_count\",\"title\",\"authors\"]].head(10)"
   ]
  },
  {
   "cell_type": "markdown",
   "metadata": {},
   "source": [
    "<img src=\"Images/book6.png\">\n",
    "\n",
    "\n",
    "\n",
    "~The Alchemist gets the maximum text_reviews_count for 1990's"
   ]
  },
  {
   "cell_type": "code",
   "execution_count": 31,
   "metadata": {},
   "outputs": [
    {
     "data": {
      "text/html": [
       "<div>\n",
       "<style scoped>\n",
       "    .dataframe tbody tr th:only-of-type {\n",
       "        vertical-align: middle;\n",
       "    }\n",
       "\n",
       "    .dataframe tbody tr th {\n",
       "        vertical-align: top;\n",
       "    }\n",
       "\n",
       "    .dataframe thead th {\n",
       "        text-align: right;\n",
       "    }\n",
       "</style>\n",
       "<table border=\"1\" class=\"dataframe\">\n",
       "  <thead>\n",
       "    <tr style=\"text-align: right;\">\n",
       "      <th></th>\n",
       "      <th>text_reviews_count</th>\n",
       "      <th>title</th>\n",
       "      <th>authors</th>\n",
       "    </tr>\n",
       "  </thead>\n",
       "  <tbody>\n",
       "    <tr>\n",
       "      <th>10336</th>\n",
       "      <td>94265</td>\n",
       "      <td>Twilight (Twilight  #1)</td>\n",
       "      <td>Stephenie Meyer</td>\n",
       "    </tr>\n",
       "    <tr>\n",
       "      <th>5270</th>\n",
       "      <td>86881</td>\n",
       "      <td>The Book Thief</td>\n",
       "      <td>Markus Zusak/Cao Xuân Việt Khương</td>\n",
       "    </tr>\n",
       "    <tr>\n",
       "      <th>1069</th>\n",
       "      <td>56604</td>\n",
       "      <td>The Giver (The Giver  #1)</td>\n",
       "      <td>Lois Lowry</td>\n",
       "    </tr>\n",
       "    <tr>\n",
       "      <th>10700</th>\n",
       "      <td>52759</td>\n",
       "      <td>Water for Elephants</td>\n",
       "      <td>Sara Gruen</td>\n",
       "    </tr>\n",
       "    <tr>\n",
       "      <th>7309</th>\n",
       "      <td>47951</td>\n",
       "      <td>The Lightning Thief (Percy Jackson and the Oly...</td>\n",
       "      <td>Rick Riordan</td>\n",
       "    </tr>\n",
       "    <tr>\n",
       "      <th>5407</th>\n",
       "      <td>47620</td>\n",
       "      <td>Eat  Pray  Love</td>\n",
       "      <td>Elizabeth Gilbert</td>\n",
       "    </tr>\n",
       "    <tr>\n",
       "      <th>2060</th>\n",
       "      <td>46176</td>\n",
       "      <td>The Glass Castle</td>\n",
       "      <td>Jeannette Walls</td>\n",
       "    </tr>\n",
       "    <tr>\n",
       "      <th>1462</th>\n",
       "      <td>43499</td>\n",
       "      <td>The Catcher in the Rye</td>\n",
       "      <td>J.D. Salinger</td>\n",
       "    </tr>\n",
       "    <tr>\n",
       "      <th>3</th>\n",
       "      <td>36325</td>\n",
       "      <td>Harry Potter and the Prisoner of Azkaban (Harr...</td>\n",
       "      <td>J.K. Rowling/Mary GrandPré</td>\n",
       "    </tr>\n",
       "    <tr>\n",
       "      <th>310</th>\n",
       "      <td>35877</td>\n",
       "      <td>The Da Vinci Code (Robert Langdon  #2)</td>\n",
       "      <td>Dan Brown</td>\n",
       "    </tr>\n",
       "  </tbody>\n",
       "</table>\n",
       "</div>"
      ],
      "text/plain": [
       "       text_reviews_count                                              title  \\\n",
       "10336               94265                            Twilight (Twilight  #1)   \n",
       "5270                86881                                     The Book Thief   \n",
       "1069                56604                          The Giver (The Giver  #1)   \n",
       "10700               52759                                Water for Elephants   \n",
       "7309                47951  The Lightning Thief (Percy Jackson and the Oly...   \n",
       "5407                47620                                    Eat  Pray  Love   \n",
       "2060                46176                                   The Glass Castle   \n",
       "1462                43499                             The Catcher in the Rye   \n",
       "3                   36325  Harry Potter and the Prisoner of Azkaban (Harr...   \n",
       "310                 35877             The Da Vinci Code (Robert Langdon  #2)   \n",
       "\n",
       "                                 authors  \n",
       "10336                    Stephenie Meyer  \n",
       "5270   Markus Zusak/Cao Xuân Việt Khương  \n",
       "1069                          Lois Lowry  \n",
       "10700                         Sara Gruen  \n",
       "7309                        Rick Riordan  \n",
       "5407                   Elizabeth Gilbert  \n",
       "2060                     Jeannette Walls  \n",
       "1462                       J.D. Salinger  \n",
       "3             J.K. Rowling/Mary GrandPré  \n",
       "310                            Dan Brown  "
      ]
     },
     "execution_count": 31,
     "metadata": {},
     "output_type": "execute_result"
    }
   ],
   "source": [
    "#Maximum text_reviews_count books for 2000's\n",
    "books20s.sort_values(\"text_reviews_count\",ascending = False)[[\"text_reviews_count\",\"title\",\"authors\"]].head(10)"
   ]
  },
  {
   "cell_type": "markdown",
   "metadata": {},
   "source": [
    "### Top 10  publishers which have the maximum sum of ratings_counts"
   ]
  },
  {
   "cell_type": "code",
   "execution_count": 32,
   "metadata": {},
   "outputs": [
    {
     "data": {
      "text/plain": [
       "publisher\n",
       "Penguin Books                10967448\n",
       "Scholastic Inc.               6617877\n",
       "Little  Brown and Company     5493803\n",
       "Penguin Classics              5281321\n",
       "Vintage                       5001557\n",
       "Back Bay Books                4198407\n",
       "Bantam                        3949319\n",
       "Pocket Books                  3883190\n",
       "Grand Central Publishing      3586469\n",
       "Houghton Mifflin              3173586\n",
       "Name: ratings_count, dtype: int64"
      ]
     },
     "execution_count": 32,
     "metadata": {},
     "output_type": "execute_result"
    }
   ],
   "source": [
    "books.groupby(\"publisher\").ratings_count.sum().sort_values(ascending = False).head(10)"
   ]
  },
  {
   "cell_type": "markdown",
   "metadata": {},
   "source": [
    "~Above list is of the publisher which have the maxmium sum of ratings_counts"
   ]
  },
  {
   "cell_type": "markdown",
   "metadata": {},
   "source": [
    "<img src=\"Images/book7.png\">"
   ]
  },
  {
   "cell_type": "markdown",
   "metadata": {},
   "source": [
    "**Penguin publisher with maxmium sum of rating_counts**"
   ]
  },
  {
   "cell_type": "markdown",
   "metadata": {},
   "source": [
    "### Finding top 10 publisers with maximum sum of ratings_counts books for 1990's and 2000's "
   ]
  },
  {
   "cell_type": "code",
   "execution_count": 33,
   "metadata": {},
   "outputs": [
    {
     "data": {
      "text/plain": [
       "publisher\n",
       "Penguin Books                10967448\n",
       "Scholastic Inc.               6617877\n",
       "Little  Brown and Company     5493803\n",
       "Penguin Classics              5281321\n",
       "Vintage                       5001557\n",
       "Back Bay Books                4198407\n",
       "Bantam                        3949319\n",
       "Pocket Books                  3883190\n",
       "Grand Central Publishing      3586469\n",
       "Houghton Mifflin              3173586\n",
       "Name: ratings_count, dtype: int64"
      ]
     },
     "execution_count": 33,
     "metadata": {},
     "output_type": "execute_result"
    }
   ],
   "source": [
    "#publisher with maximum sum of ratings_counts books for 1990's\n",
    "books.groupby(\"publisher\").ratings_count.sum().sort_values(ascending = False).head(10)\n"
   ]
  },
  {
   "cell_type": "code",
   "execution_count": 34,
   "metadata": {},
   "outputs": [
    {
     "data": {
      "text/plain": [
       "publisher\n",
       "Penguin Books                8337081\n",
       "Scholastic Inc.              6614426\n",
       "Little  Brown and Company    5449549\n",
       "Penguin Classics             4756565\n",
       "Back Bay Books               3987415\n",
       "Bantam                       3770453\n",
       "Vintage                      3762044\n",
       "Pocket Books                 3584874\n",
       "Grand Central Publishing     3233844\n",
       "Houghton Mifflin             3161452\n",
       "Name: ratings_count, dtype: int64"
      ]
     },
     "execution_count": 34,
     "metadata": {},
     "output_type": "execute_result"
    }
   ],
   "source": [
    "#publisher with maximum sum of ratings_counts books for 2000's\n",
    "books20s.groupby(\"publisher\").ratings_count.sum().sort_values(ascending = False).head(10)"
   ]
  },
  {
   "cell_type": "markdown",
   "metadata": {},
   "source": [
    "### Top 10 publishers which have maximum sum of text_reviews_count"
   ]
  },
  {
   "cell_type": "code",
   "execution_count": 35,
   "metadata": {},
   "outputs": [
    {
     "data": {
      "text/plain": [
       "publisher\n",
       "Penguin Books                296756\n",
       "Vintage                      242670\n",
       "Alfred A. Knopf              139108\n",
       "Little  Brown and Company    125560\n",
       "Penguin Classics             107382\n",
       "Harper Perennial             103038\n",
       "HarperCollins                103031\n",
       "Bantam                       102505\n",
       "Back Bay Books                99836\n",
       "Scholastic Inc.               94863\n",
       "Name: text_reviews_count, dtype: int64"
      ]
     },
     "execution_count": 35,
     "metadata": {},
     "output_type": "execute_result"
    }
   ],
   "source": [
    "books.groupby(\"publisher\").text_reviews_count.sum().sort_values(ascending = False).head(10)"
   ]
  },
  {
   "cell_type": "markdown",
   "metadata": {},
   "source": [
    "~Above list of the publisher which have maximum sum of text counts"
   ]
  },
  {
   "cell_type": "markdown",
   "metadata": {},
   "source": [
    "### Finding top 10 publisers with maximum sum of text_reviews_count books for 1990's and 2000's "
   ]
  },
  {
   "cell_type": "code",
   "execution_count": 36,
   "metadata": {},
   "outputs": [
    {
     "data": {
      "text/plain": [
       "publisher\n",
       "HarperCollins                               62407\n",
       "Vintage                                     60842\n",
       "Penguin Books                               53080\n",
       "Anchor Books                                40705\n",
       "Arthur A. Levine Books / Scholastic Inc.    34692\n",
       "Dial Press                                  25743\n",
       "Warner Books                                24183\n",
       "Plume                                       20907\n",
       "HarperPerennial / Perennial Classics        20014\n",
       "Ballantine Books                            18115\n",
       "Name: text_reviews_count, dtype: int64"
      ]
     },
     "execution_count": 36,
     "metadata": {},
     "output_type": "execute_result"
    }
   ],
   "source": [
    "#publisher with maximum sum of ratings_counts books for 1990's\n",
    "books19s.groupby(\"publisher\").text_reviews_count.sum().sort_values(ascending = False).head(10)"
   ]
  },
  {
   "cell_type": "markdown",
   "metadata": {},
   "source": [
    "<img src=\"Images/book8.png\">"
   ]
  },
  {
   "cell_type": "markdown",
   "metadata": {},
   "source": [
    "**~ Athough Penguin Books were always at the top both for 1900's and 2000's combined but HarperCollins was the has the most text_reviews_count for 1900's**"
   ]
  },
  {
   "cell_type": "code",
   "execution_count": 37,
   "metadata": {},
   "outputs": [
    {
     "data": {
      "text/plain": [
       "publisher\n",
       "Penguin Books                243676\n",
       "Vintage                      181828\n",
       "Alfred A. Knopf              138916\n",
       "Little  Brown and Company    123881\n",
       "Harper Perennial              97265\n",
       "Penguin Classics              96722\n",
       "Bantam                        96131\n",
       "Scholastic Inc.               94619\n",
       "Back Bay Books                88847\n",
       "Grand Central Publishing      82434\n",
       "Name: text_reviews_count, dtype: int64"
      ]
     },
     "execution_count": 37,
     "metadata": {},
     "output_type": "execute_result"
    }
   ],
   "source": [
    "#publisher with maximum sum of ratings_counts books for 2000's\n",
    "books20s.groupby(\"publisher\").text_reviews_count.sum().sort_values(ascending = False).head(10)"
   ]
  },
  {
   "cell_type": "markdown",
   "metadata": {},
   "source": [
    "### *After analysing about the publishers we came to know that*\n",
    "\n",
    "**1).Penguin Books has the maximum ratings_count sum for both 1900's and 2000's**\n",
    "\n",
    "**2).Penguin Books also has the maxium text_reviews_count for 2000's**\n",
    "\n",
    "**3).HarperCollins has the maximum text_reviews_count for 1900's**\n",
    "\n",
    "~Thus we can conclude that Penguin Books turns out to be the most reviewed publishers for both 1900's and 2000's"
   ]
  },
  {
   "cell_type": "markdown",
   "metadata": {},
   "source": [
    "<img src=\"Images/book7.png\">"
   ]
  },
  {
   "cell_type": "markdown",
   "metadata": {},
   "source": [
    "### Top 10 authors  which have the maximum sum of ratings_counts"
   ]
  },
  {
   "cell_type": "code",
   "execution_count": 38,
   "metadata": {},
   "outputs": [
    {
     "data": {
      "text/plain": [
       "authors\n",
       "J.K. Rowling/Mary GrandPré                 8923980\n",
       "J.R.R. Tolkien                             4776638\n",
       "Stephenie Meyer                            4597666\n",
       "Dan Brown                                  4135380\n",
       "Nicholas Sparks                            3048149\n",
       "Stephen King                               2985634\n",
       "J.D. Salinger                              2777908\n",
       "Rick Riordan                               2413447\n",
       "George Orwell/Boris Grabnar/Peter Škerl    2111750\n",
       "John Steinbeck                             2091579\n",
       "Name: ratings_count, dtype: int64"
      ]
     },
     "execution_count": 38,
     "metadata": {},
     "output_type": "execute_result"
    }
   ],
   "source": [
    "books.groupby(\"authors\").ratings_count.sum().sort_values(ascending = False).head(10)"
   ]
  },
  {
   "cell_type": "markdown",
   "metadata": {},
   "source": [
    "~Above list of the authors which have maximum sum of ratings_count"
   ]
  },
  {
   "cell_type": "markdown",
   "metadata": {},
   "source": [
    "### Finding top 10 authors with maximum sum of ratings_counts books for 1990's and 2000's "
   ]
  },
  {
   "cell_type": "code",
   "execution_count": 39,
   "metadata": {},
   "outputs": [
    {
     "data": {
      "text/plain": [
       "authors\n",
       "J.K. Rowling/Mary GrandPré                  2294110\n",
       "Stephen King                                2094875\n",
       "William Golding                             2040511\n",
       "Paulo Coelho/Alan R. Clarke/Özdemir İnce    1631221\n",
       "Aldous Huxley                               1262532\n",
       "Kurt Vonnegut Jr.                           1251982\n",
       "Jon Krakauer                                1151755\n",
       "Margaret Mitchell                            999139\n",
       "Bram Stoker/Nina Auerbach/David J. Skal      774987\n",
       "Frances Hodgson Burnett                      764134\n",
       "Name: ratings_count, dtype: int64"
      ]
     },
     "execution_count": 39,
     "metadata": {},
     "output_type": "execute_result"
    }
   ],
   "source": [
    "#publisher with maximum sum of ratings_counts books for 1990's\n",
    "books19s.groupby(\"authors\").ratings_count.sum().sort_values(ascending = False).head(10)"
   ]
  },
  {
   "cell_type": "code",
   "execution_count": 40,
   "metadata": {},
   "outputs": [
    {
     "data": {
      "text/plain": [
       "authors\n",
       "J.K. Rowling/Mary GrandPré                 6629870\n",
       "J.R.R. Tolkien                             4776349\n",
       "Stephenie Meyer                            4597666\n",
       "Dan Brown                                  4135380\n",
       "Nicholas Sparks                            2843906\n",
       "J.D. Salinger                              2777657\n",
       "Rick Riordan                               2413447\n",
       "George Orwell/Boris Grabnar/Peter Škerl    2111750\n",
       "John Steinbeck                             2088939\n",
       "Jodi Picoult                               2026166\n",
       "Name: ratings_count, dtype: int64"
      ]
     },
     "execution_count": 40,
     "metadata": {},
     "output_type": "execute_result"
    }
   ],
   "source": [
    "#publisher with maximum sum of ratings_counts books for 1990's\n",
    "books20s.groupby(\"authors\").ratings_count.sum().sort_values(ascending = False).head(10)"
   ]
  },
  {
   "cell_type": "markdown",
   "metadata": {},
   "source": [
    "### Top 10 authors  which have the maximum sum of text_reviews_count"
   ]
  },
  {
   "cell_type": "code",
   "execution_count": 41,
   "metadata": {},
   "outputs": [
    {
     "data": {
      "text/plain": [
       "authors\n",
       "J.K. Rowling/Mary GrandPré           128006\n",
       "Stephenie Meyer                       94265\n",
       "Markus Zusak/Cao Xuân Việt Khương     86881\n",
       "Jodi Picoult                          79300\n",
       "Lois Lowry                            74197\n",
       "Rick Riordan                          69769\n",
       "Diana Gabaldon                        66428\n",
       "Dan Brown                             60875\n",
       "Nicholas Sparks                       60426\n",
       "Stephen King                          55897\n",
       "Name: text_reviews_count, dtype: int64"
      ]
     },
     "execution_count": 41,
     "metadata": {},
     "output_type": "execute_result"
    }
   ],
   "source": [
    "books.groupby(\"authors\").text_reviews_count.sum().sort_values(ascending = False).head(10)"
   ]
  },
  {
   "cell_type": "markdown",
   "metadata": {},
   "source": [
    "### Finding top 10 authors with maximum sum of text_reviews_count for 1990's and 2000's "
   ]
  },
  {
   "cell_type": "code",
   "execution_count": 42,
   "metadata": {},
   "outputs": [
    {
     "data": {
      "text/plain": [
       "authors\n",
       "Paulo Coelho/Alan R. Clarke/Özdemir İnce    55843\n",
       "Stephen King                                35041\n",
       "J.K. Rowling/Mary GrandPré                  34705\n",
       "Jon Krakauer                                29899\n",
       "Kurt Vonnegut Jr.                           27451\n",
       "William Golding                             26542\n",
       "Ayn Rand/Leonard Peikoff                    25851\n",
       "Aldous Huxley                               20570\n",
       "Margaret Mitchell                           15323\n",
       "Bram Stoker/Nina Auerbach/David J. Skal     14944\n",
       "Name: text_reviews_count, dtype: int64"
      ]
     },
     "execution_count": 42,
     "metadata": {},
     "output_type": "execute_result"
    }
   ],
   "source": [
    "#publisher with maximum sum of ratings_counts books for 1990's\n",
    "books19s.groupby(\"authors\").text_reviews_count.sum().sort_values(ascending = False).head(10)"
   ]
  },
  {
   "cell_type": "code",
   "execution_count": 43,
   "metadata": {},
   "outputs": [
    {
     "data": {
      "text/plain": [
       "authors\n",
       "Stephenie Meyer                      94265\n",
       "J.K. Rowling/Mary GrandPré           93301\n",
       "Markus Zusak/Cao Xuân Việt Khương    86881\n",
       "Jodi Picoult                         76827\n",
       "Lois Lowry                           74153\n",
       "Rick Riordan                         69769\n",
       "Diana Gabaldon                       65509\n",
       "Dan Brown                            60875\n",
       "Nicholas Sparks                      56712\n",
       "Agatha Christie                      53291\n",
       "Name: text_reviews_count, dtype: int64"
      ]
     },
     "execution_count": 43,
     "metadata": {},
     "output_type": "execute_result"
    }
   ],
   "source": [
    "#publisher with maximum sum of ratings_counts books for 1990's\n",
    "books20s.groupby(\"authors\").text_reviews_count.sum().sort_values(ascending = False).head(10)"
   ]
  },
  {
   "cell_type": "markdown",
   "metadata": {},
   "source": [
    "### *After analysing about the authors we came to know that*\n",
    "\n",
    "**1).J.K. Rowling and Mary GrandPré both together have the maximum number of sum of rating_counts for 2000's and 1900's.**  \n",
    "\n",
    "**2).J.K. Rowling and Mary GrandPré both together have the maximum number of sum of text_reviews_count**\n",
    "\n",
    "**3).Paulo Coelho,Alan R. Clarke and Özdemir İnce has the maximum number of text_reviews_count for 1900's**\n",
    "\n",
    "**4).Stephenie Meyer has the maximum number text_reviews_count for 2000's**\n",
    "\n",
    "~Thus we can see J.K. Rowling and Mary GrandPré together were best reviewed author."
   ]
  },
  {
   "cell_type": "code",
   "execution_count": 44,
   "metadata": {},
   "outputs": [
    {
     "data": {
      "text/plain": [
       "0       Harry Potter and the Half-Blood Prince (Harry ...\n",
       "1       Harry Potter and the Order of the Phoenix (Har...\n",
       "3       Harry Potter and the Prisoner of Azkaban (Harr...\n",
       "4       Harry Potter Boxed Set  Books 1-5 (Harry Potte...\n",
       "4415    Harry Potter and the Chamber of Secrets (Harry...\n",
       "8873    Harry Potter and the Sorcerer's Stone (Harry P...\n",
       "Name: title, dtype: object"
      ]
     },
     "execution_count": 44,
     "metadata": {},
     "output_type": "execute_result"
    }
   ],
   "source": [
    "books[books[\"authors\"] == \"J.K. Rowling/Mary GrandPré\"][\"title\"]"
   ]
  },
  {
   "cell_type": "code",
   "execution_count": 198,
   "metadata": {},
   "outputs": [],
   "source": [
    "books[\"reviews\"] = books[\"text_reviews_count\"] + books[\"ratings_count\"]"
   ]
  },
  {
   "cell_type": "markdown",
   "metadata": {},
   "source": [
    "ShubhangiDabral13..."
   ]
  }
 ],
 "metadata": {
  "kernelspec": {
   "display_name": "Python 3",
   "language": "python",
   "name": "python3"
  },
  "language_info": {
   "codemirror_mode": {
    "name": "ipython",
    "version": 3
   },
   "file_extension": ".py",
   "mimetype": "text/x-python",
   "name": "python",
   "nbconvert_exporter": "python",
   "pygments_lexer": "ipython3",
   "version": "3.7.1"
  }
 },
 "nbformat": 4,
 "nbformat_minor": 2
}
