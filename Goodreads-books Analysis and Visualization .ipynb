{
 "cells": [
  {
   "cell_type": "markdown",
   "metadata": {},
   "source": [
    "# Goodreads-books\n"
   ]
  },
  {
   "cell_type": "markdown",
   "metadata": {},
   "source": [
    "<img src=\"Images/book1.jpg\">"
   ]
  },
  {
   "cell_type": "markdown",
   "metadata": {},
   "source": [
    "The basic idea behind analysing the Goodreads dataset is to get a fair idea about the relationships between the multiple attributes a book might have, such as:the aggregrate rating of each book, the trend of the authors over the years and books with numerous languages. With over a hundred thousand ratings, there are books which just tend to become popular as each day seems to pass.\n",
    "\n",
    "We've always conisdered the magical persona books seem to hold, and with this notebook, we step out on a journey to see what kind of books really drives people to read in this era of modern smart devices.\n",
    "\n",
    "With such a vast, overwhelming number of factors, we'll go over such demographics:\n",
    "\n",
    "* Does any relationship lie between ratings and the total ratings given?\n",
    "* Where do majority of the books lie, in terms of ratings - Does reading a book really bring forth bias for the ratings?\n",
    "* Do authors tend to perform same over time, with all their newer books? Or do they just fizzle out.\n",
    "* Do number of pages make an impact on reading styles, ratings and popularity?\n",
    "* Can books be recommended based on ratings? Is that a factor which can work?"
   ]
  },
  {
   "cell_type": "markdown",
   "metadata": {},
   "source": [
    "## 1).Import Module\n",
    "\n",
    "* **Packages Imported** :-\n",
    "\n",
    "    1. sys: access to system parameters\n",
    "    2. numpy : for numerical computation\n",
    "    3. pandas: for data manipulation and analysis\n",
    "    4. matplotlib: plotting library\n",
    "    5. seaborn: plotting library based on matplotlib\n",
    "    6. sklearn: machine learning library"
   ]
  },
  {
   "cell_type": "code",
   "execution_count": 1,
   "metadata": {},
   "outputs": [],
   "source": [
    "# load packages\n",
    "import numpy as np\n",
    "import pandas as pd"
   ]
  },
  {
   "cell_type": "code",
   "execution_count": 2,
   "metadata": {},
   "outputs": [],
   "source": [
    "#import visual modules\n",
    "import seaborn as sns\n",
    "import matplotlib.pyplot as plt\n",
    "sns.set_style(\"whitegrid\")"
   ]
  },
  {
   "cell_type": "code",
   "execution_count": 3,
   "metadata": {},
   "outputs": [
    {
     "name": "stdout",
     "output_type": "stream",
     "text": [
      "Numpy version: 1.15.4\n",
      "Pandas version: 0.23.4\n",
      "Seaborn version: 0.9.0\n"
     ]
    }
   ],
   "source": [
    "## version of packages used\n",
    "print(f'Numpy version: {np.__version__}')\n",
    "print(f'Pandas version: {pd.__version__}')\n",
    "#print(f'Matplotlib version: {plt.__version__}')\n",
    "print(f'Seaborn version: {sns.__version__}')"
   ]
  },
  {
   "cell_type": "markdown",
   "metadata": {},
   "source": [
    "## 2).The Data\n",
    "\n",
    "**The data contain following information :-**\n",
    "\n",
    "* **bookIDA :** unique Identification number for each book.\n",
    "* **title :** The name under which the book was published.\n",
    "* **authors :** Names of the authors of the book. Multiple authors are delimited with/.\n",
    "* **average_rating :** The average rating of the book received in total.\n",
    "* **isbn :** Another unique number to identify the book, the International Standard Book Number.\n",
    "* **isbn13 :** A 13-digit ISBN to identify the book, instead of the standard 11-digit ISBN.\n",
    "* **language_code :** Helps understand what is the primary language of the book. For instance, eng is standard for English.\n",
    "* **num_pages :** Number of pages the book contains.\n",
    "* **ratings_count :** Total number of ratings the book received.\n",
    "* **text_reviews_count :** Total number of written text reviews the book received.\n",
    "* **publication_date :** Date when the book was first published.\n",
    "* **publisher :** The name of the publisher. \n",
    "\n",
    "\n",
    "**Read the data from the books.csv file in Books folder**"
   ]
  },
  {
   "cell_type": "code",
   "execution_count": 4,
   "metadata": {},
   "outputs": [
    {
     "name": "stderr",
     "output_type": "stream",
     "text": [
      "b'Skipping line 3350: expected 12 fields, saw 13\\nSkipping line 4704: expected 12 fields, saw 13\\nSkipping line 5879: expected 12 fields, saw 13\\nSkipping line 8981: expected 12 fields, saw 13\\n'\n"
     ]
    }
   ],
   "source": [
    "#save the data from books.csv in books dataframe\n",
    "books=pd.read_csv(\"Books/books.csv\",error_bad_lines=False)"
   ]
  },
  {
   "cell_type": "markdown",
   "metadata": {},
   "source": [
    "Using head function to display the data in books"
   ]
  },
  {
   "cell_type": "code",
   "execution_count": 5,
   "metadata": {},
   "outputs": [
    {
     "data": {
      "text/html": [
       "<div>\n",
       "<style scoped>\n",
       "    .dataframe tbody tr th:only-of-type {\n",
       "        vertical-align: middle;\n",
       "    }\n",
       "\n",
       "    .dataframe tbody tr th {\n",
       "        vertical-align: top;\n",
       "    }\n",
       "\n",
       "    .dataframe thead th {\n",
       "        text-align: right;\n",
       "    }\n",
       "</style>\n",
       "<table border=\"1\" class=\"dataframe\">\n",
       "  <thead>\n",
       "    <tr style=\"text-align: right;\">\n",
       "      <th></th>\n",
       "      <th>bookID</th>\n",
       "      <th>title</th>\n",
       "      <th>authors</th>\n",
       "      <th>average_rating</th>\n",
       "      <th>isbn</th>\n",
       "      <th>isbn13</th>\n",
       "      <th>language_code</th>\n",
       "      <th>num_pages</th>\n",
       "      <th>ratings_count</th>\n",
       "      <th>text_reviews_count</th>\n",
       "      <th>publication_date</th>\n",
       "      <th>publisher</th>\n",
       "    </tr>\n",
       "  </thead>\n",
       "  <tbody>\n",
       "    <tr>\n",
       "      <th>0</th>\n",
       "      <td>1</td>\n",
       "      <td>Harry Potter and the Half-Blood Prince (Harry ...</td>\n",
       "      <td>J.K. Rowling/Mary GrandPré</td>\n",
       "      <td>4.57</td>\n",
       "      <td>0439785960</td>\n",
       "      <td>9780439785969</td>\n",
       "      <td>eng</td>\n",
       "      <td>652</td>\n",
       "      <td>2095690</td>\n",
       "      <td>27591</td>\n",
       "      <td>9/16/2006</td>\n",
       "      <td>Scholastic Inc.</td>\n",
       "    </tr>\n",
       "    <tr>\n",
       "      <th>1</th>\n",
       "      <td>2</td>\n",
       "      <td>Harry Potter and the Order of the Phoenix (Har...</td>\n",
       "      <td>J.K. Rowling/Mary GrandPré</td>\n",
       "      <td>4.49</td>\n",
       "      <td>0439358078</td>\n",
       "      <td>9780439358071</td>\n",
       "      <td>eng</td>\n",
       "      <td>870</td>\n",
       "      <td>2153167</td>\n",
       "      <td>29221</td>\n",
       "      <td>9/1/2004</td>\n",
       "      <td>Scholastic Inc.</td>\n",
       "    </tr>\n",
       "    <tr>\n",
       "      <th>2</th>\n",
       "      <td>4</td>\n",
       "      <td>Harry Potter and the Chamber of Secrets (Harry...</td>\n",
       "      <td>J.K. Rowling</td>\n",
       "      <td>4.42</td>\n",
       "      <td>0439554896</td>\n",
       "      <td>9780439554893</td>\n",
       "      <td>eng</td>\n",
       "      <td>352</td>\n",
       "      <td>6333</td>\n",
       "      <td>244</td>\n",
       "      <td>11/1/2003</td>\n",
       "      <td>Scholastic</td>\n",
       "    </tr>\n",
       "    <tr>\n",
       "      <th>3</th>\n",
       "      <td>5</td>\n",
       "      <td>Harry Potter and the Prisoner of Azkaban (Harr...</td>\n",
       "      <td>J.K. Rowling/Mary GrandPré</td>\n",
       "      <td>4.56</td>\n",
       "      <td>043965548X</td>\n",
       "      <td>9780439655484</td>\n",
       "      <td>eng</td>\n",
       "      <td>435</td>\n",
       "      <td>2339585</td>\n",
       "      <td>36325</td>\n",
       "      <td>5/1/2004</td>\n",
       "      <td>Scholastic Inc.</td>\n",
       "    </tr>\n",
       "    <tr>\n",
       "      <th>4</th>\n",
       "      <td>8</td>\n",
       "      <td>Harry Potter Boxed Set  Books 1-5 (Harry Potte...</td>\n",
       "      <td>J.K. Rowling/Mary GrandPré</td>\n",
       "      <td>4.78</td>\n",
       "      <td>0439682584</td>\n",
       "      <td>9780439682589</td>\n",
       "      <td>eng</td>\n",
       "      <td>2690</td>\n",
       "      <td>41428</td>\n",
       "      <td>164</td>\n",
       "      <td>9/13/2004</td>\n",
       "      <td>Scholastic</td>\n",
       "    </tr>\n",
       "  </tbody>\n",
       "</table>\n",
       "</div>"
      ],
      "text/plain": [
       "   bookID                                              title  \\\n",
       "0       1  Harry Potter and the Half-Blood Prince (Harry ...   \n",
       "1       2  Harry Potter and the Order of the Phoenix (Har...   \n",
       "2       4  Harry Potter and the Chamber of Secrets (Harry...   \n",
       "3       5  Harry Potter and the Prisoner of Azkaban (Harr...   \n",
       "4       8  Harry Potter Boxed Set  Books 1-5 (Harry Potte...   \n",
       "\n",
       "                      authors  average_rating        isbn         isbn13  \\\n",
       "0  J.K. Rowling/Mary GrandPré            4.57  0439785960  9780439785969   \n",
       "1  J.K. Rowling/Mary GrandPré            4.49  0439358078  9780439358071   \n",
       "2                J.K. Rowling            4.42  0439554896  9780439554893   \n",
       "3  J.K. Rowling/Mary GrandPré            4.56  043965548X  9780439655484   \n",
       "4  J.K. Rowling/Mary GrandPré            4.78  0439682584  9780439682589   \n",
       "\n",
       "  language_code    num_pages  ratings_count  text_reviews_count  \\\n",
       "0           eng          652        2095690               27591   \n",
       "1           eng          870        2153167               29221   \n",
       "2           eng          352           6333                 244   \n",
       "3           eng          435        2339585               36325   \n",
       "4           eng         2690          41428                 164   \n",
       "\n",
       "  publication_date        publisher  \n",
       "0        9/16/2006  Scholastic Inc.  \n",
       "1         9/1/2004  Scholastic Inc.  \n",
       "2        11/1/2003       Scholastic  \n",
       "3         5/1/2004  Scholastic Inc.  \n",
       "4        9/13/2004       Scholastic  "
      ]
     },
     "execution_count": 5,
     "metadata": {},
     "output_type": "execute_result"
    }
   ],
   "source": [
    "#displaying first 5 rows from the books datasset\n",
    "books.head()"
   ]
  },
  {
   "cell_type": "code",
   "execution_count": 6,
   "metadata": {},
   "outputs": [
    {
     "data": {
      "text/plain": [
       "(11123, 12)"
      ]
     },
     "execution_count": 6,
     "metadata": {},
     "output_type": "execute_result"
    }
   ],
   "source": [
    "#using shape funtion to get the number of rows and column of the data.\n",
    "books.shape"
   ]
  },
  {
   "cell_type": "markdown",
   "metadata": {},
   "source": [
    "There are 11123 rows and 12 columns in books dataframe\n"
   ]
  },
  {
   "cell_type": "code",
   "execution_count": 7,
   "metadata": {},
   "outputs": [
    {
     "data": {
      "text/html": [
       "<div>\n",
       "<style scoped>\n",
       "    .dataframe tbody tr th:only-of-type {\n",
       "        vertical-align: middle;\n",
       "    }\n",
       "\n",
       "    .dataframe tbody tr th {\n",
       "        vertical-align: top;\n",
       "    }\n",
       "\n",
       "    .dataframe thead th {\n",
       "        text-align: right;\n",
       "    }\n",
       "</style>\n",
       "<table border=\"1\" class=\"dataframe\">\n",
       "  <thead>\n",
       "    <tr style=\"text-align: right;\">\n",
       "      <th></th>\n",
       "      <th>bookID</th>\n",
       "      <th>average_rating</th>\n",
       "      <th>isbn13</th>\n",
       "      <th>num_pages</th>\n",
       "      <th>ratings_count</th>\n",
       "      <th>text_reviews_count</th>\n",
       "    </tr>\n",
       "  </thead>\n",
       "  <tbody>\n",
       "    <tr>\n",
       "      <th>count</th>\n",
       "      <td>11123.000000</td>\n",
       "      <td>11123.000000</td>\n",
       "      <td>1.112300e+04</td>\n",
       "      <td>11123.000000</td>\n",
       "      <td>1.112300e+04</td>\n",
       "      <td>11123.000000</td>\n",
       "    </tr>\n",
       "    <tr>\n",
       "      <th>mean</th>\n",
       "      <td>21310.856963</td>\n",
       "      <td>3.934075</td>\n",
       "      <td>9.759880e+12</td>\n",
       "      <td>336.405556</td>\n",
       "      <td>1.794285e+04</td>\n",
       "      <td>542.048099</td>\n",
       "    </tr>\n",
       "    <tr>\n",
       "      <th>std</th>\n",
       "      <td>13094.727252</td>\n",
       "      <td>0.350485</td>\n",
       "      <td>4.429758e+11</td>\n",
       "      <td>241.152626</td>\n",
       "      <td>1.124992e+05</td>\n",
       "      <td>2576.619589</td>\n",
       "    </tr>\n",
       "    <tr>\n",
       "      <th>min</th>\n",
       "      <td>1.000000</td>\n",
       "      <td>0.000000</td>\n",
       "      <td>8.987060e+09</td>\n",
       "      <td>0.000000</td>\n",
       "      <td>0.000000e+00</td>\n",
       "      <td>0.000000</td>\n",
       "    </tr>\n",
       "    <tr>\n",
       "      <th>25%</th>\n",
       "      <td>10277.500000</td>\n",
       "      <td>3.770000</td>\n",
       "      <td>9.780345e+12</td>\n",
       "      <td>192.000000</td>\n",
       "      <td>1.040000e+02</td>\n",
       "      <td>9.000000</td>\n",
       "    </tr>\n",
       "    <tr>\n",
       "      <th>50%</th>\n",
       "      <td>20287.000000</td>\n",
       "      <td>3.960000</td>\n",
       "      <td>9.780582e+12</td>\n",
       "      <td>299.000000</td>\n",
       "      <td>7.450000e+02</td>\n",
       "      <td>47.000000</td>\n",
       "    </tr>\n",
       "    <tr>\n",
       "      <th>75%</th>\n",
       "      <td>32104.500000</td>\n",
       "      <td>4.140000</td>\n",
       "      <td>9.780872e+12</td>\n",
       "      <td>416.000000</td>\n",
       "      <td>5.000500e+03</td>\n",
       "      <td>238.000000</td>\n",
       "    </tr>\n",
       "    <tr>\n",
       "      <th>max</th>\n",
       "      <td>45641.000000</td>\n",
       "      <td>5.000000</td>\n",
       "      <td>9.790008e+12</td>\n",
       "      <td>6576.000000</td>\n",
       "      <td>4.597666e+06</td>\n",
       "      <td>94265.000000</td>\n",
       "    </tr>\n",
       "  </tbody>\n",
       "</table>\n",
       "</div>"
      ],
      "text/plain": [
       "             bookID  average_rating        isbn13     num_pages  \\\n",
       "count  11123.000000    11123.000000  1.112300e+04  11123.000000   \n",
       "mean   21310.856963        3.934075  9.759880e+12    336.405556   \n",
       "std    13094.727252        0.350485  4.429758e+11    241.152626   \n",
       "min        1.000000        0.000000  8.987060e+09      0.000000   \n",
       "25%    10277.500000        3.770000  9.780345e+12    192.000000   \n",
       "50%    20287.000000        3.960000  9.780582e+12    299.000000   \n",
       "75%    32104.500000        4.140000  9.780872e+12    416.000000   \n",
       "max    45641.000000        5.000000  9.790008e+12   6576.000000   \n",
       "\n",
       "       ratings_count  text_reviews_count  \n",
       "count   1.112300e+04        11123.000000  \n",
       "mean    1.794285e+04          542.048099  \n",
       "std     1.124992e+05         2576.619589  \n",
       "min     0.000000e+00            0.000000  \n",
       "25%     1.040000e+02            9.000000  \n",
       "50%     7.450000e+02           47.000000  \n",
       "75%     5.000500e+03          238.000000  \n",
       "max     4.597666e+06        94265.000000  "
      ]
     },
     "execution_count": 7,
     "metadata": {},
     "output_type": "execute_result"
    }
   ],
   "source": [
    "#Using describe function to view the statistical details like percentile ,mean,std etc.\n",
    "books.describe()"
   ]
  },
  {
   "cell_type": "markdown",
   "metadata": {},
   "source": [
    "~From the data we got various statistical information like max averge_rating is 5. which means the rating is out of 5."
   ]
  },
  {
   "cell_type": "code",
   "execution_count": 8,
   "metadata": {},
   "outputs": [
    {
     "name": "stdout",
     "output_type": "stream",
     "text": [
      "<class 'pandas.core.frame.DataFrame'>\n",
      "RangeIndex: 11123 entries, 0 to 11122\n",
      "Data columns (total 12 columns):\n",
      "bookID                11123 non-null int64\n",
      "title                 11123 non-null object\n",
      "authors               11123 non-null object\n",
      "average_rating        11123 non-null float64\n",
      "isbn                  11123 non-null object\n",
      "isbn13                11123 non-null int64\n",
      "language_code         11123 non-null object\n",
      "  num_pages           11123 non-null int64\n",
      "ratings_count         11123 non-null int64\n",
      "text_reviews_count    11123 non-null int64\n",
      "publication_date      11123 non-null object\n",
      "publisher             11123 non-null object\n",
      "dtypes: float64(1), int64(5), object(6)\n",
      "memory usage: 1.0+ MB\n"
     ]
    }
   ],
   "source": [
    "#using the info function to get the concise summary of the dataframe\n",
    "books.info()"
   ]
  },
  {
   "cell_type": "markdown",
   "metadata": {},
   "source": [
    " **We get the info that:-**\n",
    "   * bookID ,isbn13 ,num_pages ,ratings_count ,text_reviews_count are of datatype int64\n",
    "   * title ,authors ,isbn ,language_code ,publication_date ,publisher  are of datatype object\n",
    "   * average_rating are of dataype float64\n",
    "   \n",
    "   ~Also the memory required for the books dataframe is about 1.0+ MB\n",
    "   \n",
    "\n",
    "\n",
    "**To make our data small and fast we need to decrease the memory space required by the data**\n",
    "So for that we need to know what exact memory space taken by each column and the exact space of the dataframe."
   ]
  },
  {
   "cell_type": "markdown",
   "metadata": {},
   "source": [
    "## 2).Making dataframe faster and smaller"
   ]
  },
  {
   "cell_type": "code",
   "execution_count": 9,
   "metadata": {},
   "outputs": [
    {
     "name": "stdout",
     "output_type": "stream",
     "text": [
      "<class 'pandas.core.frame.DataFrame'>\n",
      "RangeIndex: 11123 entries, 0 to 11122\n",
      "Data columns (total 12 columns):\n",
      "bookID                11123 non-null int64\n",
      "title                 11123 non-null object\n",
      "authors               11123 non-null object\n",
      "average_rating        11123 non-null float64\n",
      "isbn                  11123 non-null object\n",
      "isbn13                11123 non-null int64\n",
      "language_code         11123 non-null object\n",
      "  num_pages           11123 non-null int64\n",
      "ratings_count         11123 non-null int64\n",
      "text_reviews_count    11123 non-null int64\n",
      "publication_date      11123 non-null object\n",
      "publisher             11123 non-null object\n",
      "dtypes: float64(1), int64(5), object(6)\n",
      "memory usage: 5.2 MB\n"
     ]
    }
   ],
   "source": [
    "#To get exact memory space books dataframe is using\n",
    "books.info(memory_usage = \"deep\")"
   ]
  },
  {
   "cell_type": "markdown",
   "metadata": {},
   "source": [
    "~The total memory usage is 5.2MB"
   ]
  },
  {
   "cell_type": "code",
   "execution_count": 10,
   "metadata": {},
   "outputs": [
    {
     "data": {
      "text/plain": [
       "Index                      80\n",
       "bookID                  88984\n",
       "title                 1044646\n",
       "authors                925543\n",
       "average_rating          88984\n",
       "isbn                   745240\n",
       "isbn13                  88984\n",
       "language_code          670637\n",
       "  num_pages             88984\n",
       "ratings_count           88984\n",
       "text_reviews_count      88984\n",
       "publication_date       731048\n",
       "publisher              806283\n",
       "dtype: int64"
      ]
     },
     "execution_count": 10,
     "metadata": {},
     "output_type": "execute_result"
    }
   ],
   "source": [
    "#to get the memory usage of each individual column\n",
    "books.memory_usage(deep = True)"
   ]
  },
  {
   "cell_type": "markdown",
   "metadata": {},
   "source": [
    "**Making the books dataframe fast and small**\n",
    "* Converting publication_date from object to datetime datatype\n",
    "* Converting language_code from object to category "
   ]
  },
  {
   "cell_type": "code",
   "execution_count": 11,
   "metadata": {},
   "outputs": [],
   "source": [
    "#changing publication_date column from object to dateTime \n",
    "books[\"publication_date\"] = pd.to_datetime(books[\"publication_date\"],  errors='coerce')"
   ]
  },
  {
   "cell_type": "code",
   "execution_count": 12,
   "metadata": {},
   "outputs": [],
   "source": [
    "#changing language_code column from object to category\n",
    "books[\"language_code\"] = books[\"language_code\"].astype(\"category\")"
   ]
  },
  {
   "cell_type": "code",
   "execution_count": 13,
   "metadata": {},
   "outputs": [
    {
     "data": {
      "text/plain": [
       "0    5\n",
       "1    5\n",
       "2    5\n",
       "3    5\n",
       "4    5\n",
       "dtype: int8"
      ]
     },
     "execution_count": 13,
     "metadata": {},
     "output_type": "execute_result"
    }
   ],
   "source": [
    "books[\"language_code\"].cat.codes.head()"
   ]
  },
  {
   "cell_type": "markdown",
   "metadata": {},
   "source": [
    "**why we can remove isbn column from books dataframe?**\n",
    "\n",
    "There are 2 column isbn and isbn13 in books dataframe.isbn consist of 11 digit number assigned to books.But after 2007 13 digit number are assigned to books .Each book has a unique isbn13 and isbn 11. As both are acting as an identity for the books so we can remove one column i.e isbn column because now isbn13 is used."
   ]
  },
  {
   "cell_type": "code",
   "execution_count": 14,
   "metadata": {},
   "outputs": [],
   "source": [
    "#dropping the isbn column.\n",
    "books.drop([\"isbn\"],axis = 1,inplace = True)"
   ]
  },
  {
   "cell_type": "code",
   "execution_count": 15,
   "metadata": {},
   "outputs": [
    {
     "name": "stdout",
     "output_type": "stream",
     "text": [
      "<class 'pandas.core.frame.DataFrame'>\n",
      "RangeIndex: 11123 entries, 0 to 11122\n",
      "Data columns (total 11 columns):\n",
      "bookID                11123 non-null int64\n",
      "title                 11123 non-null object\n",
      "authors               11123 non-null object\n",
      "average_rating        11123 non-null float64\n",
      "isbn13                11123 non-null int64\n",
      "language_code         11123 non-null category\n",
      "  num_pages           11123 non-null int64\n",
      "ratings_count         11123 non-null int64\n",
      "text_reviews_count    11123 non-null int64\n",
      "publication_date      11121 non-null datetime64[ns]\n",
      "publisher             11123 non-null object\n",
      "dtypes: category(1), datetime64[ns](1), float64(1), int64(5), object(3)\n",
      "memory usage: 3.3 MB\n"
     ]
    }
   ],
   "source": [
    "books.info(memory_usage = \"deep\")"
   ]
  },
  {
   "cell_type": "markdown",
   "metadata": {},
   "source": [
    "Now we can see that the memory usage is 3.3 MB from 5.2 MB. \n",
    "this is beneficial cause \n",
    "* will make books dataframe faster.\n",
    "* will become smaller"
   ]
  },
  {
   "cell_type": "code",
   "execution_count": 16,
   "metadata": {},
   "outputs": [
    {
     "name": "stdout",
     "output_type": "stream",
     "text": [
      "The dataframe contains books published from 1900 to 2020 year\n"
     ]
    }
   ],
   "source": [
    "print(\"The dataframe contains books published from {} to {} year\".format(books[\"publication_date\"].min().year,\n",
    "                                                                         books[\"publication_date\"].max().year))\n"
   ]
  },
  {
   "cell_type": "markdown",
   "metadata": {},
   "source": [
    "## 3).Data Analysis and Visualization\n"
   ]
  },
  {
   "cell_type": "markdown",
   "metadata": {},
   "source": [
    "when exploring the data there are many rows which do not have books ,so remove those rows."
   ]
  },
  {
   "cell_type": "code",
   "execution_count": 22,
   "metadata": {},
   "outputs": [
    {
     "data": {
      "text/plain": [
       "1061    Murder by Moonlight & Other Mysteries (New Adv...\n",
       "1064    The Unfortunate Tobacconist & Other Mysteries ...\n",
       "5474    The Goon Show  Volume 4: My Knees Have Fallen ...\n",
       "5475               The Goon Show: Moriarty Where Are You?\n",
       "5476    The Goon Show  Volume 11: He's Fallen in the W...\n",
       "Name: title, dtype: object"
      ]
     },
     "execution_count": 22,
     "metadata": {},
     "output_type": "execute_result"
    }
   ],
   "source": [
    "no_book = books[books[\"authors\"] == \"NOT A BOOK\"]\n",
    "no_book[\"title\"]"
   ]
  },
  {
   "cell_type": "markdown",
   "metadata": {},
   "source": [
    "The above list are not the books but the series so we have to delete those specific rows"
   ]
  },
  {
   "cell_type": "code",
   "execution_count": 23,
   "metadata": {},
   "outputs": [],
   "source": [
    "books.drop(no_book.index,axis = 0,inplace = True)"
   ]
  },
  {
   "cell_type": "markdown",
   "metadata": {},
   "source": [
    "~First analysing with respect to average rating"
   ]
  },
  {
   "cell_type": "code",
   "execution_count": 26,
   "metadata": {},
   "outputs": [
    {
     "data": {
      "text/html": [
       "<div>\n",
       "<style scoped>\n",
       "    .dataframe tbody tr th:only-of-type {\n",
       "        vertical-align: middle;\n",
       "    }\n",
       "\n",
       "    .dataframe tbody tr th {\n",
       "        vertical-align: top;\n",
       "    }\n",
       "\n",
       "    .dataframe thead th {\n",
       "        text-align: right;\n",
       "    }\n",
       "</style>\n",
       "<table border=\"1\" class=\"dataframe\">\n",
       "  <thead>\n",
       "    <tr style=\"text-align: right;\">\n",
       "      <th></th>\n",
       "      <th>average_rating</th>\n",
       "      <th>title</th>\n",
       "      <th>authors</th>\n",
       "    </tr>\n",
       "  </thead>\n",
       "  <tbody>\n",
       "    <tr>\n",
       "      <th>8544</th>\n",
       "      <td>5.0</td>\n",
       "      <td>Fanning the Flame: Bible  Cross  and Mission</td>\n",
       "      <td>Chris    Green/Chris Wright/Paul Douglas Gardner</td>\n",
       "    </tr>\n",
       "    <tr>\n",
       "      <th>855</th>\n",
       "      <td>5.0</td>\n",
       "      <td>Literature Circle Guide: Bridge to Terabithia:...</td>\n",
       "      <td>Tara MacCarthy</td>\n",
       "    </tr>\n",
       "    <tr>\n",
       "      <th>6184</th>\n",
       "      <td>5.0</td>\n",
       "      <td>Taxation of Mineral Rents</td>\n",
       "      <td>Ross Garnaut</td>\n",
       "    </tr>\n",
       "    <tr>\n",
       "      <th>6775</th>\n",
       "      <td>5.0</td>\n",
       "      <td>Delwau Duon: Peintiadau Nicholas Evans = Symph...</td>\n",
       "      <td>Nicholas    Evans/Rhonda  Evans</td>\n",
       "    </tr>\n",
       "    <tr>\n",
       "      <th>5648</th>\n",
       "      <td>5.0</td>\n",
       "      <td>Colossians and Philemon: A Critical and Exeget...</td>\n",
       "      <td>R. McL. Wilson</td>\n",
       "    </tr>\n",
       "    <tr>\n",
       "      <th>5647</th>\n",
       "      <td>5.0</td>\n",
       "      <td>Winchester Shotguns</td>\n",
       "      <td>Dennis Adler/R.L. Wilson</td>\n",
       "    </tr>\n",
       "    <tr>\n",
       "      <th>5023</th>\n",
       "      <td>5.0</td>\n",
       "      <td>The Complete Theory Fun Factory: Music Theory ...</td>\n",
       "      <td>Ian        Martin/Katie Elliott</td>\n",
       "    </tr>\n",
       "    <tr>\n",
       "      <th>4933</th>\n",
       "      <td>5.0</td>\n",
       "      <td>Bulgakov's the Master and Margarita: The Text ...</td>\n",
       "      <td>Elena N. Mahlow</td>\n",
       "    </tr>\n",
       "    <tr>\n",
       "      <th>4788</th>\n",
       "      <td>5.0</td>\n",
       "      <td>The Diamond Color Meditation: Color Pathway to...</td>\n",
       "      <td>John  Diamond</td>\n",
       "    </tr>\n",
       "    <tr>\n",
       "      <th>4125</th>\n",
       "      <td>5.0</td>\n",
       "      <td>Zone of the Enders: The 2nd Runner Official St...</td>\n",
       "      <td>Tim Bogenn</td>\n",
       "    </tr>\n",
       "  </tbody>\n",
       "</table>\n",
       "</div>"
      ],
      "text/plain": [
       "      average_rating                                              title  \\\n",
       "8544             5.0       Fanning the Flame: Bible  Cross  and Mission   \n",
       "855              5.0  Literature Circle Guide: Bridge to Terabithia:...   \n",
       "6184             5.0                          Taxation of Mineral Rents   \n",
       "6775             5.0  Delwau Duon: Peintiadau Nicholas Evans = Symph...   \n",
       "5648             5.0  Colossians and Philemon: A Critical and Exeget...   \n",
       "5647             5.0                                Winchester Shotguns   \n",
       "5023             5.0  The Complete Theory Fun Factory: Music Theory ...   \n",
       "4933             5.0  Bulgakov's the Master and Margarita: The Text ...   \n",
       "4788             5.0  The Diamond Color Meditation: Color Pathway to...   \n",
       "4125             5.0  Zone of the Enders: The 2nd Runner Official St...   \n",
       "\n",
       "                                               authors  \n",
       "8544  Chris    Green/Chris Wright/Paul Douglas Gardner  \n",
       "855                                     Tara MacCarthy  \n",
       "6184                                      Ross Garnaut  \n",
       "6775                   Nicholas    Evans/Rhonda  Evans  \n",
       "5648                                    R. McL. Wilson  \n",
       "5647                          Dennis Adler/R.L. Wilson  \n",
       "5023                   Ian        Martin/Katie Elliott  \n",
       "4933                                   Elena N. Mahlow  \n",
       "4788                                     John  Diamond  \n",
       "4125                                        Tim Bogenn  "
      ]
     },
     "execution_count": 26,
     "metadata": {},
     "output_type": "execute_result"
    }
   ],
   "source": [
    "#displaying list of 5 best rated books from 1900 to 2020.\n",
    "books.sort_values(\"average_rating\",ascending = False)[[\"average_rating\",\"title\",\"authors\"]].head(10)"
   ]
  },
  {
   "cell_type": "markdown",
   "metadata": {},
   "source": [
    "~Hence the Top average rated book is \n",
    "\n",
    "<img src=\"Images/book3.jpg\">"
   ]
  },
  {
   "cell_type": "markdown",
   "metadata": {},
   "source": [
    "**Now Finding the best top average_rated books for 1900s and 2000s**"
   ]
  },
  {
   "cell_type": "code",
   "execution_count": 24,
   "metadata": {},
   "outputs": [
    {
     "data": {
      "text/html": [
       "<div>\n",
       "<style scoped>\n",
       "    .dataframe tbody tr th:only-of-type {\n",
       "        vertical-align: middle;\n",
       "    }\n",
       "\n",
       "    .dataframe tbody tr th {\n",
       "        vertical-align: top;\n",
       "    }\n",
       "\n",
       "    .dataframe thead th {\n",
       "        text-align: right;\n",
       "    }\n",
       "</style>\n",
       "<table border=\"1\" class=\"dataframe\">\n",
       "  <thead>\n",
       "    <tr style=\"text-align: right;\">\n",
       "      <th></th>\n",
       "      <th>bookID</th>\n",
       "      <th>title</th>\n",
       "      <th>authors</th>\n",
       "      <th>average_rating</th>\n",
       "      <th>isbn13</th>\n",
       "      <th>language_code</th>\n",
       "      <th>num_pages</th>\n",
       "      <th>ratings_count</th>\n",
       "      <th>text_reviews_count</th>\n",
       "      <th>publication_date</th>\n",
       "      <th>publisher</th>\n",
       "    </tr>\n",
       "  </thead>\n",
       "  <tbody>\n",
       "    <tr>\n",
       "      <th>4933</th>\n",
       "      <td>17830</td>\n",
       "      <td>Bulgakov's the Master and Margarita: The Text ...</td>\n",
       "      <td>Elena N. Mahlow</td>\n",
       "      <td>5.00</td>\n",
       "      <td>9780533017423</td>\n",
       "      <td>eng</td>\n",
       "      <td>202</td>\n",
       "      <td>4</td>\n",
       "      <td>0</td>\n",
       "      <td>1975-01-01</td>\n",
       "      <td>Vantage Press</td>\n",
       "    </tr>\n",
       "    <tr>\n",
       "      <th>624</th>\n",
       "      <td>2034</td>\n",
       "      <td>Comoediae 1: Acharenses/Equites/Nubes/Vespae/P...</td>\n",
       "      <td>Aristophanes/F.W. Hall/W.M. Geldart</td>\n",
       "      <td>5.00</td>\n",
       "      <td>9780198145042</td>\n",
       "      <td>grc</td>\n",
       "      <td>364</td>\n",
       "      <td>0</td>\n",
       "      <td>0</td>\n",
       "      <td>1922-02-22</td>\n",
       "      <td>Oxford University Press  USA</td>\n",
       "    </tr>\n",
       "    <tr>\n",
       "      <th>6775</th>\n",
       "      <td>25426</td>\n",
       "      <td>Delwau Duon: Peintiadau Nicholas Evans = Symph...</td>\n",
       "      <td>Nicholas    Evans/Rhonda  Evans</td>\n",
       "      <td>5.00</td>\n",
       "      <td>9780862431358</td>\n",
       "      <td>wel</td>\n",
       "      <td>150</td>\n",
       "      <td>1</td>\n",
       "      <td>0</td>\n",
       "      <td>1987-06-22</td>\n",
       "      <td>Y Lolfa</td>\n",
       "    </tr>\n",
       "    <tr>\n",
       "      <th>6184</th>\n",
       "      <td>23276</td>\n",
       "      <td>Taxation of Mineral Rents</td>\n",
       "      <td>Ross Garnaut</td>\n",
       "      <td>5.00</td>\n",
       "      <td>9780198284543</td>\n",
       "      <td>eng</td>\n",
       "      <td>350</td>\n",
       "      <td>1</td>\n",
       "      <td>0</td>\n",
       "      <td>1983-11-17</td>\n",
       "      <td>Oxford University Press  USA</td>\n",
       "    </tr>\n",
       "    <tr>\n",
       "      <th>6973</th>\n",
       "      <td>26410</td>\n",
       "      <td>Wissenschaft der Logik: Die Lehre Vom Begriff ...</td>\n",
       "      <td>Georg Wilhelm Friedrich Hegel</td>\n",
       "      <td>4.78</td>\n",
       "      <td>9783787307678</td>\n",
       "      <td>ger</td>\n",
       "      <td>337</td>\n",
       "      <td>0</td>\n",
       "      <td>0</td>\n",
       "      <td>1994-01-01</td>\n",
       "      <td>F. Meiner</td>\n",
       "    </tr>\n",
       "    <tr>\n",
       "      <th>6589</th>\n",
       "      <td>24814</td>\n",
       "      <td>It's a Magical World (Calvin and Hobbes  #11)</td>\n",
       "      <td>Bill Watterson</td>\n",
       "      <td>4.76</td>\n",
       "      <td>9780836221367</td>\n",
       "      <td>eng</td>\n",
       "      <td>176</td>\n",
       "      <td>23875</td>\n",
       "      <td>303</td>\n",
       "      <td>1996-09-01</td>\n",
       "      <td>Andrews McMeel Publishing</td>\n",
       "    </tr>\n",
       "    <tr>\n",
       "      <th>6590</th>\n",
       "      <td>24816</td>\n",
       "      <td>Homicidal Psycho Jungle Cat (Calvin and Hobbes...</td>\n",
       "      <td>Bill Watterson</td>\n",
       "      <td>4.72</td>\n",
       "      <td>9780836217698</td>\n",
       "      <td>eng</td>\n",
       "      <td>176</td>\n",
       "      <td>15365</td>\n",
       "      <td>290</td>\n",
       "      <td>1994-09-06</td>\n",
       "      <td>Andrews McMeel Publishing</td>\n",
       "    </tr>\n",
       "    <tr>\n",
       "      <th>10937</th>\n",
       "      <td>44826</td>\n",
       "      <td>The Price of the Ticket: Collected Nonfiction ...</td>\n",
       "      <td>James Baldwin</td>\n",
       "      <td>4.70</td>\n",
       "      <td>9780312643065</td>\n",
       "      <td>eng</td>\n",
       "      <td>712</td>\n",
       "      <td>404</td>\n",
       "      <td>30</td>\n",
       "      <td>1985-09-15</td>\n",
       "      <td>St. Martin's Press</td>\n",
       "    </tr>\n",
       "    <tr>\n",
       "      <th>6591</th>\n",
       "      <td>24818</td>\n",
       "      <td>The Days Are Just Packed</td>\n",
       "      <td>Bill Watterson</td>\n",
       "      <td>4.69</td>\n",
       "      <td>9780836217353</td>\n",
       "      <td>eng</td>\n",
       "      <td>176</td>\n",
       "      <td>20308</td>\n",
       "      <td>244</td>\n",
       "      <td>1993-09-01</td>\n",
       "      <td>Andrews McMeel Publishing</td>\n",
       "    </tr>\n",
       "    <tr>\n",
       "      <th>2248</th>\n",
       "      <td>8048</td>\n",
       "      <td>Bill Buzz</td>\n",
       "      <td>Roger Hargreaves/Gray Jolliffe</td>\n",
       "      <td>4.67</td>\n",
       "      <td>9780679801153</td>\n",
       "      <td>eng</td>\n",
       "      <td>32</td>\n",
       "      <td>2</td>\n",
       "      <td>0</td>\n",
       "      <td>1989-10-14</td>\n",
       "      <td>Random House for Young Readers</td>\n",
       "    </tr>\n",
       "  </tbody>\n",
       "</table>\n",
       "</div>"
      ],
      "text/plain": [
       "       bookID                                              title  \\\n",
       "4933    17830  Bulgakov's the Master and Margarita: The Text ...   \n",
       "624      2034  Comoediae 1: Acharenses/Equites/Nubes/Vespae/P...   \n",
       "6775    25426  Delwau Duon: Peintiadau Nicholas Evans = Symph...   \n",
       "6184    23276                          Taxation of Mineral Rents   \n",
       "6973    26410  Wissenschaft der Logik: Die Lehre Vom Begriff ...   \n",
       "6589    24814      It's a Magical World (Calvin and Hobbes  #11)   \n",
       "6590    24816  Homicidal Psycho Jungle Cat (Calvin and Hobbes...   \n",
       "10937   44826  The Price of the Ticket: Collected Nonfiction ...   \n",
       "6591    24818                           The Days Are Just Packed   \n",
       "2248     8048                                          Bill Buzz   \n",
       "\n",
       "                                   authors  average_rating         isbn13  \\\n",
       "4933                       Elena N. Mahlow            5.00  9780533017423   \n",
       "624    Aristophanes/F.W. Hall/W.M. Geldart            5.00  9780198145042   \n",
       "6775       Nicholas    Evans/Rhonda  Evans            5.00  9780862431358   \n",
       "6184                          Ross Garnaut            5.00  9780198284543   \n",
       "6973         Georg Wilhelm Friedrich Hegel            4.78  9783787307678   \n",
       "6589                        Bill Watterson            4.76  9780836221367   \n",
       "6590                        Bill Watterson            4.72  9780836217698   \n",
       "10937                        James Baldwin            4.70  9780312643065   \n",
       "6591                        Bill Watterson            4.69  9780836217353   \n",
       "2248        Roger Hargreaves/Gray Jolliffe            4.67  9780679801153   \n",
       "\n",
       "      language_code    num_pages  ratings_count  text_reviews_count  \\\n",
       "4933            eng          202              4                   0   \n",
       "624             grc          364              0                   0   \n",
       "6775            wel          150              1                   0   \n",
       "6184            eng          350              1                   0   \n",
       "6973            ger          337              0                   0   \n",
       "6589            eng          176          23875                 303   \n",
       "6590            eng          176          15365                 290   \n",
       "10937           eng          712            404                  30   \n",
       "6591            eng          176          20308                 244   \n",
       "2248            eng           32              2                   0   \n",
       "\n",
       "      publication_date                       publisher  \n",
       "4933        1975-01-01                   Vantage Press  \n",
       "624         1922-02-22    Oxford University Press  USA  \n",
       "6775        1987-06-22                         Y Lolfa  \n",
       "6184        1983-11-17    Oxford University Press  USA  \n",
       "6973        1994-01-01                       F. Meiner  \n",
       "6589        1996-09-01       Andrews McMeel Publishing  \n",
       "6590        1994-09-06       Andrews McMeel Publishing  \n",
       "10937       1985-09-15              St. Martin's Press  \n",
       "6591        1993-09-01       Andrews McMeel Publishing  \n",
       "2248        1989-10-14  Random House for Young Readers  "
      ]
     },
     "execution_count": 24,
     "metadata": {},
     "output_type": "execute_result"
    }
   ],
   "source": [
    "#best top 10 average_rated of 1900s \n",
    "ts = pd.to_datetime(\"1/1/2000\")\n",
    "books19s = books.loc[books[\"publication_date\"] < ts, : ]\n",
    "books19s.sort_values(\"average_rating\",ascending = False).head(10)"
   ]
  },
  {
   "cell_type": "markdown",
   "metadata": {},
   "source": [
    "~The above list is the best 10 top average_rated books of 1900s"
   ]
  },
  {
   "cell_type": "code",
   "execution_count": 25,
   "metadata": {},
   "outputs": [
    {
     "data": {
      "text/html": [
       "<div>\n",
       "<style scoped>\n",
       "    .dataframe tbody tr th:only-of-type {\n",
       "        vertical-align: middle;\n",
       "    }\n",
       "\n",
       "    .dataframe tbody tr th {\n",
       "        vertical-align: top;\n",
       "    }\n",
       "\n",
       "    .dataframe thead th {\n",
       "        text-align: right;\n",
       "    }\n",
       "</style>\n",
       "<table border=\"1\" class=\"dataframe\">\n",
       "  <thead>\n",
       "    <tr style=\"text-align: right;\">\n",
       "      <th></th>\n",
       "      <th>average_rating</th>\n",
       "      <th>title</th>\n",
       "      <th>authors</th>\n",
       "    </tr>\n",
       "  </thead>\n",
       "  <tbody>\n",
       "    <tr>\n",
       "      <th>5648</th>\n",
       "      <td>5.0</td>\n",
       "      <td>Colossians and Philemon: A Critical and Exeget...</td>\n",
       "      <td>R. McL. Wilson</td>\n",
       "    </tr>\n",
       "    <tr>\n",
       "      <th>9720</th>\n",
       "      <td>5.0</td>\n",
       "      <td>The Irish Anatomist: A Study of Flann O'Brien</td>\n",
       "      <td>Keith Donohue</td>\n",
       "    </tr>\n",
       "    <tr>\n",
       "      <th>9282</th>\n",
       "      <td>5.0</td>\n",
       "      <td>Oliver Wendell Holmes in Paris: Medicine  Theo...</td>\n",
       "      <td>William C. Dowling</td>\n",
       "    </tr>\n",
       "    <tr>\n",
       "      <th>9324</th>\n",
       "      <td>5.0</td>\n",
       "      <td>Tyrannosaurus Wrecks (Stanley  #1)</td>\n",
       "      <td>Laura Driscoll/Alisa Klayman-Grodsky/Eric     ...</td>\n",
       "    </tr>\n",
       "    <tr>\n",
       "      <th>10262</th>\n",
       "      <td>5.0</td>\n",
       "      <td>Bill Gates: Computer Legend (Famous Lives)</td>\n",
       "      <td>Sara Barton-Wood</td>\n",
       "    </tr>\n",
       "    <tr>\n",
       "      <th>1243</th>\n",
       "      <td>5.0</td>\n",
       "      <td>Middlesex Borough (Images of America: New Jersey)</td>\n",
       "      <td>Middlesex Borough Heritage Committee</td>\n",
       "    </tr>\n",
       "    <tr>\n",
       "      <th>855</th>\n",
       "      <td>5.0</td>\n",
       "      <td>Literature Circle Guide: Bridge to Terabithia:...</td>\n",
       "      <td>Tara MacCarthy</td>\n",
       "    </tr>\n",
       "    <tr>\n",
       "      <th>5647</th>\n",
       "      <td>5.0</td>\n",
       "      <td>Winchester Shotguns</td>\n",
       "      <td>Dennis Adler/R.L. Wilson</td>\n",
       "    </tr>\n",
       "    <tr>\n",
       "      <th>786</th>\n",
       "      <td>5.0</td>\n",
       "      <td>Willem de Kooning: Late Paintings</td>\n",
       "      <td>Julie Sylvester/David Sylvester</td>\n",
       "    </tr>\n",
       "    <tr>\n",
       "      <th>6247</th>\n",
       "      <td>5.0</td>\n",
       "      <td>The New Big Book of America</td>\n",
       "      <td>Todd Davis/Marc Frey</td>\n",
       "    </tr>\n",
       "  </tbody>\n",
       "</table>\n",
       "</div>"
      ],
      "text/plain": [
       "       average_rating                                              title  \\\n",
       "5648              5.0  Colossians and Philemon: A Critical and Exeget...   \n",
       "9720              5.0      The Irish Anatomist: A Study of Flann O'Brien   \n",
       "9282              5.0  Oliver Wendell Holmes in Paris: Medicine  Theo...   \n",
       "9324              5.0                 Tyrannosaurus Wrecks (Stanley  #1)   \n",
       "10262             5.0         Bill Gates: Computer Legend (Famous Lives)   \n",
       "1243              5.0  Middlesex Borough (Images of America: New Jersey)   \n",
       "855               5.0  Literature Circle Guide: Bridge to Terabithia:...   \n",
       "5647              5.0                                Winchester Shotguns   \n",
       "786               5.0                  Willem de Kooning: Late Paintings   \n",
       "6247              5.0                        The New Big Book of America   \n",
       "\n",
       "                                                 authors  \n",
       "5648                                      R. McL. Wilson  \n",
       "9720                                       Keith Donohue  \n",
       "9282                                  William C. Dowling  \n",
       "9324   Laura Driscoll/Alisa Klayman-Grodsky/Eric     ...  \n",
       "10262                                   Sara Barton-Wood  \n",
       "1243                Middlesex Borough Heritage Committee  \n",
       "855                                       Tara MacCarthy  \n",
       "5647                            Dennis Adler/R.L. Wilson  \n",
       "786                      Julie Sylvester/David Sylvester  \n",
       "6247                                Todd Davis/Marc Frey  "
      ]
     },
     "execution_count": 25,
     "metadata": {},
     "output_type": "execute_result"
    }
   ],
   "source": [
    "books20s = books.loc[books[\"publication_date\"] >= ts, : ]\n",
    "books20s.sort_values(\"average_rating\",ascending = False)[[\"average_rating\",\"title\",\"authors\"]].head(10)"
   ]
  },
  {
   "cell_type": "markdown",
   "metadata": {},
   "source": [
    "~The above is the best 10 top average_rated books of 2000s "
   ]
  },
  {
   "cell_type": "markdown",
   "metadata": {},
   "source": [
    "ShubhangiDabral13..."
   ]
  }
 ],
 "metadata": {
  "kernelspec": {
   "display_name": "Python 3",
   "language": "python",
   "name": "python3"
  },
  "language_info": {
   "codemirror_mode": {
    "name": "ipython",
    "version": 3
   },
   "file_extension": ".py",
   "mimetype": "text/x-python",
   "name": "python",
   "nbconvert_exporter": "python",
   "pygments_lexer": "ipython3",
   "version": "3.7.1"
  }
 },
 "nbformat": 4,
 "nbformat_minor": 2
}
